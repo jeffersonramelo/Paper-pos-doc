{
  "nbformat": 4,
  "nbformat_minor": 0,
  "metadata": {
    "colab": {
      "provenance": [],
      "authorship_tag": "ABX9TyPBGmD5iDHOKerzaBAVed4b",
      "include_colab_link": true
    },
    "kernelspec": {
      "name": "python3",
      "display_name": "Python 3"
    },
    "language_info": {
      "name": "python"
    }
  },
  "cells": [
    {
      "cell_type": "markdown",
      "metadata": {
        "id": "view-in-github",
        "colab_type": "text"
      },
      "source": [
        "<a href=\"https://colab.research.google.com/github/jeffersonramelo/Paper-pos-doc/blob/main/C%C3%B3pia_de_modelos_tradicionais.ipynb\" target=\"_parent\"><img src=\"https://colab.research.google.com/assets/colab-badge.svg\" alt=\"Open In Colab\"/></a>"
      ]
    },
    {
      "cell_type": "code",
      "source": [
        "import pandas as pd\n",
        "\n",
        "# Caminho para o arquivo XLSX\n",
        "caminho_arquivo = '/content/Jefferson - Dados3 - Copia.xlsx'\n",
        "\n",
        "# Lê o arquivo XLSX\n",
        "dados = pd.read_excel(caminho_arquivo)\n",
        "\n",
        "# Agora, 'dados' contém os dados do arquivo XLSX\n",
        "# Visualizar o conteúdo do DataFrame \"dados\"\n",
        "print(dados)\n"
      ],
      "metadata": {
        "id": "DOE1GbH_7pjb",
        "colab": {
          "base_uri": "https://localhost:8080/"
        },
        "outputId": "d1525256-fb7b-46d0-c7f6-8fef6bc32437"
      },
      "execution_count": 73,
      "outputs": [
        {
          "output_type": "stream",
          "name": "stdout",
          "text": [
            "      id     COD                           SETOR  d1  d2  d3  d4  d5  d6  d7  \\\n",
            "0      1   RRRP3  Petróleo gás e biocombustíveis   0   0   0   0   0   1   0   \n",
            "1      2   TTEN3             Consumo não cíclico   0   0   1   0   0   0   0   \n",
            "2      3  QVQP3B                          Outros   0   0   0   0   0   0   0   \n",
            "3      4   ABCB4                      Financeiro   0   0   0   0   0   0   0   \n",
            "4      5   EALT4                Bens industriais   1   0   0   0   0   0   0   \n",
            "..   ...     ...                             ...  ..  ..  ..  ..  ..  ..  ..   \n",
            "389  391   WIZC3                      Financeiro   0   0   0   0   0   0   0   \n",
            "390  392   WLMM4                Bens industriais   1   0   0   0   0   0   0   \n",
            "391  393   YBRA3                          Outros   0   0   0   0   0   0   0   \n",
            "392  394   YDUQ3                 Consumo cíclico   0   1   0   0   0   0   0   \n",
            "393  395   ZAMP3                 Consumo cíclico   0   1   0   0   0   0   0   \n",
            "\n",
            "     ...  ORA2013  ORA2014  ORA2015  ORA2016 ORA2017 ORA2018 ORA2019 ORA2020  \\\n",
            "0    ...        -        -        -        -       0       0       0       0   \n",
            "1    ...        -        -        -        -       -       -       -       0   \n",
            "2    ...        0        0        0        0       0       0       0       0   \n",
            "3    ...        -        -        -        -       -       -       -       -   \n",
            "4    ...        0        0        0        0       0       0       0       0   \n",
            "..   ...      ...      ...      ...      ...     ...     ...     ...     ...   \n",
            "389  ...        -        0        0        0       0       0       0       0   \n",
            "390  ...        0        0        0        0       0       0       0  102837   \n",
            "391  ...        0        0        0        0       0       0       0       0   \n",
            "392  ...        0        0        0        0       0       0       0       0   \n",
            "393  ...        -        0        0        0       0      -2      17     300   \n",
            "\n",
            "    ORA2021 ORA2022  \n",
            "0         0       0  \n",
            "1         0       0  \n",
            "2         0       0  \n",
            "3         -       -  \n",
            "4         0       0  \n",
            "..      ...     ...  \n",
            "389       0       0  \n",
            "390   99077   98279  \n",
            "391       0       0  \n",
            "392       0       0  \n",
            "393     147       0  \n",
            "\n",
            "[394 rows x 153 columns]\n"
          ]
        }
      ]
    },
    {
      "cell_type": "markdown",
      "source": [
        "excluir setor financeiro e empresas com PL negativo"
      ],
      "metadata": {
        "id": "kEKhC6-Wf6ro"
      }
    },
    {
      "cell_type": "code",
      "source": [
        "# Agora, vamos remover as linhas onde 'd9' seja igual a 1\n",
        "dados = dados[dados['d11'] != 1]\n",
        "\n",
        "# A partir deste ponto, 'dados' conterá apenas as linhas onde 'd9' não é igual a 1\n",
        "print(dados)"
      ],
      "metadata": {
        "colab": {
          "base_uri": "https://localhost:8080/"
        },
        "id": "-cQ_iqhOf9H_",
        "outputId": "8649ac77-3ac8-4966-b2e9-465aca860980"
      },
      "execution_count": 74,
      "outputs": [
        {
          "output_type": "stream",
          "name": "stdout",
          "text": [
            "      id     COD                           SETOR  d1  d2  d3  d4  d5  d6  d7  \\\n",
            "0      1   RRRP3  Petróleo gás e biocombustíveis   0   0   0   0   0   1   0   \n",
            "1      2   TTEN3             Consumo não cíclico   0   0   1   0   0   0   0   \n",
            "2      3  QVQP3B                          Outros   0   0   0   0   0   0   0   \n",
            "4      5   EALT4                Bens industriais   1   0   0   0   0   0   0   \n",
            "5      6   AERI3                Bens industriais   1   0   0   0   0   0   0   \n",
            "..   ...     ...                             ...  ..  ..  ..  ..  ..  ..  ..   \n",
            "388  390   PORT3                Bens industriais   1   0   0   0   0   0   0   \n",
            "390  392   WLMM4                Bens industriais   1   0   0   0   0   0   0   \n",
            "391  393   YBRA3                          Outros   0   0   0   0   0   0   0   \n",
            "392  394   YDUQ3                 Consumo cíclico   0   1   0   0   0   0   0   \n",
            "393  395   ZAMP3                 Consumo cíclico   0   1   0   0   0   0   0   \n",
            "\n",
            "     ...  ORA2013  ORA2014  ORA2015  ORA2016 ORA2017 ORA2018 ORA2019 ORA2020  \\\n",
            "0    ...        -        -        -        -       0       0       0       0   \n",
            "1    ...        -        -        -        -       -       -       -       0   \n",
            "2    ...        0        0        0        0       0       0       0       0   \n",
            "4    ...        0        0        0        0       0       0       0       0   \n",
            "5    ...        -        -        -        -       0       0       0       0   \n",
            "..   ...      ...      ...      ...      ...     ...     ...     ...     ...   \n",
            "388  ...        0        0        0        0       0       0       0       0   \n",
            "390  ...        0        0        0        0       0       0       0  102837   \n",
            "391  ...        0        0        0        0       0       0       0       0   \n",
            "392  ...        0        0        0        0       0       0       0       0   \n",
            "393  ...        -        0        0        0       0      -2      17     300   \n",
            "\n",
            "    ORA2021 ORA2022  \n",
            "0         0       0  \n",
            "1         0       0  \n",
            "2         0       0  \n",
            "4         0       0  \n",
            "5         0       0  \n",
            "..      ...     ...  \n",
            "388       0  723446  \n",
            "390   99077   98279  \n",
            "391       0       0  \n",
            "392       0       0  \n",
            "393     147       0  \n",
            "\n",
            "[336 rows x 153 columns]\n"
          ]
        }
      ]
    },
    {
      "cell_type": "code",
      "source": [
        "# Converte a coluna 'PL2011' para números (float) e remove as linhas onde 'PL2011' seja negativo\n",
        "dados['PL2011'] = pd.to_numeric(dados['PL2011'], errors='coerce')  # 'coerce' trata strings não numéricas como NaN\n",
        "dados = dados[dados['PL2011'] > 0]\n",
        "\n",
        "\n",
        "print(dados)"
      ],
      "metadata": {
        "colab": {
          "base_uri": "https://localhost:8080/"
        },
        "id": "m3PUXYCZ78ba",
        "outputId": "44f8fa73-ece2-4c2f-f646-e99d2133da7a"
      },
      "execution_count": 75,
      "outputs": [
        {
          "output_type": "stream",
          "name": "stdout",
          "text": [
            "      id     COD                SETOR  d1  d2  d3  d4  d5  d6  d7  ...  \\\n",
            "2      3  QVQP3B               Outros   0   0   0   0   0   0   0  ...   \n",
            "4      5   EALT4     Bens industriais   1   0   0   0   0   0   0  ...   \n",
            "6      7   AESB3    Utilidade pública   0   0   0   1   0   0   0  ...   \n",
            "8      9   AFLT3    Utilidade pública   0   0   0   1   0   0   0  ...   \n",
            "16    17   APTI4  Consumo não cíclico   0   0   1   0   0   0   0  ...   \n",
            "..   ...     ...                  ...  ..  ..  ..  ..  ..  ..  ..  ...   \n",
            "387  389   WHRL4      Consumo cíclico   0   1   0   0   0   0   0  ...   \n",
            "388  390   PORT3     Bens industriais   1   0   0   0   0   0   0  ...   \n",
            "390  392   WLMM4     Bens industriais   1   0   0   0   0   0   0  ...   \n",
            "391  393   YBRA3               Outros   0   0   0   0   0   0   0  ...   \n",
            "392  394   YDUQ3      Consumo cíclico   0   1   0   0   0   0   0  ...   \n",
            "\n",
            "     ORA2013  ORA2014  ORA2015  ORA2016 ORA2017 ORA2018 ORA2019 ORA2020  \\\n",
            "2          0        0        0        0       0       0       0       0   \n",
            "4          0        0        0        0       0       0       0       0   \n",
            "6     489138   388514   923107    -3289    1394  -14697  -59906  532895   \n",
            "8          0        0        0        0       0       0       0       0   \n",
            "16         0        0        0        0       0       0       0       0   \n",
            "..       ...      ...      ...      ...     ...     ...     ...     ...   \n",
            "387        0        0        0        0       0       0       0       0   \n",
            "388        0        0        0        0       0       0       0       0   \n",
            "390        0        0        0        0       0       0       0  102837   \n",
            "391        0        0        0        0       0       0       0       0   \n",
            "392        0        0        0        0       0       0       0       0   \n",
            "\n",
            "     ORA2021  ORA2022  \n",
            "2          0        0  \n",
            "4          0        0  \n",
            "6    -153563  -155638  \n",
            "8          0        0  \n",
            "16         0        0  \n",
            "..       ...      ...  \n",
            "387        0        0  \n",
            "388        0   723446  \n",
            "390    99077    98279  \n",
            "391        0        0  \n",
            "392        0        0  \n",
            "\n",
            "[215 rows x 153 columns]\n"
          ]
        }
      ]
    },
    {
      "cell_type": "markdown",
      "source": [
        "excluir valores ausentes na variável dependente"
      ],
      "metadata": {
        "id": "HPTV8NDAhkT2"
      }
    },
    {
      "cell_type": "code",
      "source": [
        "# Agora, vamos remover as linhas onde 'VM30Abril11' seja igual a '-'\n",
        "dados = dados[dados['VM30Abril2012'] != '-']\n",
        "dados = dados[dados['PL2011'] != '-']\n",
        "dados = dados[dados['LL2011'] != '-']\n",
        "# A partir deste ponto, 'dados' conterá apenas as linhas onde 'VM30Abril11' não é igual a '-'\n",
        "print(dados)\n"
      ],
      "metadata": {
        "colab": {
          "base_uri": "https://localhost:8080/"
        },
        "id": "xPddSXYKho22",
        "outputId": "6d78c5a3-099c-4e47-b4f8-e311ad8e87f4"
      },
      "execution_count": 76,
      "outputs": [
        {
          "output_type": "stream",
          "name": "stdout",
          "text": [
            "      id    COD                SETOR  d1  d2  d3  d4  d5  d6  d7  ...  \\\n",
            "4      5  EALT4     Bens industriais   1   0   0   0   0   0   0  ...   \n",
            "8      9  AFLT3    Utilidade pública   0   0   0   1   0   0   0  ...   \n",
            "20    21  ALPA4      Consumo cíclico   0   1   0   0   0   0   0  ...   \n",
            "25    26  ABEV3  Consumo não cíclico   0   0   1   0   0   0   0  ...   \n",
            "27    28  AMER3      Consumo cíclico   0   1   0   0   0   0   0  ...   \n",
            "..   ...    ...                  ...  ..  ..  ..  ..  ..  ..  ..  ...   \n",
            "386  388  MWET4     Bens industriais   1   0   0   0   0   0   0  ...   \n",
            "387  389  WHRL4      Consumo cíclico   0   1   0   0   0   0   0  ...   \n",
            "388  390  PORT3     Bens industriais   1   0   0   0   0   0   0  ...   \n",
            "390  392  WLMM4     Bens industriais   1   0   0   0   0   0   0  ...   \n",
            "392  394  YDUQ3      Consumo cíclico   0   1   0   0   0   0   0  ...   \n",
            "\n",
            "     ORA2013  ORA2014  ORA2015  ORA2016 ORA2017 ORA2018 ORA2019 ORA2020  \\\n",
            "4          0        0        0        0       0       0       0       0   \n",
            "8          0        0        0        0       0       0       0       0   \n",
            "20     -1760     2802     2287     -428       0   56226   36684     235   \n",
            "25         0        0        0        0       0       0       0       0   \n",
            "27         0        0        0        0       0       0       0  -97688   \n",
            "..       ...      ...      ...      ...     ...     ...     ...     ...   \n",
            "386        0        0        0        0       0       0       0       0   \n",
            "387        0        0        0        0       0       0       0       0   \n",
            "388        0        0        0        0       0       0       0       0   \n",
            "390        0        0        0        0       0       0       0  102837   \n",
            "392        0        0        0        0       0       0       0       0   \n",
            "\n",
            "     ORA2021 ORA2022  \n",
            "4          0       0  \n",
            "8          0       0  \n",
            "20      2915    5362  \n",
            "25         0       0  \n",
            "27   -219440       -  \n",
            "..       ...     ...  \n",
            "386        0       0  \n",
            "387        0       0  \n",
            "388        0  723446  \n",
            "390    99077   98279  \n",
            "392        0       0  \n",
            "\n",
            "[179 rows x 153 columns]\n"
          ]
        }
      ]
    },
    {
      "cell_type": "code",
      "source": [
        "dados = dados[dados['AT2010'] != '-']\n",
        "dados = dados[dados['AT2010'] != '0']\n",
        "\n",
        "# A partir deste ponto, 'dados' conterá apenas as linhas onde 'VM30Abril11' não é igual a '-'\n",
        "print(dados)"
      ],
      "metadata": {
        "colab": {
          "base_uri": "https://localhost:8080/"
        },
        "id": "BACHtW9Yxb1m",
        "outputId": "a54e85b7-4a19-4243-b0a6-eed1543365f9"
      },
      "execution_count": 77,
      "outputs": [
        {
          "output_type": "stream",
          "name": "stdout",
          "text": [
            "      id    COD                SETOR  d1  d2  d3  d4  d5  d6  d7  ...  \\\n",
            "4      5  EALT4     Bens industriais   1   0   0   0   0   0   0  ...   \n",
            "8      9  AFLT3    Utilidade pública   0   0   0   1   0   0   0  ...   \n",
            "20    21  ALPA4      Consumo cíclico   0   1   0   0   0   0   0  ...   \n",
            "25    26  ABEV3  Consumo não cíclico   0   0   1   0   0   0   0  ...   \n",
            "27    28  AMER3      Consumo cíclico   0   1   0   0   0   0   0  ...   \n",
            "..   ...    ...                  ...  ..  ..  ..  ..  ..  ..  ..  ...   \n",
            "386  388  MWET4     Bens industriais   1   0   0   0   0   0   0  ...   \n",
            "387  389  WHRL4      Consumo cíclico   0   1   0   0   0   0   0  ...   \n",
            "388  390  PORT3     Bens industriais   1   0   0   0   0   0   0  ...   \n",
            "390  392  WLMM4     Bens industriais   1   0   0   0   0   0   0  ...   \n",
            "392  394  YDUQ3      Consumo cíclico   0   1   0   0   0   0   0  ...   \n",
            "\n",
            "     ORA2013  ORA2014  ORA2015  ORA2016 ORA2017 ORA2018 ORA2019 ORA2020  \\\n",
            "4          0        0        0        0       0       0       0       0   \n",
            "8          0        0        0        0       0       0       0       0   \n",
            "20     -1760     2802     2287     -428       0   56226   36684     235   \n",
            "25         0        0        0        0       0       0       0       0   \n",
            "27         0        0        0        0       0       0       0  -97688   \n",
            "..       ...      ...      ...      ...     ...     ...     ...     ...   \n",
            "386        0        0        0        0       0       0       0       0   \n",
            "387        0        0        0        0       0       0       0       0   \n",
            "388        0        0        0        0       0       0       0       0   \n",
            "390        0        0        0        0       0       0       0  102837   \n",
            "392        0        0        0        0       0       0       0       0   \n",
            "\n",
            "     ORA2021 ORA2022  \n",
            "4          0       0  \n",
            "8          0       0  \n",
            "20      2915    5362  \n",
            "25         0       0  \n",
            "27   -219440       -  \n",
            "..       ...     ...  \n",
            "386        0       0  \n",
            "387        0       0  \n",
            "388        0  723446  \n",
            "390    99077   98279  \n",
            "392        0       0  \n",
            "\n",
            "[177 rows x 153 columns]\n"
          ]
        }
      ]
    },
    {
      "cell_type": "markdown",
      "source": [
        "ESCALONAMENTO DAS VARIÁVEIS"
      ],
      "metadata": {
        "id": "9GCa_0_0pZBs"
      }
    },
    {
      "cell_type": "code",
      "source": [
        "dados['AT2010'] = pd.to_numeric(dados['AT2010'], errors='coerce')\n",
        "dados['LL2011'] = pd.to_numeric(dados['LL2011'], errors='coerce')\n",
        "dados['VM30Abril2012'] = pd.to_numeric(dados['VM30Abril2012'], errors='coerce')\n",
        "dados['PL2011'] = pd.to_numeric(dados['PL2011'], errors='coerce')\n"
      ],
      "metadata": {
        "id": "S4be4jZSgtUc"
      },
      "execution_count": 78,
      "outputs": []
    },
    {
      "cell_type": "code",
      "source": [
        "# Lista de variáveis que você deseja escalonar\n",
        "variaveis = ['VM30Abril2012', 'PL2011', 'LL2011', 'AT2010']\n",
        "\n",
        "# Verifique o tipo de dados de cada coluna\n",
        "for coluna in variaveis:\n",
        "    print(f\"Tipo de dados da coluna {coluna}: {dados[coluna].dtype}\")\n"
      ],
      "metadata": {
        "colab": {
          "base_uri": "https://localhost:8080/"
        },
        "id": "zM9N-qiafCbe",
        "outputId": "b25b7009-3dbe-4e08-bce9-11e512fe2410"
      },
      "execution_count": 79,
      "outputs": [
        {
          "output_type": "stream",
          "name": "stdout",
          "text": [
            "Tipo de dados da coluna VM30Abril2012: float64\n",
            "Tipo de dados da coluna PL2011: float64\n",
            "Tipo de dados da coluna LL2011: float64\n",
            "Tipo de dados da coluna AT2010: float64\n"
          ]
        }
      ]
    },
    {
      "cell_type": "code",
      "source": [
        "import pandas as pd\n",
        "\n",
        "# Suponha que 'dados' seja o seu DataFrame\n",
        "\n",
        "# Use o método dropna() para remover as linhas com NaN em 'AT2010'\n",
        "dados = dados.dropna(subset=['AT2010'])\n",
        "\n",
        "# Agora, 'dados' não conterá mais as linhas com NaN em 'AT2010'\n"
      ],
      "metadata": {
        "id": "GPChA9athcyW"
      },
      "execution_count": 30,
      "outputs": []
    },
    {
      "cell_type": "code",
      "source": [
        "variaveis = ['VM30Abril2012', 'PL2011', 'LL2011']\n",
        "\n",
        "for coluna in variaveis:\n",
        "    dados[coluna] = dados[coluna] / dados['AT2010']\n"
      ],
      "metadata": {
        "id": "A7MYj6i9h6LO"
      },
      "execution_count": 80,
      "outputs": []
    },
    {
      "cell_type": "markdown",
      "source": [
        "tratar outliers: A winsorização ao nível de 1% envolve substituir os 1% dos valores mais extremos por valores no limite do intervalo aceitável, ou seja, os 1% menores e os 1% maiores dos valores."
      ],
      "metadata": {
        "id": "95LYGQCnbVVn"
      }
    },
    {
      "cell_type": "code",
      "source": [
        "import pandas as pd\n",
        "import numpy as np\n",
        "from scipy.stats import mstats\n",
        "\n",
        "# Supondo que seu DataFrame se chame \"dados\"\n",
        "\n",
        "# Lista de variáveis para winsorizar\n",
        "variaveis_winsorizar = ['VM30Abril2012', 'PL2011', 'LL2011', 'AT2010']\n",
        "\n",
        "# Converter as colunas para números, tratando não numéricos como NaN\n",
        "for coluna in variaveis_winsorizar:\n",
        "    dados[coluna] = pd.to_numeric(dados[coluna], errors='coerce')\n",
        "\n",
        "# Aplicar winsorização de 1% nas variáveis\n",
        "for coluna in variaveis_winsorizar:\n",
        "    dados[coluna] = mstats.winsorize(dados[coluna], limits=[0.01, 0.01])\n",
        "\n",
        "# Agora, as variáveis especificadas foram winsorizadas\n"
      ],
      "metadata": {
        "id": "lOpHHKqnzgzN"
      },
      "execution_count": 63,
      "outputs": []
    },
    {
      "cell_type": "markdown",
      "source": [
        "MQO_SIMPLES"
      ],
      "metadata": {
        "id": "9rBG78W6yny2"
      }
    },
    {
      "cell_type": "code",
      "source": [
        "import statsmodels.api as sm\n",
        "import numpy as np\n",
        "import pandas as pd\n",
        "from statsmodels.stats.outliers_influence import variance_inflation_factor\n",
        "from statsmodels.stats.diagnostic import het_white\n",
        "\n",
        "# Suponha que 'dados' seja o DataFrame com suas variáveis\n",
        "\n",
        "# Defina as variáveis independentes e dependente\n",
        "X = dados[['PL2011', 'LL2011']]\n",
        "y = dados['VM30Abril2012']\n",
        "\n",
        "# Certifique-se de que os tipos de dados sejam numéricos\n",
        "X = X.astype(float)\n",
        "y = y.astype(float)\n",
        "\n",
        "# Adicione uma constante ao conjunto de variáveis independentes\n",
        "X = sm.add_constant(X)\n",
        "\n",
        "# Crie o modelo de regressão linear\n",
        "modelo = sm.OLS(y, X).fit()\n",
        "\n",
        "# Visualize os resultados do modelo\n",
        "print(modelo.summary())\n",
        "\n",
        "# Calcule o MedAE\n",
        "y_pred = modelo.predict(X)\n",
        "medae = np.median(np.abs(y - y_pred))\n",
        "\n",
        "# Calcule o valor médio da variável de resposta\n",
        "valor_medio_y = np.mean(y)\n",
        "\n",
        "# Calcule o MedAE escalado pelo valor (ou preço)\n",
        "medae_scaled = (medae / valor_medio_y) * 100  # Em percentagem\n",
        "\n",
        "print(\"Median Absolute Error (MedAE):\", medae)\n",
        "print(\"MedAE escalado pelo valor (ou preço) em percentagem:\", medae_scaled)\n",
        "\n",
        "# Calcular os VIFs (Fator de Inflação da Variância)\n",
        "def calculate_vif(dataframe):\n",
        "    vif_data = pd.DataFrame()\n",
        "    vif_data[\"Variável\"] = dataframe.columns\n",
        "    vif_data[\"VIF\"] = [variance_inflation_factor(dataframe.values, i) for i in range(dataframe.shape[1])]\n",
        "    return vif_data\n",
        "\n",
        "vif_result = calculate_vif(X.drop(columns=['const']))\n",
        "print(\"\\nFator de Inflação da Variância (VIF):\")\n",
        "print(vif_result)\n",
        "\n",
        "# Realizar o teste de heterocedasticidade de White\n",
        "white_test_result = het_white(modelo.resid, X)\n",
        "print(\"\\nResultado do teste de heterocedasticidade de White:\")\n",
        "print(\"LM Statistic:\", white_test_result[0])\n",
        "print(\"LM p-value:\", white_test_result[1])\n",
        "print(\"F Statistic:\", white_test_result[2])\n",
        "print(\"F p-value:\", white_test_result[3])\n"
      ],
      "metadata": {
        "colab": {
          "base_uri": "https://localhost:8080/"
        },
        "id": "A-8twO8YyD_l",
        "outputId": "76cc357d-6fd1-4f4e-8384-f452be19c695"
      },
      "execution_count": 81,
      "outputs": [
        {
          "output_type": "stream",
          "name": "stdout",
          "text": [
            "                            OLS Regression Results                            \n",
            "==============================================================================\n",
            "Dep. Variable:          VM30Abril2012   R-squared:                       0.479\n",
            "Model:                            OLS   Adj. R-squared:                  0.473\n",
            "Method:                 Least Squares   F-statistic:                     80.00\n",
            "Date:                Fri, 29 Sep 2023   Prob (F-statistic):           2.30e-25\n",
            "Time:                        00:19:11   Log-Likelihood:                -258.55\n",
            "No. Observations:                 177   AIC:                             523.1\n",
            "Df Residuals:                     174   BIC:                             532.6\n",
            "Df Model:                           2                                         \n",
            "Covariance Type:            nonrobust                                         \n",
            "==============================================================================\n",
            "                 coef    std err          t      P>|t|      [0.025      0.975]\n",
            "------------------------------------------------------------------------------\n",
            "const         -0.0719      0.143     -0.502      0.617      -0.355       0.211\n",
            "PL2011         1.6822      0.246      6.832      0.000       1.196       2.168\n",
            "LL2011         7.5338      1.068      7.054      0.000       5.426       9.642\n",
            "==============================================================================\n",
            "Omnibus:                      106.291   Durbin-Watson:                   1.795\n",
            "Prob(Omnibus):                  0.000   Jarque-Bera (JB):              596.511\n",
            "Skew:                           2.293   Prob(JB):                    2.95e-130\n",
            "Kurtosis:                      10.737   Cond. No.                         15.5\n",
            "==============================================================================\n",
            "\n",
            "Notes:\n",
            "[1] Standard Errors assume that the covariance matrix of the errors is correctly specified.\n",
            "Median Absolute Error (MedAE): 0.45828835796239975\n",
            "MedAE escalado pelo valor (ou preço) em percentagem: 38.811802030364326\n",
            "\n",
            "Fator de Inflação da Variância (VIF):\n",
            "  Variável       VIF\n",
            "0   PL2011  1.610836\n",
            "1   LL2011  1.610836\n",
            "\n",
            "Resultado do teste de heterocedasticidade de White:\n",
            "LM Statistic: 49.46616032766997\n",
            "LM p-value: 1.7819852432783151e-09\n",
            "F Statistic: 13.26504939828418\n",
            "F p-value: 6.335654535454931e-11\n"
          ]
        }
      ]
    },
    {
      "cell_type": "markdown",
      "source": [
        "MQP - MODELO SIMPLES"
      ],
      "metadata": {
        "id": "IXhYrWVgKtFr"
      }
    },
    {
      "cell_type": "code",
      "source": [
        "import statsmodels.api as sm\n",
        "import numpy as np\n",
        "import pandas as pd\n",
        "\n",
        "# Suponha que 'dados' seja o DataFrame com suas variáveis\n",
        "\n",
        "# Defina as variáveis independentes e dependente\n",
        "X = dados[['PL2011', 'LL2011']]\n",
        "y = dados['VM30Abril2012']\n",
        "\n",
        "# Certifique-se de que os tipos de dados sejam numéricos\n",
        "X = X.astype(float)\n",
        "y = y.astype(float)\n",
        "\n",
        "# Adicione uma constante ao conjunto de variáveis independentes\n",
        "X = sm.add_constant(X)\n",
        "\n",
        "# Crie o modelo de regressão linear robusta usando o método WLS com pesos robustos\n",
        "modelo_robusto = sm.RLM(y, X, M=sm.robust.norms.HuberT()).fit()\n",
        "\n",
        "# Visualize os resultados do modelo robusto\n",
        "print(modelo_robusto.summary())\n",
        "\n",
        "# Calcule o MedAE\n",
        "y_pred_robusto = modelo_robusto.predict(X)\n",
        "medae_robusto = np.median(np.abs(y - y_pred_robusto))\n",
        "\n",
        "# Calcule o valor médio da variável de resposta\n",
        "valor_medio_y = np.mean(y)\n",
        "\n",
        "# Calcule o MedAE escalado pelo valor (ou preço)\n",
        "medae_scaled_robusto = (medae_robusto / valor_medio_y) * 100  # Em percentagem\n",
        "\n",
        "print(\"Median Absolute Error (MedAE) robusto:\", medae_robusto)\n",
        "print(\"MedAE robusto escalado pelo valor (ou preço) em percentagem:\", medae_scaled_robusto)\n",
        "\n",
        "# Calcular os VIFs (Fator de Inflação da Variância)\n",
        "def calculate_vif(dataframe):\n",
        "    vif_data = pd.DataFrame()\n",
        "    vif_data[\"Variável\"] = dataframe.columns\n",
        "    vif_data[\"VIF\"] = [variance_inflation_factor(dataframe.values, i) for i in range(dataframe.shape[1])]\n",
        "    return vif_data\n",
        "\n",
        "vif_result = calculate_vif(X)\n",
        "print(\"\\nFator de Inflação da Variância (VIF):\")\n",
        "print(vif_result)\n",
        "\n",
        "# Calcular o coeficiente de determinação (R-squared)\n",
        "sst_robusto = ((y - y.mean())**2).sum()\n",
        "ssr_robusto = ((y - y_pred_robusto)**2).sum()\n",
        "r_squared_robusto = 1 - (ssr_robusto / sst_robusto)\n",
        "\n",
        "print(\"Coeficiente de Determinação (R-squared) do modelo robusto:\", r_squared_robusto)\n",
        "\n",
        "# Realizar o teste de heterocedasticidade de White\n",
        "white_test_result_robusto = het_white(modelo_robusto.resid, X)\n",
        "print(\"\\nResultado do teste de heterocedasticidade de White para o modelo robusto:\")\n",
        "print(\"LM Statistic:\", white_test_result_robusto[0])\n",
        "print(\"LM p-value:\", white_test_result_robusto[1])\n",
        "print(\"F Statistic:\", white_test_result_robusto[2])\n",
        "print(\"F p-value:\", white_test_result_robusto[3])\n"
      ],
      "metadata": {
        "colab": {
          "base_uri": "https://localhost:8080/"
        },
        "id": "I8ELT4MqgBwZ",
        "outputId": "6d26496d-e20f-4c75-99e1-fbf4eb624812"
      },
      "execution_count": 82,
      "outputs": [
        {
          "output_type": "stream",
          "name": "stdout",
          "text": [
            "                    Robust linear Model Regression Results                    \n",
            "==============================================================================\n",
            "Dep. Variable:          VM30Abril2012   No. Observations:                  177\n",
            "Model:                            RLM   Df Residuals:                      174\n",
            "Method:                          IRLS   Df Model:                            2\n",
            "Norm:                          HuberT                                         \n",
            "Scale Est.:                       mad                                         \n",
            "Cov Type:                          H1                                         \n",
            "Date:                Fri, 29 Sep 2023                                         \n",
            "Time:                        00:20:43                                         \n",
            "No. Iterations:                    25                                         \n",
            "==============================================================================\n",
            "                 coef    std err          z      P>|z|      [0.025      0.975]\n",
            "------------------------------------------------------------------------------\n",
            "const          0.0599      0.083      0.723      0.470      -0.102       0.222\n",
            "PL2011         1.2401      0.142      8.712      0.000       0.961       1.519\n",
            "LL2011         5.4293      0.617      8.794      0.000       4.219       6.639\n",
            "==============================================================================\n",
            "\n",
            "If the model instance has been used for another fit with different fit parameters, then the fit options might not be the correct ones anymore .\n",
            "Median Absolute Error (MedAE) robusto: 0.36750618510142463\n",
            "MedAE robusto escalado pelo valor (ou preço) em percentagem: 31.123586391127954\n",
            "\n",
            "Fator de Inflação da Variância (VIF):\n",
            "  Variável       VIF\n",
            "0    const  3.286873\n",
            "1   PL2011  1.187566\n",
            "2   LL2011  1.187566\n",
            "Coeficiente de Determinação (R-squared) do modelo robusto: 0.4239451864032663\n",
            "\n",
            "Resultado do teste de heterocedasticidade de White para o modelo robusto:\n",
            "LM Statistic: 53.98386181926621\n",
            "LM p-value: 2.1118929499107e-10\n",
            "F Statistic: 15.008177801081828\n",
            "F p-value: 3.2906927736507864e-12\n"
          ]
        }
      ]
    },
    {
      "cell_type": "markdown",
      "source": [
        "REGRESSÃO QUANTÍLICA_SIMPLES"
      ],
      "metadata": {
        "id": "fUZVJwTv19EF"
      }
    },
    {
      "cell_type": "code",
      "source": [
        "import statsmodels.api as sm\n",
        "\n",
        "# Supondo que 'dados' seja o DataFrame com suas variáveis\n",
        "\n",
        "# Defina as variáveis independentes e dependente\n",
        "X = dados[['PL2011', 'LL2011']]\n",
        "y = dados['VM30Abril2012']\n",
        "\n",
        "# Certifique-se de que os tipos de dados sejam numéricos\n",
        "X = X.astype(float)\n",
        "y = y.astype(float)\n",
        "\n",
        "# Adicione uma constante ao conjunto de variáveis independentes\n",
        "X = sm.add_constant(X)\n",
        "\n",
        "# Crie o modelo de regressão quantílica\n",
        "modelo = sm.QuantReg(y, X).fit(q=0.5)  # q=0.5 representa a mediana, ajuste conforme necessário\n",
        "\n",
        "# Visualize os resultados do modelo\n",
        "print(modelo.summary())\n",
        "# Faça previsões com o modelo quantílico\n",
        "y_pred_quantreg = modelo.predict(X)\n",
        "\n",
        "# Calcule o MedAE para o modelo quantílico\n",
        "medae_quantreg = np.median(np.abs(y - y_pred_quantreg))\n",
        "\n",
        "# Calcule o valor médio da variável de resposta\n",
        "valor_medio_y = np.mean(y)\n",
        "\n",
        "# Calcule o MedAE escalado pelo valor (ou preço) em percentagem\n",
        "medae_scaled_quantreg = (medae_quantreg / valor_medio_y) * 100  # Em percentagem\n",
        "\n",
        "print(\"Median Absolute Error (MedAE) quantílico:\", medae_quantreg)\n",
        "print(\"MedAE quantílico escalado pelo valor (ou preço) em percentagem:\", medae_scaled_quantreg)\n"
      ],
      "metadata": {
        "id": "dgpuCY5p1_I5",
        "outputId": "34d3a009-d4b2-474d-d669-14793deaa9d2",
        "colab": {
          "base_uri": "https://localhost:8080/"
        }
      },
      "execution_count": 83,
      "outputs": [
        {
          "output_type": "stream",
          "name": "stdout",
          "text": [
            "                         QuantReg Regression Results                          \n",
            "==============================================================================\n",
            "Dep. Variable:          VM30Abril2012   Pseudo R-squared:               0.2493\n",
            "Model:                       QuantReg   Bandwidth:                      0.4771\n",
            "Method:                 Least Squares   Sparsity:                        1.352\n",
            "Date:                Fri, 29 Sep 2023   No. Observations:                  177\n",
            "Time:                        00:21:40   Df Residuals:                      174\n",
            "                                        Df Model:                            2\n",
            "==============================================================================\n",
            "                 coef    std err          t      P>|t|      [0.025      0.975]\n",
            "------------------------------------------------------------------------------\n",
            "const          0.0537      0.092      0.583      0.561      -0.128       0.236\n",
            "PL2011         1.1357      0.158      7.173      0.000       0.823       1.448\n",
            "LL2011         4.3357      0.687      6.314      0.000       2.980       5.691\n",
            "==============================================================================\n",
            "Median Absolute Error (MedAE) quantílico: 0.3172327381103899\n",
            "MedAE quantílico escalado pelo valor (ou preço) em percentagem: 26.86599826326165\n"
          ]
        }
      ]
    },
    {
      "cell_type": "markdown",
      "source": [
        "RB_Simples"
      ],
      "metadata": {
        "id": "X-hPlPqnNEYC"
      }
    },
    {
      "cell_type": "code",
      "source": [
        "from sklearn.linear_model import BayesianRidge\n",
        "from sklearn.model_selection import KFold\n",
        "from sklearn.metrics import median_absolute_error, r2_score\n",
        "import numpy as np\n",
        "\n",
        "# Supondo que 'dados' seja o DataFrame com suas variáveis\n",
        "X = dados[['PL2011', 'LL2011']]\n",
        "y = dados['VM30Abril2012']\n",
        "\n",
        "# Configurar a validação cruzada com 10 folds\n",
        "kf = KFold(n_splits=10, shuffle=True, random_state=42)\n",
        "\n",
        "# Listas para armazenar resultados\n",
        "medae_scores = []\n",
        "r2_scores = []\n",
        "\n",
        "# Treinar e avaliar o modelo dentro da amostra usando validação cruzada\n",
        "for train_index, test_index in kf.split(X):\n",
        "    X_train, X_test = X.iloc[train_index], X.iloc[test_index]\n",
        "    y_train, y_test = y.iloc[train_index], y.iloc[test_index]\n",
        "\n",
        "    # Criar o modelo Bayesian Ridge\n",
        "    modelo_bayesiano = BayesianRidge()\n",
        "\n",
        "    modelo_bayesiano.fit(X_train, y_train)\n",
        "    y_pred = modelo_bayesiano.predict(X_test)\n",
        "\n",
        "    # Calcular o MedAE escalado pelo valor (ou preço) em percentagem\n",
        "    medae = median_absolute_error(y_test, y_pred)\n",
        "    valor_medio_y = np.mean(y_test)\n",
        "    medae_scaled = (medae / valor_medio_y) * 100  # Em percentagem\n",
        "    medae_scores.append(medae_scaled)\n",
        "\n",
        "    # Calcular o R²\n",
        "    r2 = r2_score(y_test, y_pred)\n",
        "    r2_scores.append(r2)\n",
        "\n",
        "    # Visualizar os coeficientes do modelo (coeficientes Bayesianos)\n",
        "    coeficientes = modelo_bayesiano.coef_\n",
        "    print(\"Coeficientes do Modelo:\", coeficientes)\n",
        "\n",
        "# Média do MedAE escalado pelo valor (ou preço) em percentagem\n",
        "mean_medae_scaled = np.mean(medae_scores)\n",
        "print(\"Média do MedAE escalado pelo valor (ou preço) em percentagem:\", mean_medae_scaled)\n",
        "\n",
        "# Média do R²\n",
        "mean_r2 = np.mean(r2_scores)\n",
        "print(\"Média do R²:\", mean_r2)\n"
      ],
      "metadata": {
        "colab": {
          "base_uri": "https://localhost:8080/"
        },
        "outputId": "2abf9257-e5d9-4ffc-a711-e48dd41db342",
        "id": "zj4mQ3zrNLrh"
      },
      "execution_count": 84,
      "outputs": [
        {
          "output_type": "stream",
          "name": "stdout",
          "text": [
            "Coeficientes do Modelo: [1.66257213 7.88629895]\n",
            "Coeficientes do Modelo: [1.50652647 8.67892553]\n",
            "Coeficientes do Modelo: [1.92821568 6.96077922]\n",
            "Coeficientes do Modelo: [1.63352038 6.04910388]\n",
            "Coeficientes do Modelo: [1.70937518 7.26467023]\n",
            "Coeficientes do Modelo: [1.50717681 7.08527748]\n",
            "Coeficientes do Modelo: [1.77913839 6.7648073 ]\n",
            "Coeficientes do Modelo: [1.77002868 7.10149306]\n",
            "Coeficientes do Modelo: [1.76044612 7.3227242 ]\n",
            "Coeficientes do Modelo: [1.74783633 7.2605526 ]\n",
            "Média do MedAE escalado pelo valor (ou preço) em percentagem: 41.262229796655795\n",
            "Média do R²: 0.3081258839916427\n"
          ]
        }
      ]
    },
    {
      "cell_type": "markdown",
      "source": [
        "SVR"
      ],
      "metadata": {
        "id": "NIw0ZhcK_9OC"
      }
    },
    {
      "cell_type": "code",
      "source": [
        "from sklearn.svm import SVR\n",
        "from sklearn.model_selection import KFold\n",
        "from sklearn.metrics import median_absolute_error, r2_score\n",
        "import numpy as np\n",
        "\n",
        "# Supondo que 'dados' seja o DataFrame com suas variáveis\n",
        "X = dados[['PL2011', 'LL2011']]\n",
        "y = dados['VM30Abril2012']\n",
        "\n",
        "# Configurar a validação cruzada com 10 folds\n",
        "kf = KFold(n_splits=10, shuffle=True, random_state=42)\n",
        "\n",
        "# Listas para armazenar resultados\n",
        "medae_scores = []\n",
        "r2_scores = []\n",
        "\n",
        "# Treinar e avaliar o modelo dentro da amostra usando validação cruzada\n",
        "for train_index, test_index in kf.split(X):\n",
        "    X_train, X_test = X.iloc[train_index], X.iloc[test_index]\n",
        "    y_train, y_test = y.iloc[train_index], y.iloc[test_index]\n",
        "\n",
        "    # Criar o modelo SVR com kernel RBF\n",
        "    #modelo_svr = SVR(kernel='linear', C=1.0)\n",
        "    modelo_svr = SVR(kernel='poly', degree=3, C=1.0)\n",
        "    #modelo_svr = SVR(kernel='sigmoid', C=1.0)\n",
        "    #modelo_svr = SVR(kernel='rbf', C=1.0)\n",
        "\n",
        "    modelo_svr.fit(X_train, y_train)\n",
        "    y_pred = modelo_svr.predict(X_test)\n",
        "\n",
        "    # Calcular o MedAE escalado pelo valor (ou preço) em percentagem\n",
        "    medae = median_absolute_error(y_test, y_pred)\n",
        "    valor_medio_y = np.mean(y_test)\n",
        "    medae_scaled = (medae / valor_medio_y) * 100  # Em percentagem\n",
        "    medae_scores.append(medae_scaled)\n",
        "\n",
        "    # Calcular o R²\n",
        "    r2 = r2_score(y_test, y_pred)\n",
        "    r2_scores.append(r2)\n",
        "\n",
        "# Média do MedAE escalado pelo valor (ou preço) em percentagem\n",
        "mean_medae_scaled = np.mean(medae_scores)\n",
        "print(\"Média do MedAE escalado pelo valor (ou preço) em percentagem:\", mean_medae_scaled)\n",
        "\n",
        "# Média do R²\n",
        "mean_r2 = np.mean(r2_scores)\n",
        "print(\"Média do R²:\", mean_r2)\n"
      ],
      "metadata": {
        "id": "VPXr6W3_Hh_z",
        "outputId": "06e1a167-3557-4d98-9664-06295b9d3b9d",
        "colab": {
          "base_uri": "https://localhost:8080/"
        }
      },
      "execution_count": 85,
      "outputs": [
        {
          "output_type": "stream",
          "name": "stdout",
          "text": [
            "Média do MedAE escalado pelo valor (ou preço) em percentagem: 24.81619699738587\n",
            "Média do R²: 0.1157658960138983\n"
          ]
        }
      ]
    },
    {
      "cell_type": "markdown",
      "source": [
        "CART_simples"
      ],
      "metadata": {
        "id": "ZYtjgE_9OP3j"
      }
    },
    {
      "cell_type": "code",
      "source": [
        "from sklearn.tree import DecisionTreeRegressor\n",
        "from sklearn.ensemble import BaggingRegressor\n",
        "from sklearn.model_selection import KFold\n",
        "from sklearn.metrics import mean_absolute_error, mean_squared_error, r2_score\n",
        "import numpy as np\n",
        "\n",
        "# Supondo que 'dados' seja o DataFrame com suas variáveis\n",
        "X = dados[['PL2011', 'LL2011']]\n",
        "y = dados['VM30Abril2012']\n",
        "\n",
        "# Configurar a validação cruzada com 10 folds\n",
        "kf = KFold(n_splits=10, shuffle=True, random_state=42)\n",
        "\n",
        "# Listas para armazenar resultados\n",
        "medae_scores = []\n",
        "r2_scores = []\n",
        "\n",
        "# Treinar e avaliar o modelo dentro da amostra usando validação cruzada\n",
        "for train_index, test_index in kf.split(X):\n",
        "    X_train, X_test = X.iloc[train_index], X.iloc[test_index]\n",
        "    y_train, y_test = y.iloc[train_index], y.iloc[test_index]\n",
        "\n",
        "    # Criar o modelo de árvore de decisão com os parâmetros desejados\n",
        "    modelo_arvore = DecisionTreeRegressor(min_samples_split=5, random_state=42)\n",
        "    #modelo_arvore = DecisionTreeRegressor(max_depth=5, min_samples_split=5, random_state=42)\n",
        "\n",
        "\n",
        "\n",
        "    # Criar o modelo Bagging com 500 árvores\n",
        "    bagging_model = BaggingRegressor(base_estimator=modelo_arvore, n_estimators=500, bootstrap=True, random_state=42)\n",
        "    #bagging_model = BaggingRegressor(base_estimator=modelo_arvore, n_estimators=100, bootstrap=True, random_state=42)\n",
        "\n",
        "\n",
        "    bagging_model.fit(X_train, y_train)\n",
        "    y_pred = bagging_model.predict(X_test)\n",
        "\n",
        "    # Calcular o MedAE escalado pelo valor (ou preço) em percentagem\n",
        "    medae = np.median(np.abs(y_test - y_pred))\n",
        "    valor_medio_y = np.mean(y_test)\n",
        "    medae_scaled = (medae / valor_medio_y) * 100  # Em percentagem\n",
        "    medae_scores.append(medae_scaled)\n",
        "\n",
        "    # Calcular o R²\n",
        "    r2 = r2_score(y_test, y_pred)\n",
        "    r2_scores.append(r2)\n",
        "\n",
        "    # Visualizar a importância dos coeficientes (importância das variáveis)\n",
        "    importancia_coeficientes = np.mean([tree.feature_importances_ for tree in bagging_model.estimators_], axis=0)\n",
        "    print(\"Importância dos Coeficientes:\", importancia_coeficientes)\n",
        "\n",
        "# Média do MedAE escalado pelo valor (ou preço) em percentagem\n",
        "mean_medae_scaled = np.mean(medae_scores)\n",
        "print(\"Média do MedAE escalado pelo valor (ou preço) em percentagem:\", mean_medae_scaled)\n",
        "\n",
        "# Média do R²\n",
        "mean_r2 = np.mean(r2_scores)\n",
        "print(\"Média do R²:\", mean_r2)\n"
      ],
      "metadata": {
        "colab": {
          "base_uri": "https://localhost:8080/"
        },
        "outputId": "9046e883-ae81-4a3c-cf2a-847fbc49cdf8",
        "id": "c3TdDSmhOYKa"
      },
      "execution_count": 86,
      "outputs": [
        {
          "output_type": "stream",
          "name": "stderr",
          "text": [
            "/usr/local/lib/python3.10/dist-packages/sklearn/ensemble/_base.py:166: FutureWarning: `base_estimator` was renamed to `estimator` in version 1.2 and will be removed in 1.4.\n",
            "  warnings.warn(\n"
          ]
        },
        {
          "output_type": "stream",
          "name": "stdout",
          "text": [
            "Importância dos Coeficientes: [0.32676339 0.67323661]\n"
          ]
        },
        {
          "output_type": "stream",
          "name": "stderr",
          "text": [
            "/usr/local/lib/python3.10/dist-packages/sklearn/ensemble/_base.py:166: FutureWarning: `base_estimator` was renamed to `estimator` in version 1.2 and will be removed in 1.4.\n",
            "  warnings.warn(\n"
          ]
        },
        {
          "output_type": "stream",
          "name": "stdout",
          "text": [
            "Importância dos Coeficientes: [0.30588599 0.69411401]\n"
          ]
        },
        {
          "output_type": "stream",
          "name": "stderr",
          "text": [
            "/usr/local/lib/python3.10/dist-packages/sklearn/ensemble/_base.py:166: FutureWarning: `base_estimator` was renamed to `estimator` in version 1.2 and will be removed in 1.4.\n",
            "  warnings.warn(\n"
          ]
        },
        {
          "output_type": "stream",
          "name": "stdout",
          "text": [
            "Importância dos Coeficientes: [0.40676129 0.59323871]\n"
          ]
        },
        {
          "output_type": "stream",
          "name": "stderr",
          "text": [
            "/usr/local/lib/python3.10/dist-packages/sklearn/ensemble/_base.py:166: FutureWarning: `base_estimator` was renamed to `estimator` in version 1.2 and will be removed in 1.4.\n",
            "  warnings.warn(\n"
          ]
        },
        {
          "output_type": "stream",
          "name": "stdout",
          "text": [
            "Importância dos Coeficientes: [0.39038259 0.60961741]\n"
          ]
        },
        {
          "output_type": "stream",
          "name": "stderr",
          "text": [
            "/usr/local/lib/python3.10/dist-packages/sklearn/ensemble/_base.py:166: FutureWarning: `base_estimator` was renamed to `estimator` in version 1.2 and will be removed in 1.4.\n",
            "  warnings.warn(\n"
          ]
        },
        {
          "output_type": "stream",
          "name": "stdout",
          "text": [
            "Importância dos Coeficientes: [0.33355315 0.66644685]\n"
          ]
        },
        {
          "output_type": "stream",
          "name": "stderr",
          "text": [
            "/usr/local/lib/python3.10/dist-packages/sklearn/ensemble/_base.py:166: FutureWarning: `base_estimator` was renamed to `estimator` in version 1.2 and will be removed in 1.4.\n",
            "  warnings.warn(\n"
          ]
        },
        {
          "output_type": "stream",
          "name": "stdout",
          "text": [
            "Importância dos Coeficientes: [0.29461303 0.70538697]\n"
          ]
        },
        {
          "output_type": "stream",
          "name": "stderr",
          "text": [
            "/usr/local/lib/python3.10/dist-packages/sklearn/ensemble/_base.py:166: FutureWarning: `base_estimator` was renamed to `estimator` in version 1.2 and will be removed in 1.4.\n",
            "  warnings.warn(\n"
          ]
        },
        {
          "output_type": "stream",
          "name": "stdout",
          "text": [
            "Importância dos Coeficientes: [0.3978208 0.6021792]\n"
          ]
        },
        {
          "output_type": "stream",
          "name": "stderr",
          "text": [
            "/usr/local/lib/python3.10/dist-packages/sklearn/ensemble/_base.py:166: FutureWarning: `base_estimator` was renamed to `estimator` in version 1.2 and will be removed in 1.4.\n",
            "  warnings.warn(\n"
          ]
        },
        {
          "output_type": "stream",
          "name": "stdout",
          "text": [
            "Importância dos Coeficientes: [0.35853423 0.64146577]\n"
          ]
        },
        {
          "output_type": "stream",
          "name": "stderr",
          "text": [
            "/usr/local/lib/python3.10/dist-packages/sklearn/ensemble/_base.py:166: FutureWarning: `base_estimator` was renamed to `estimator` in version 1.2 and will be removed in 1.4.\n",
            "  warnings.warn(\n"
          ]
        },
        {
          "output_type": "stream",
          "name": "stdout",
          "text": [
            "Importância dos Coeficientes: [0.35867103 0.64132897]\n"
          ]
        },
        {
          "output_type": "stream",
          "name": "stderr",
          "text": [
            "/usr/local/lib/python3.10/dist-packages/sklearn/ensemble/_base.py:166: FutureWarning: `base_estimator` was renamed to `estimator` in version 1.2 and will be removed in 1.4.\n",
            "  warnings.warn(\n"
          ]
        },
        {
          "output_type": "stream",
          "name": "stdout",
          "text": [
            "Importância dos Coeficientes: [0.38979226 0.61020774]\n",
            "Média do MedAE escalado pelo valor (ou preço) em percentagem: 31.363760420685207\n",
            "Média do R²: 0.3306350621110796\n"
          ]
        }
      ]
    },
    {
      "cell_type": "markdown",
      "source": [
        "FLORESTA ALEATÓRIA"
      ],
      "metadata": {
        "id": "OZLbiycNZm26"
      }
    },
    {
      "cell_type": "code",
      "source": [
        "from sklearn.ensemble import RandomForestRegressor\n",
        "from sklearn.model_selection import KFold\n",
        "from sklearn.metrics import mean_absolute_error, mean_squared_error, r2_score\n",
        "import numpy as np\n",
        "\n",
        "# Supondo que 'dados' seja o DataFrame com suas variáveis\n",
        "X = dados[['PL2011', 'LL2011']]\n",
        "y = dados['VM30Abril2012']\n",
        "\n",
        "# Certifique-se de que os tipos de dados sejam numéricos\n",
        "X = X.astype(float)\n",
        "y = y.astype(float)\n",
        "\n",
        "# Configurar a validação cruzada com 10 folds\n",
        "kf = KFold(n_splits=10, shuffle=True, random_state=42)\n",
        "\n",
        "# Listas para armazenar resultados\n",
        "medae_scores = []\n",
        "r2_scores = []\n",
        "\n",
        "# Treinar e avaliar o modelo dentro da amostra usando validação cruzada\n",
        "for train_index, test_index in kf.split(X):\n",
        "    X_train, X_test = X.iloc[train_index], X.iloc[test_index]\n",
        "    y_train, y_test = y.iloc[train_index], y.iloc[test_index]\n",
        "\n",
        "    # Criar o modelo de Floresta Aleatória com os parâmetros desejados\n",
        "    random_forest_model = RandomForestRegressor(n_estimators=500, random_state=42)\n",
        "    #random_forest_model = RandomForestRegressor(n_estimators=500, max_depth=10, random_state=42)\n",
        "    #random_forest_model = RandomForestRegressor(n_estimators=500, max_features=4, random_state=42)\n",
        "    #random_forest_model = RandomForestRegressor(n_estimators=500, max_features=0.3, random_state=42)\n",
        "\n",
        "\n",
        "    random_forest_model.fit(X_train, y_train)\n",
        "    y_pred = random_forest_model.predict(X_test)\n",
        "\n",
        "    # Calcular o MedAE escalado pelo valor (ou preço) em percentagem\n",
        "    medae = np.median(np.abs(y_test - y_pred))\n",
        "    valor_medio_y = np.mean(y_test)\n",
        "    medae_scaled = (medae / valor_medio_y) * 100  # Em percentagem\n",
        "    medae_scores.append(medae_scaled)\n",
        "\n",
        "    # Calcular o R²\n",
        "    r2 = r2_score(y_test, y_pred)\n",
        "    r2_scores.append(r2)\n",
        "\n",
        "    # Visualizar a importância das variáveis\n",
        "    importancia_variaveis = random_forest_model.feature_importances_\n",
        "    print(\"Importância das Variáveis:\", importancia_variaveis)\n",
        "\n",
        "# Média do MedAE escalado pelo valor (ou preço) em percentagem\n",
        "mean_medae_scaled = np.mean(medae_scores)\n",
        "print(\"Média do MedAE escalado pelo valor (ou preço) em percentagem:\", mean_medae_scaled)\n",
        "\n",
        "# Média do R²\n",
        "mean_r2 = np.mean(r2_scores)\n",
        "print(\"Média do R²:\", mean_r2)\n"
      ],
      "metadata": {
        "id": "lpAmsgS7Zph4",
        "outputId": "ea6c6a01-0385-4cf5-ad2c-657ca92b5aab",
        "colab": {
          "base_uri": "https://localhost:8080/"
        }
      },
      "execution_count": 87,
      "outputs": [
        {
          "output_type": "stream",
          "name": "stdout",
          "text": [
            "Importância das Variáveis: [0.33972574 0.66027426]\n",
            "Importância das Variáveis: [0.32330997 0.67669003]\n",
            "Importância das Variáveis: [0.41452615 0.58547385]\n",
            "Importância das Variáveis: [0.40375991 0.59624009]\n",
            "Importância das Variáveis: [0.34738728 0.65261272]\n",
            "Importância das Variáveis: [0.31084435 0.68915565]\n",
            "Importância das Variáveis: [0.40716731 0.59283269]\n",
            "Importância das Variáveis: [0.37148461 0.62851539]\n",
            "Importância das Variáveis: [0.36683326 0.63316674]\n",
            "Importância das Variáveis: [0.40115896 0.59884104]\n",
            "Média do MedAE escalado pelo valor (ou preço) em percentagem: 33.189807539240796\n",
            "Média do R²: 0.31521624206077054\n"
          ]
        }
      ]
    },
    {
      "cell_type": "markdown",
      "source": [
        "GRADIENT BOOSTING"
      ],
      "metadata": {
        "id": "gReIxsDPa_9B"
      }
    },
    {
      "cell_type": "code",
      "source": [
        "from sklearn.ensemble import GradientBoostingRegressor\n",
        "from sklearn.model_selection import KFold\n",
        "from sklearn.metrics import mean_absolute_error, mean_squared_error, r2_score\n",
        "import numpy as np\n",
        "\n",
        "# Supondo que 'dados' seja o DataFrame com suas variáveis\n",
        "X = dados[['PL2011', 'LL2011']]\n",
        "y = dados['VM30Abril2012']\n",
        "\n",
        "# Configurar a validação cruzada com 10 folds\n",
        "kf = KFold(n_splits=10, shuffle=True, random_state=42)\n",
        "\n",
        "# Listas para armazenar resultados\n",
        "medae_scores = []\n",
        "r2_scores = []\n",
        "\n",
        "# Treinar e avaliar o modelo dentro da amostra usando validação cruzada\n",
        "for train_index, test_index in kf.split(X):\n",
        "    X_train, X_test = X.iloc[train_index], X.iloc[test_index]\n",
        "    y_train, y_test = y.iloc[train_index], y.iloc[test_index]\n",
        "\n",
        "    # Criar o modelo de Regressão Gradient Boosting com os parâmetros desejados\n",
        "    gradient_boosting_model = GradientBoostingRegressor(n_estimators=500, random_state=42)\n",
        "\n",
        "    gradient_boosting_model.fit(X_train, y_train)\n",
        "    y_pred = gradient_boosting_model.predict(X_test)\n",
        "\n",
        "    # Calcular o MedAE escalado pelo valor (ou preço) em percentagem\n",
        "    medae = np.median(np.abs(y_test - y_pred))\n",
        "    valor_medio_y = np.mean(y_test)\n",
        "    medae_scaled = (medae / valor_medio_y) * 100  # Em percentagem\n",
        "    medae_scores.append(medae_scaled)\n",
        "\n",
        "    # Calcular o R²\n",
        "    r2 = r2_score(y_test, y_pred)\n",
        "    r2_scores.append(r2)\n",
        "\n",
        "    # Visualizar a importância das variáveis\n",
        "    importancia_variaveis = gradient_boosting_model.feature_importances_\n",
        "    print(\"Importância das Variáveis:\", importancia_variaveis)\n",
        "\n",
        "# Média do MedAE escalado pelo valor (ou preço) em percentagem\n",
        "mean_medae_scaled = np.mean(medae_scores)\n",
        "print(\"Média do MedAE escalado pelo valor (ou preço) em percentagem:\", mean_medae_scaled)\n",
        "\n",
        "# Média do R²\n",
        "mean_r2 = np.mean(r2_scores)\n",
        "print(\"Média do R²:\", mean_r2)\n"
      ],
      "metadata": {
        "id": "NvfZ3qUAbCf5",
        "outputId": "acb0723d-412c-4058-8bba-82a48f2fef3e",
        "colab": {
          "base_uri": "https://localhost:8080/"
        }
      },
      "execution_count": 88,
      "outputs": [
        {
          "output_type": "stream",
          "name": "stdout",
          "text": [
            "Importância das Variáveis: [0.33414125 0.66585875]\n",
            "Importância das Variáveis: [0.29858381 0.70141619]\n",
            "Importância das Variáveis: [0.42038894 0.57961106]\n",
            "Importância das Variáveis: [0.37625552 0.62374448]\n",
            "Importância das Variáveis: [0.33978432 0.66021568]\n",
            "Importância das Variáveis: [0.27773647 0.72226353]\n",
            "Importância das Variáveis: [0.3563929 0.6436071]\n",
            "Importância das Variáveis: [0.36737894 0.63262106]\n",
            "Importância das Variáveis: [0.3431371 0.6568629]\n",
            "Importância das Variáveis: [0.37426229 0.62573771]\n",
            "Média do MedAE escalado pelo valor (ou preço) em percentagem: 34.71550121930603\n",
            "Média do R²: 0.258213699572462\n"
          ]
        }
      ]
    },
    {
      "cell_type": "markdown",
      "source": [
        "REDES NEURAIS"
      ],
      "metadata": {
        "id": "Gy8Aqujjc2rw"
      }
    },
    {
      "cell_type": "code",
      "source": [
        "from sklearn.neural_network import MLPRegressor\n",
        "from sklearn.model_selection import KFold\n",
        "from sklearn.metrics import mean_absolute_error, mean_squared_error, r2_score\n",
        "import numpy as np\n",
        "\n",
        "# Supondo que 'dados' seja o DataFrame com suas variáveis\n",
        "X = dados[['PL2011', 'LL2011']]\n",
        "y = dados['VM30Abril2012']\n",
        "\n",
        "# Configurar a validação cruzada com 10 folds\n",
        "kf = KFold(n_splits=10, shuffle=True, random_state=42)\n",
        "\n",
        "# Listas para armazenar resultados\n",
        "medae_scores = []\n",
        "r2_scores = []\n",
        "\n",
        "# Treinar e avaliar o modelo dentro da amostra usando validação cruzada\n",
        "for train_index, test_index in kf.split(X):\n",
        "    X_train, X_test = X.iloc[train_index], X.iloc[test_index]\n",
        "    y_train, y_test = y.iloc[train_index], y.iloc[test_index]\n",
        "\n",
        "    # Criar o modelo de regressão de rede neural com os parâmetros desejados\n",
        "    modelo_rede_neural = MLPRegressor(hidden_layer_sizes=(30), max_iter=1000, random_state=42)\n",
        "\n",
        "    modelo_rede_neural.fit(X_train, y_train)\n",
        "    y_pred = modelo_rede_neural.predict(X_test)\n",
        "\n",
        "    # Calcular o MedAE escalado pelo valor (ou preço) em percentagem\n",
        "    medae = np.median(np.abs(y_test - y_pred))\n",
        "    valor_medio_y = np.mean(y_test)\n",
        "    medae_scaled = (medae / valor_medio_y) * 100  # Em percentagem\n",
        "    medae_scores.append(medae_scaled)\n",
        "\n",
        "    # Calcular o R²\n",
        "    r2 = r2_score(y_test, y_pred)\n",
        "    r2_scores.append(r2)\n",
        "\n",
        "# Média do MedAE escalado pelo valor (ou preço) em percentagem\n",
        "mean_medae_scaled = np.mean(medae_scores)\n",
        "print(\"Média do MedAE escalado pelo valor (ou preço) em percentagem:\", mean_medae_scaled)\n",
        "\n",
        "# Média do R²\n",
        "mean_r2 = np.mean(r2_scores)\n",
        "print(\"Média do R²:\", mean_r2)\n"
      ],
      "metadata": {
        "id": "yygOLB39c4OY",
        "outputId": "bc3494a9-469c-4d10-ed6e-4ed14c345336",
        "colab": {
          "base_uri": "https://localhost:8080/"
        }
      },
      "execution_count": 89,
      "outputs": [
        {
          "output_type": "stream",
          "name": "stderr",
          "text": [
            "/usr/local/lib/python3.10/dist-packages/sklearn/neural_network/_multilayer_perceptron.py:686: ConvergenceWarning: Stochastic Optimizer: Maximum iterations (1000) reached and the optimization hasn't converged yet.\n",
            "  warnings.warn(\n",
            "/usr/local/lib/python3.10/dist-packages/sklearn/neural_network/_multilayer_perceptron.py:686: ConvergenceWarning: Stochastic Optimizer: Maximum iterations (1000) reached and the optimization hasn't converged yet.\n",
            "  warnings.warn(\n",
            "/usr/local/lib/python3.10/dist-packages/sklearn/neural_network/_multilayer_perceptron.py:686: ConvergenceWarning: Stochastic Optimizer: Maximum iterations (1000) reached and the optimization hasn't converged yet.\n",
            "  warnings.warn(\n",
            "/usr/local/lib/python3.10/dist-packages/sklearn/neural_network/_multilayer_perceptron.py:686: ConvergenceWarning: Stochastic Optimizer: Maximum iterations (1000) reached and the optimization hasn't converged yet.\n",
            "  warnings.warn(\n",
            "/usr/local/lib/python3.10/dist-packages/sklearn/neural_network/_multilayer_perceptron.py:686: ConvergenceWarning: Stochastic Optimizer: Maximum iterations (1000) reached and the optimization hasn't converged yet.\n",
            "  warnings.warn(\n"
          ]
        },
        {
          "output_type": "stream",
          "name": "stdout",
          "text": [
            "Média do MedAE escalado pelo valor (ou preço) em percentagem: 34.49878500427248\n",
            "Média do R²: 0.3512648011962788\n"
          ]
        }
      ]
    }
  ]
}