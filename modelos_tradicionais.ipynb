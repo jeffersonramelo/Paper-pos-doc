{
  "nbformat": 4,
  "nbformat_minor": 0,
  "metadata": {
    "colab": {
      "provenance": [],
      "authorship_tag": "ABX9TyPf+o6srErMOeVZV/i8o8gD",
      "include_colab_link": true
    },
    "kernelspec": {
      "name": "python3",
      "display_name": "Python 3"
    },
    "language_info": {
      "name": "python"
    }
  },
  "cells": [
    {
      "cell_type": "markdown",
      "metadata": {
        "id": "view-in-github",
        "colab_type": "text"
      },
      "source": [
        "<a href=\"https://colab.research.google.com/github/jeffersonramelo/Paper-pos-doc/blob/main/modelos_tradicionais.ipynb\" target=\"_parent\"><img src=\"https://colab.research.google.com/assets/colab-badge.svg\" alt=\"Open In Colab\"/></a>"
      ]
    },
    {
      "cell_type": "code",
      "source": [
        "import pandas as pd\n",
        "\n",
        "# Caminho para o arquivo XLSX\n",
        "caminho_arquivo = '/content/2010.xlsx'\n",
        "\n",
        "# Lê o arquivo XLSX\n",
        "dados = pd.read_excel(caminho_arquivo)\n",
        "\n",
        "# Agora, 'dados' contém os dados do arquivo XLSX\n"
      ],
      "metadata": {
        "id": "DOE1GbH_7pjb"
      },
      "execution_count": 16,
      "outputs": []
    },
    {
      "cell_type": "code",
      "source": [
        "# Exibe as primeiras linhas do DataFrame\n",
        "print(dados.head())\n"
      ],
      "metadata": {
        "colab": {
          "base_uri": "https://localhost:8080/"
        },
        "id": "JswF8j8m8FiD",
        "outputId": "b894dc94-2f0b-486c-ea66-9de79a802b5b"
      },
      "execution_count": 17,
      "outputs": [
        {
          "output_type": "stream",
          "name": "stdout",
          "text": [
            "    ID          Nome Código    Setor EconômicoB3    VM30Abr11  PL Dez 2010  \\\n",
            "0  389    Wetzel S/A  MWET4     Bens industriais   77758.1000       1414.0   \n",
            "1  152     Excelsior  BAUH4  Consumo não cíclico   12011.1106       1971.0   \n",
            "2  126  Dtcom Direct  DTCY3     Bens industriais   67358.1720       5871.0   \n",
            "3  133    Embpar S/A  EPAR3     Bens industriais  176122.6600      17579.0   \n",
            "4   74       Cambuci  CAMB3      Consumo cíclico  112728.0000      34431.0   \n",
            "\n",
            "   LLDez 2010  ATDez 2010  PTDez 2010  VM30Abr11esc  PL Dez 2010esc  \\\n",
            "0      -731.0    194929.0    193515.0      0.544898        0.009909   \n",
            "1     -4642.0     30461.0     28490.0      0.469624        0.077064   \n",
            "2      -508.0     16764.0     10893.0      5.809744        0.506383   \n",
            "3     -3281.0    598100.0    580521.0      0.304585        0.030401   \n",
            "4      9449.0    178747.0    144316.0      0.689046        0.210458   \n",
            "\n",
            "   LLDez 2010esc  ATDez 2010esc  PTDez 2010esc  ATDez 2009  \n",
            "0      -0.005123       1.365986       1.356078    142702.0  \n",
            "1      -0.181498       1.190999       1.113935     25576.0  \n",
            "2      -0.043816       1.445920       0.939538     11594.0  \n",
            "3      -0.005674       1.034349       1.003948    578238.0  \n",
            "4       0.057757       1.092586       0.882127    163600.0  \n"
          ]
        }
      ]
    },
    {
      "cell_type": "markdown",
      "source": [
        "REGRESSÃO SEM ESCALA"
      ],
      "metadata": {
        "id": "_lfctlNuhZs5"
      }
    },
    {
      "cell_type": "code",
      "source": [
        "import statsmodels.api as sm\n",
        "\n",
        "# Supondo que 'dados' seja o DataFrame com suas variáveis\n",
        "\n",
        "# Defina as variáveis independentes e dependente\n",
        "X = dados[['PL Dez 2010', 'LLDez 2010']]\n",
        "y = dados['VM30Abr11']\n",
        "\n",
        "# Adicione uma constante ao conjunto de variáveis independentes\n",
        "X = sm.add_constant(X)\n",
        "\n",
        "# Crie o modelo de regressão linear\n",
        "modelo = sm.OLS(y, X).fit()\n",
        "\n",
        "# Visualize os resultados do modelo\n",
        "print(modelo.summary())"
      ],
      "metadata": {
        "id": "loHredU7hY2c",
        "outputId": "bb285d27-a5fe-4192-bd0c-4e4b81f30359",
        "colab": {
          "base_uri": "https://localhost:8080/"
        }
      },
      "execution_count": 22,
      "outputs": [
        {
          "output_type": "stream",
          "name": "stdout",
          "text": [
            "                            OLS Regression Results                            \n",
            "==============================================================================\n",
            "Dep. Variable:              VM30Abr11   R-squared:                       0.963\n",
            "Model:                            OLS   Adj. R-squared:                  0.962\n",
            "Method:                 Least Squares   F-statistic:                     2419.\n",
            "Date:                Thu, 14 Sep 2023   Prob (F-statistic):          2.26e-134\n",
            "Time:                        11:46:47   Log-Likelihood:                -3250.8\n",
            "No. Observations:                 190   AIC:                             6508.\n",
            "Df Residuals:                     187   BIC:                             6517.\n",
            "Df Model:                           2                                         \n",
            "Covariance Type:            nonrobust                                         \n",
            "===============================================================================\n",
            "                  coef    std err          t      P>|t|      [0.025      0.975]\n",
            "-------------------------------------------------------------------------------\n",
            "const        1.758e+06   4.87e+05      3.608      0.000    7.97e+05    2.72e+06\n",
            "PL Dez 2010     0.1953      0.049      3.965      0.000       0.098       0.292\n",
            "LLDez 2010      8.4684      0.350     24.168      0.000       7.777       9.160\n",
            "==============================================================================\n",
            "Omnibus:                      300.109   Durbin-Watson:                   1.503\n",
            "Prob(Omnibus):                  0.000   Jarque-Bera (JB):            46617.160\n",
            "Skew:                           7.236   Prob(JB):                         0.00\n",
            "Kurtosis:                      78.360   Cond. No.                     2.54e+07\n",
            "==============================================================================\n",
            "\n",
            "Notes:\n",
            "[1] Standard Errors assume that the covariance matrix of the errors is correctly specified.\n",
            "[2] The condition number is large, 2.54e+07. This might indicate that there are\n",
            "strong multicollinearity or other numerical problems.\n"
          ]
        }
      ]
    },
    {
      "cell_type": "markdown",
      "source": [
        "tratar outliers: A winsorização ao nível de 1% envolve substituir os 1% dos valores mais extremos por valores no limite do intervalo aceitável, ou seja, os 1% menores e os 1% maiores dos valores."
      ],
      "metadata": {
        "id": "95LYGQCnbVVn"
      }
    },
    {
      "cell_type": "code",
      "source": [
        "from scipy.stats.mstats import winsorize\n",
        "\n",
        "nivel_winsorizacao = 0.01  # 1% de winsorização\n",
        "\n",
        "# Aplica a winsorização às variáveis\n",
        "dados['PL Dez 2010_winsorizada'] = winsorize(dados['PL Dez 2010esc'], limits=[nivel_winsorizacao, nivel_winsorizacao])\n",
        "dados['LLDez 2010_winsorizada'] = winsorize(dados['LLDez 2010esc'], limits=[nivel_winsorizacao, nivel_winsorizacao])\n",
        "dados['VM30Abr11_winsorizada'] = winsorize(dados['VM30Abr11esc'], limits=[nivel_winsorizacao, nivel_winsorizacao])\n",
        "# Variáveis winsorizadas agora contêm os valores winsorizados"
      ],
      "metadata": {
        "id": "bcS1mdNlbcTb"
      },
      "execution_count": 18,
      "outputs": []
    },
    {
      "cell_type": "code",
      "source": [
        "import statsmodels.api as sm\n",
        "\n",
        "# Supondo que 'dados' seja o DataFrame com suas variáveis\n",
        "\n",
        "# Defina as variáveis independentes e dependente\n",
        "X = dados[['PL Dez 2010_winsorizada', 'LLDez 2010_winsorizada']]\n",
        "y = dados['VM30Abr11_winsorizada']\n",
        "\n",
        "# Adicione uma constante ao conjunto de variáveis independentes\n",
        "X = sm.add_constant(X)\n",
        "\n",
        "# Crie o modelo de regressão linear\n",
        "modelo = sm.OLS(y, X).fit()\n",
        "\n",
        "# Visualize os resultados do modelo\n",
        "print(modelo.summary())"
      ],
      "metadata": {
        "id": "eUYMK2RnbdGD",
        "outputId": "6dcedddf-ff7f-46ce-885f-941e11593bbb",
        "colab": {
          "base_uri": "https://localhost:8080/"
        }
      },
      "execution_count": 19,
      "outputs": [
        {
          "output_type": "stream",
          "name": "stdout",
          "text": [
            "                              OLS Regression Results                             \n",
            "=================================================================================\n",
            "Dep. Variable:     VM30Abr11_winsorizada   R-squared:                       0.311\n",
            "Model:                               OLS   Adj. R-squared:                  0.304\n",
            "Method:                    Least Squares   F-statistic:                     42.23\n",
            "Date:                   Thu, 14 Sep 2023   Prob (F-statistic):           7.36e-16\n",
            "Time:                           11:43:21   Log-Likelihood:                -320.23\n",
            "No. Observations:                    190   AIC:                             646.5\n",
            "Df Residuals:                        187   BIC:                             656.2\n",
            "Df Model:                              2                                         \n",
            "Covariance Type:               nonrobust                                         \n",
            "===========================================================================================\n",
            "                              coef    std err          t      P>|t|      [0.025      0.975]\n",
            "-------------------------------------------------------------------------------------------\n",
            "const                      -0.0236      0.180     -0.131      0.896      -0.379       0.332\n",
            "PL Dez 2010_winsorizada     1.8390      0.229      8.048      0.000       1.388       2.290\n",
            "LLDez 2010_winsorizada      3.6571      0.895      4.088      0.000       1.892       5.422\n",
            "==============================================================================\n",
            "Omnibus:                      100.561   Durbin-Watson:                   2.015\n",
            "Prob(Omnibus):                  0.000   Jarque-Bera (JB):              538.888\n",
            "Skew:                           2.004   Prob(JB):                    9.59e-118\n",
            "Kurtosis:                      10.211   Cond. No.                         11.2\n",
            "==============================================================================\n",
            "\n",
            "Notes:\n",
            "[1] Standard Errors assume that the covariance matrix of the errors is correctly specified.\n"
          ]
        }
      ]
    },
    {
      "cell_type": "markdown",
      "source": [
        "Em relação aos resultados apresentados no seu modelo de regressão:\n",
        "\n",
        "O valor do teste de Durbin-Watson é 1.676, o que sugere uma leve autocorrelação positiva nos resíduos, mas não muito forte.\n",
        "O valor-p associado ao teste de Jarque-Bera é praticamente zero (0.00), o que indica que os resíduos não seguem uma distribuição normal.\n",
        "\n",
        "Interpretação DW:\n",
        "\n",
        "Valor DW ≈ 2: Ausência de autocorrelação significativa nos resíduos (boa notícia).\n",
        "Valor DW < 2: Autocorrelação positiva nos resíduos (erros adjacentes são correlacionados positivamente).\n",
        "Valor DW > 2: Autocorrelação negativa nos resíduos (erros adjacentes são correlacionados negativamente)."
      ],
      "metadata": {
        "id": "BYoRhNnCeQLW"
      }
    },
    {
      "cell_type": "markdown",
      "source": [
        "teste de heterocedasticidade de White. Se o valor-p for menor que um nível de significância escolhido (por exemplo, 0,05), você pode rejeitar a hipótese nula de homocedasticidade"
      ],
      "metadata": {
        "id": "9Zd9X-08b9S_"
      }
    },
    {
      "cell_type": "code",
      "source": [
        "import statsmodels.api as sm\n",
        "from statsmodels.stats.diagnostic import het_white\n",
        "\n",
        "# Calcule os resíduos do modelo\n",
        "residuos = modelo.resid\n",
        "\n",
        "# Realize o teste de White para heterocedasticidade\n",
        "teste_white = het_white(residuos, X)\n",
        "\n",
        "# Imprima os resultados do teste\n",
        "print(\"Estatística do teste de White:\", teste_white[0])\n",
        "print(\"Valor-p do teste de White:\", teste_white[1])"
      ],
      "metadata": {
        "id": "ICEs0hnicHRU",
        "outputId": "263ae6e0-7b69-4273-b19f-d2c95969340e",
        "colab": {
          "base_uri": "https://localhost:8080/"
        }
      },
      "execution_count": 23,
      "outputs": [
        {
          "output_type": "stream",
          "name": "stdout",
          "text": [
            "Estatística do teste de White: 88.5560770784808\n",
            "Valor-p do teste de White: 2.6679629712877945e-18\n"
          ]
        }
      ]
    },
    {
      "cell_type": "markdown",
      "source": [
        "erro absoluto médio (MAE) e erro médio quadrático (MSE)"
      ],
      "metadata": {
        "id": "-lNjj-1DYqxE"
      }
    },
    {
      "cell_type": "code",
      "source": [
        "import statsmodels.api as sm\n",
        "import numpy as np\n",
        "\n",
        "# Supondo que 'dados' seja o DataFrame com suas variáveis\n",
        "\n",
        "# Adicione uma constante ao conjunto de variáveis independentes\n",
        "X = sm.add_constant(X)\n",
        "\n",
        "# Crie o modelo de regressão linear\n",
        "modelo = sm.OLS(y, X).fit()\n",
        "\n",
        "# Faça previsões com o modelo\n",
        "previsoes = modelo.predict(X)\n",
        "\n",
        "# Calcule o Median Absolute Error (MedAE)\n",
        "medae = np.median(np.abs(y - previsoes))\n",
        "\n",
        "# Calcule o valor médio da variável de resposta\n",
        "valor_medio_y = np.mean(y)\n",
        "\n",
        "# Calcule o MedAE escalado pelo valor (ou preço)\n",
        "medae_scaled = (medae / valor_medio_y) * 100  # Em percentagem\n",
        "\n",
        "# Calcule o Erro Absoluto Médio (MAE)\n",
        "mae = np.mean(np.abs(y - previsoes))\n",
        "\n",
        "# Calcule o Erro Médio Quadrático (MSE)\n",
        "mse = np.mean((y - previsoes) ** 2)\n",
        "\n",
        "# Calcule a Raiz do Erro Quadrático Médio (RMSE)\n",
        "rmse = np.sqrt(mse)\n",
        "\n",
        "print(\"Median Absolute Error (MedAE):\", medae)\n",
        "print(\"MedAE escalado pelo valor (ou preço) em percentagem:\", medae_scaled)\n",
        "print(\"Erro Absoluto Médio (MAE):\", mae)\n",
        "print(\"Erro Médio Quadrático (MSE):\", mse)\n",
        "print(\"Raiz do Erro Quadrático Médio (RMSE):\", rmse)\n"
      ],
      "metadata": {
        "id": "ofykdFz56YXe",
        "outputId": "24bdabd1-aee8-4ec8-9526-c0b7808cc77d",
        "colab": {
          "base_uri": "https://localhost:8080/"
        }
      },
      "execution_count": 24,
      "outputs": [
        {
          "output_type": "stream",
          "name": "stdout",
          "text": [
            "Median Absolute Error (MedAE): 1727924.2895822893\n",
            "MedAE escalado pelo valor (ou preço) em percentagem: 19.958420082487134\n",
            "Erro Absoluto Médio (MAE): 2900067.5475697857\n",
            "Erro Médio Quadrático (MSE): 42516419228227.7\n",
            "Raiz do Erro Quadrático Médio (RMSE): 6520461.580918003\n"
          ]
        }
      ]
    },
    {
      "cell_type": "markdown",
      "source": [
        "Nesse caso específico, o valor de 17.74% indica que, em média, as previsões do modelo estão erradas em cerca de 17.74% do valor médio (ou preço) da variável de resposta. Isso ajuda a ter uma ideia do tamanho relativo dos erros do modelo em relação ao valor médio dos dados."
      ],
      "metadata": {
        "id": "YWiLqzmM7ERc"
      }
    },
    {
      "cell_type": "markdown",
      "source": [
        "minimos quadrados ponderados, com pesos com base na variância dos erros"
      ],
      "metadata": {
        "id": "Vmo8zEDpLVRM"
      }
    },
    {
      "cell_type": "code",
      "source": [
        "import statsmodels.api as sm\n",
        "import numpy as np\n",
        "\n",
        "# Suponha que 'dados' seja o DataFrame com suas variáveis\n",
        "\n",
        "# Defina as variáveis independentes e dependente\n",
        "X = dados[['PL Dez 2010', 'LLDez 2010']]\n",
        "y = dados['VM30Abr11']\n",
        "\n",
        "# Adicione uma constante ao conjunto de variáveis independentes\n",
        "X = sm.add_constant(X)\n",
        "\n",
        "# Crie o modelo de regressão linear\n",
        "modelo = sm.OLS(y, X).fit()\n",
        "\n",
        "# Calcule os resíduos (erros)\n",
        "residuos = modelo.resid\n",
        "\n",
        "# Calcule a variância dos resíduos\n",
        "variancia_residuos = np.var(residuos)\n",
        "\n",
        "# Calcule os pesos com base na variância dos resíduos (inverso da variância)\n",
        "pesos = 1 / variancia_residuos\n",
        "\n",
        "# Crie o modelo de regressão linear ponderada (WLS) com os pesos calculados\n",
        "modelo_wls = sm.WLS(y, X, weights=pesos).fit()\n",
        "\n",
        "# Visualize os resultados do modelo ponderado\n",
        "print(modelo_wls.summary())\n"
      ],
      "metadata": {
        "colab": {
          "base_uri": "https://localhost:8080/"
        },
        "id": "7gfcj59gNQlc",
        "outputId": "0e2bd2bb-12e5-4381-def4-7960a2f071c1"
      },
      "execution_count": null,
      "outputs": [
        {
          "output_type": "stream",
          "name": "stdout",
          "text": [
            "                            WLS Regression Results                            \n",
            "==============================================================================\n",
            "Dep. Variable:              VM30Abr11   R-squared:                       0.959\n",
            "Model:                            WLS   Adj. R-squared:                  0.959\n",
            "Method:                 Least Squares   F-statistic:                     2500.\n",
            "Date:                Wed, 13 Sep 2023   Prob (F-statistic):          1.27e-148\n",
            "Time:                        16:42:07   Log-Likelihood:                -3711.2\n",
            "No. Observations:                 216   AIC:                             7428.\n",
            "Df Residuals:                     213   BIC:                             7439.\n",
            "Df Model:                           2                                         \n",
            "Covariance Type:            nonrobust                                         \n",
            "===============================================================================\n",
            "                  coef    std err          t      P>|t|      [0.025      0.975]\n",
            "-------------------------------------------------------------------------------\n",
            "const        1.755e+06   4.94e+05      3.554      0.000    7.82e+05    2.73e+06\n",
            "PL Dez 2010     0.2355      0.049      4.838      0.000       0.140       0.331\n",
            "LLDez 2010      8.3309      0.335     24.849      0.000       7.670       8.992\n",
            "==============================================================================\n",
            "Omnibus:                      277.872   Durbin-Watson:                   1.676\n",
            "Prob(Omnibus):                  0.000   Jarque-Bera (JB):            25296.698\n",
            "Skew:                           5.324   Prob(JB):                         0.00\n",
            "Kurtosis:                      54.936   Cond. No.                     2.54e+07\n",
            "==============================================================================\n",
            "\n",
            "Notes:\n",
            "[1] Standard Errors assume that the covariance matrix of the errors is correctly specified.\n",
            "[2] The smallest eigenvalue is 4.16e-12. This might indicate that there are\n",
            "strong multicollinearity problems or that the design matrix is singular.\n"
          ]
        }
      ]
    },
    {
      "cell_type": "markdown",
      "source": [
        "ESTIMAÇÃO FORA DA AMOSTRA"
      ],
      "metadata": {
        "id": "0vo_AkMGd9Jk"
      }
    },
    {
      "cell_type": "code",
      "source": [
        "import statsmodels.api as sm\n",
        "import numpy as np\n",
        "from sklearn.model_selection import cross_val_predict, KFold\n",
        "from sklearn.metrics import r2_score, mean_absolute_error, mean_squared_error\n",
        "\n",
        "# Supondo que 'dados' seja o DataFrame com suas variáveis\n",
        "\n",
        "# Defina as variáveis independentes e dependente\n",
        "X = dados[['PL Dez 2010', 'LLDez 2010']]\n",
        "y = dados['VM30Abr11']\n",
        "\n",
        "# Converta os dados para matrizes NumPy\n",
        "X = X.to_numpy()\n",
        "y = y.to_numpy()\n",
        "\n",
        "# Crie o modelo de regressão linear\n",
        "modelo = sm.OLS(y, X)\n",
        "\n",
        "# Defina a validação cruzada de 10-fold\n",
        "kf = KFold(n_splits=10, shuffle=True, random_state=42)\n",
        "\n",
        "# Listas para armazenar as métricas em cada fold\n",
        "r2_scores = []\n",
        "mae_scores = []\n",
        "mse_scores = []\n",
        "rmse_scores = []  # Adicionado para armazenar RMSE\n",
        "\n",
        "# Realize a validação cruzada e calcule as métricas em cada fold\n",
        "for train_index, test_index in kf.split(X):\n",
        "    X_train, X_test = X[train_index], X[test_index]\n",
        "    y_train, y_test = y[train_index], y[test_index]\n",
        "\n",
        "    modelo_fold = modelo.fit()\n",
        "    y_pred = modelo_fold.predict(X_test)\n",
        "\n",
        "    r2_scores.append(r2_score(y_test, y_pred))\n",
        "    mae_scores.append(mean_absolute_error(y_test, y_pred))\n",
        "    mse_scores.append(mean_squared_error(y_test, y_pred))\n",
        "    rmse_scores.append(np.sqrt(mean_squared_error(y_test, y_pred)))  # Cálculo do RMSE\n",
        "\n",
        "# Calcule as médias das métricas em todos os folds\n",
        "mean_r2_score = np.mean(r2_scores)\n",
        "mean_mae = np.mean(mae_scores)\n",
        "mean_mse = np.mean(mse_scores)\n",
        "mean_rmse = np.mean(rmse_scores)  # Média do RMSE\n",
        "\n",
        "# Imprima as médias das métricas\n",
        "print(f'Média do R²: {mean_r2_score}')\n",
        "print(f'Média do Erro Absoluto Médio (MAE): {mean_mae}')\n",
        "print(f'Média do Erro Médio Quadrático (MSE): {mean_mse}')\n",
        "print(f'Média da Raiz do Erro Médio Quadrático (RMSE): {mean_rmse}')\n"
      ],
      "metadata": {
        "id": "G0tylF_C1sir",
        "outputId": "22fb8534-a70f-48f6-8a1a-2ebbf2c22cda",
        "colab": {
          "base_uri": "https://localhost:8080/"
        }
      },
      "execution_count": null,
      "outputs": [
        {
          "output_type": "stream",
          "name": "stdout",
          "text": [
            "Média do R²: 0.792669429937137\n",
            "Média do Erro Absoluto Médio (MAE): 2779057.4455175055\n",
            "Média do Erro Médio Quadrático (MSE): 51603169213414.05\n",
            "Média da Raiz do Erro Médio Quadrático (RMSE): 6339657.325339642\n"
          ]
        }
      ]
    }
  ]
}