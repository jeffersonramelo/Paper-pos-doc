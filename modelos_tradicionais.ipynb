{
  "nbformat": 4,
  "nbformat_minor": 0,
  "metadata": {
    "colab": {
      "provenance": [],
      "authorship_tag": "ABX9TyODE2fpoO8EMFdJaCPgmz0D",
      "include_colab_link": true
    },
    "kernelspec": {
      "name": "python3",
      "display_name": "Python 3"
    },
    "language_info": {
      "name": "python"
    }
  },
  "cells": [
    {
      "cell_type": "markdown",
      "metadata": {
        "id": "view-in-github",
        "colab_type": "text"
      },
      "source": [
        "<a href=\"https://colab.research.google.com/github/jeffersonramelo/Paper-pos-doc/blob/main/modelos_tradicionais.ipynb\" target=\"_parent\"><img src=\"https://colab.research.google.com/assets/colab-badge.svg\" alt=\"Open In Colab\"/></a>"
      ]
    },
    {
      "cell_type": "code",
      "source": [
        "import pandas as pd\n",
        "\n",
        "# Caminho para o arquivo XLSX\n",
        "caminho_arquivo = '/content/2010.xlsx'\n",
        "\n",
        "# Lê o arquivo XLSX\n",
        "dados = pd.read_excel(caminho_arquivo)\n",
        "\n",
        "# Agora, 'dados' contém os dados do arquivo XLSX\n"
      ],
      "metadata": {
        "id": "DOE1GbH_7pjb"
      },
      "execution_count": 42,
      "outputs": []
    },
    {
      "cell_type": "code",
      "source": [
        "import pandas as pd\n",
        "\n",
        "# Supondo que seu DataFrame se chame \"dados\"\n",
        "\n",
        "# Listar todas as colunas do DataFrame \"dados\"\n",
        "print(dados.columns)\n"
      ],
      "metadata": {
        "id": "iSi7wywX5wrp",
        "outputId": "0289a4b7-d980-4744-9a63-9b3be07118b4",
        "colab": {
          "base_uri": "https://localhost:8080/"
        }
      },
      "execution_count": 8,
      "outputs": [
        {
          "output_type": "stream",
          "name": "stdout",
          "text": [
            "Index(['id', 'COD', 'SETOR', 'd1', 'd2', 'd3', 'd4', 'd5', 'd6', 'd7', 'd8',\n",
            "       'd9', 'VM30Abril11', 'PL10', 'LL10', 'AT10', 'PT10', 'INTANG10',\n",
            "       'CAXEEQUIV10', 'GREC10', 'REC09', 'REC10', 'CAXOP10', 'ORA10'],\n",
            "      dtype='object')\n"
          ]
        }
      ]
    },
    {
      "cell_type": "markdown",
      "source": [
        "tratar valores ausentes"
      ],
      "metadata": {
        "id": "tSBa2W135L_Y"
      }
    },
    {
      "cell_type": "code",
      "source": [
        "import pandas as pd\n",
        "import numpy as np\n",
        "\n",
        "# Supondo que seu DataFrame se chame \"dados\"\n",
        "\n",
        "# Substituir apenas traços (\"-\") e valores em branco por NaN\n",
        "dados = dados.replace(['-',''], np.nan)\n",
        "\n",
        "# Calcular a média de todas as colunas, ignorando os valores NaN\n",
        "media_por_coluna = dados.mean(numeric_only=True)\n",
        "\n",
        "# Preencher os valores ausentes em todas as colunas com a média de cada coluna\n",
        "dados.fillna(media_por_coluna, inplace=True)\n"
      ],
      "metadata": {
        "id": "jlrJKMff7WNL"
      },
      "execution_count": 43,
      "outputs": []
    },
    {
      "cell_type": "code",
      "source": [
        "# Visualizar o conteúdo do DataFrame \"dados\"\n",
        "print(dados)"
      ],
      "metadata": {
        "id": "tRJNXdDx7aeL",
        "outputId": "87c952b2-2318-4c62-c0be-e25c70de54e5",
        "colab": {
          "base_uri": "https://localhost:8080/"
        }
      },
      "execution_count": 11,
      "outputs": [
        {
          "output_type": "stream",
          "name": "stdout",
          "text": [
            "      id     COD              SETOR  d1  d2  d3  d4  d5  d6  d7  ...  \\\n",
            "0      4   ABCB4         Financeiro   0   0   0   1   0   0   0  ...   \n",
            "1      5   EALT4   Bens industriais   1   0   0   0   0   0   0  ...   \n",
            "2      9   AFLT3  Utilidade pública   0   0   0   0   0   0   0  ...   \n",
            "3     12  BRGE12         Financeiro   0   0   0   1   0   0   0  ...   \n",
            "4     13   CRIV4         Financeiro   0   0   0   1   0   0   0  ...   \n",
            "..   ...     ...                ...  ..  ..  ..  ..  ..  ..  ..  ...   \n",
            "228  388   MWET4   Bens industriais   1   0   0   0   0   0   0  ...   \n",
            "229  389   WHRL4    Consumo cíclico   0   1   0   0   0   0   0  ...   \n",
            "230  390   PORT3   Bens industriais   1   0   0   0   0   0   0  ...   \n",
            "231  392   WLMM4   Bens industriais   1   0   0   0   0   0   0  ...   \n",
            "232  394   YDUQ3    Consumo cíclico   0   1   0   0   0   0   0  ...   \n",
            "\n",
            "         LL10       AT10       PT10      INTANG10    CAXEEQUIV10    GREC10  \\\n",
            "0    202224.0  9816888.0  8468970.0  1.270539e+06  776299.928786  0.393048   \n",
            "1      5927.0   237963.0   192154.0  6.140000e+02    1136.000000  0.185171   \n",
            "2     19027.0    84977.0     8632.0  0.000000e+00   37219.000000  0.393048   \n",
            "3     50724.0  4783762.0  4085992.0  2.080000e+02    5185.000000 -0.267375   \n",
            "4     61183.0  3004827.0  2425353.0  1.270539e+06  776299.928786  0.393048   \n",
            "..        ...        ...        ...           ...            ...       ...   \n",
            "228    -731.0   194929.0   193515.0  9.610000e+02    5917.000000  0.471220   \n",
            "229  620332.0  4852128.0  3215435.0  1.270539e+06  503784.000000  0.106424   \n",
            "230  116627.0  1564177.0   789323.0  2.806000e+04  258096.000000  0.152487   \n",
            "231   55143.0   568110.0   132396.0  0.000000e+00  174776.000000  0.735090   \n",
            "232   80660.0   804536.0   218638.0  1.366850e+05   44727.000000  0.007282   \n",
            "\n",
            "            REC09         REC10    CAXOP10       ORA10  \n",
            "0    3.962225e+06  4.842052e+06   207322.0  6373.44841  \n",
            "1    1.230970e+05  1.458910e+05    17513.0     0.00000  \n",
            "2    3.962225e+06  3.177500e+04    20714.0     0.00000  \n",
            "3    1.533800e+04  1.123700e+04    31277.0     0.00000  \n",
            "4    3.962225e+06  4.842052e+06    73248.0     0.00000  \n",
            "..            ...           ...        ...         ...  \n",
            "228  1.535800e+05  2.259500e+05    10260.0     0.00000  \n",
            "229  6.674652e+06  7.384996e+06  1143791.0     0.00000  \n",
            "230  8.320980e+05  9.589820e+05   228234.0     0.00000  \n",
            "231  5.664180e+05  9.827860e+05    42949.0     0.00000  \n",
            "232  1.008810e+06  1.016156e+06   167123.0     0.00000  \n",
            "\n",
            "[233 rows x 24 columns]\n"
          ]
        }
      ]
    },
    {
      "cell_type": "markdown",
      "source": [
        "REGRESSÃO SEM ESCALA"
      ],
      "metadata": {
        "id": "_lfctlNuhZs5"
      }
    },
    {
      "cell_type": "markdown",
      "source": [
        "tratar outliers: A winsorização ao nível de 1% envolve substituir os 1% dos valores mais extremos por valores no limite do intervalo aceitável, ou seja, os 1% menores e os 1% maiores dos valores."
      ],
      "metadata": {
        "id": "95LYGQCnbVVn"
      }
    },
    {
      "cell_type": "code",
      "source": [
        "import pandas as pd\n",
        "import numpy as np\n",
        "from scipy.stats import mstats\n",
        "\n",
        "# Supondo que seu DataFrame se chame \"dados\"\n",
        "\n",
        "# Lista de variáveis para winsorizar\n",
        "variaveis_winsorizar = ['VM30Abril11', 'PL10', 'LL10', 'AT10', 'PT10', 'INTANG10',\n",
        "                        'CAXEEQUIV10', 'GREC10', 'REC09', 'REC10', 'CAXOP10', 'ORA10']\n",
        "\n",
        "# Aplicar winsorização de 1% nas variáveis\n",
        "for coluna in variaveis_winsorizar:\n",
        "    dados[coluna] = mstats.winsorize(dados[coluna], limits=[0.01, 0.01])\n",
        "\n",
        "# Agora, as variáveis especificadas foram winsorizadas\n"
      ],
      "metadata": {
        "id": "bcS1mdNlbcTb"
      },
      "execution_count": 38,
      "outputs": []
    },
    {
      "cell_type": "code",
      "source": [
        "import statsmodels.api as sm\n",
        "\n",
        "# Supondo que 'dados' seja o DataFrame com suas variáveis\n",
        "\n",
        "# Defina as variáveis independentes e dependente\n",
        "X = dados[['PL10', 'LL10', 'd1', 'd2', 'd3', 'd4', 'd5', 'd6', 'd7', 'd8', 'd9', 'INTANG10',\n",
        "       'CAXEEQUIV10', 'GREC10', 'REC10', 'CAXOP10', 'ORA10']]\n",
        "y = dados['VM30Abril11']\n",
        "\n",
        "# Adicione uma constante ao conjunto de variáveis independentes\n",
        "X = sm.add_constant(X)\n",
        "\n",
        "# Crie o modelo de regressão linear\n",
        "modelo = sm.OLS(y, X).fit()\n",
        "\n",
        "# Visualize os resultados do modelo\n",
        "print(modelo.summary())\n",
        "\n",
        "# Calcule o MedAE\n",
        "y_pred = modelo.predict(X)\n",
        "medae = np.median(np.abs(y - y_pred))\n",
        "\n",
        "# Calcule o valor médio da variável de resposta\n",
        "valor_medio_y = np.mean(y)\n",
        "\n",
        "# Calcule o MedAE escalado pelo valor (ou preço)\n",
        "medae_scaled = (medae / valor_medio_y) * 100  # Em percentagem\n",
        "\n",
        "print(\"Median Absolute Error (MedAE):\", medae)\n",
        "print(\"MedAE escalado pelo valor (ou preço) em percentagem:\", medae_scaled)\n"
      ],
      "metadata": {
        "id": "eUYMK2RnbdGD",
        "outputId": "f66065a8-61ce-45a7-8aa8-d5d0c52c4bac",
        "colab": {
          "base_uri": "https://localhost:8080/"
        }
      },
      "execution_count": 39,
      "outputs": [
        {
          "output_type": "stream",
          "name": "stdout",
          "text": [
            "                            OLS Regression Results                            \n",
            "==============================================================================\n",
            "Dep. Variable:            VM30Abril11   R-squared:                       0.945\n",
            "Model:                            OLS   Adj. R-squared:                  0.941\n",
            "Method:                 Least Squares   F-statistic:                     216.9\n",
            "Date:                Wed, 20 Sep 2023   Prob (F-statistic):          4.98e-125\n",
            "Time:                        00:35:34   Log-Likelihood:                -3938.9\n",
            "No. Observations:                 233   AIC:                             7914.\n",
            "Df Residuals:                     215   BIC:                             7976.\n",
            "Df Model:                          17                                         \n",
            "Covariance Type:            nonrobust                                         \n",
            "===============================================================================\n",
            "                  coef    std err          t      P>|t|      [0.025      0.975]\n",
            "-------------------------------------------------------------------------------\n",
            "const       -7.131e+05   2.29e+06     -0.311      0.756   -5.23e+06     3.8e+06\n",
            "PL10            0.0925      0.092      1.004      0.316      -0.089       0.274\n",
            "LL10            7.4771      0.692     10.808      0.000       6.114       8.841\n",
            "d1           1.785e+06   2.45e+06      0.729      0.467   -3.04e+06    6.61e+06\n",
            "d2           1.272e+06    2.4e+06      0.529      0.597   -3.46e+06    6.01e+06\n",
            "d3           7.402e+06   2.66e+06      2.780      0.006    2.15e+06    1.27e+07\n",
            "d4           7.788e+05   2.45e+06      0.318      0.751   -4.05e+06    5.61e+06\n",
            "d5          -5.578e+05   2.55e+06     -0.219      0.827   -5.58e+06    4.46e+06\n",
            "d6           2.837e+06   3.04e+06      0.934      0.351   -3.15e+06    8.83e+06\n",
            "d7           3.075e+06   2.94e+06      1.047      0.296   -2.71e+06    8.86e+06\n",
            "d8           1.767e+06   3.93e+06      0.450      0.653   -5.97e+06     9.5e+06\n",
            "d9           1.314e+06   2.49e+06      0.527      0.599    -3.6e+06    6.23e+06\n",
            "INTANG10       -0.3794      0.268     -1.414      0.159      -0.908       0.149\n",
            "CAXEEQUIV10     0.5496      0.371      1.481      0.140      -0.182       1.281\n",
            "GREC10      -3.346e+05   5.11e+05     -0.655      0.513   -1.34e+06    6.73e+05\n",
            "REC10           0.1750      0.078      2.251      0.025       0.022       0.328\n",
            "CAXOP10         1.1742      0.323      3.630      0.000       0.537       1.812\n",
            "ORA10         -19.6804      6.427     -3.062      0.002     -32.348      -7.013\n",
            "==============================================================================\n",
            "Omnibus:                      231.988   Durbin-Watson:                   2.005\n",
            "Prob(Omnibus):                  0.000   Jarque-Bera (JB):            19861.133\n",
            "Skew:                           3.438   Prob(JB):                         0.00\n",
            "Kurtosis:                      47.705   Cond. No.                     2.97e+08\n",
            "==============================================================================\n",
            "\n",
            "Notes:\n",
            "[1] Standard Errors assume that the covariance matrix of the errors is correctly specified.\n",
            "[2] The condition number is large, 2.97e+08. This might indicate that there are\n",
            "strong multicollinearity or other numerical problems.\n",
            "Median Absolute Error (MedAE): 1174085.74364602\n",
            "MedAE escalado pelo valor (ou preço) em percentagem: 14.960339905697333\n"
          ]
        }
      ]
    },
    {
      "cell_type": "markdown",
      "source": [
        "Em relação aos resultados apresentados no seu modelo de regressão:\n",
        "\n",
        "O valor do teste de Durbin-Watson é 1.676, o que sugere uma leve autocorrelação positiva nos resíduos, mas não muito forte.\n",
        "O valor-p associado ao teste de Jarque-Bera é praticamente zero (0.00), o que indica que os resíduos não seguem uma distribuição normal.\n",
        "\n",
        "Interpretação DW:\n",
        "\n",
        "Valor DW ≈ 2: Ausência de autocorrelação significativa nos resíduos (boa notícia).\n",
        "Valor DW < 2: Autocorrelação positiva nos resíduos (erros adjacentes são correlacionados positivamente).\n",
        "Valor DW > 2: Autocorrelação negativa nos resíduos (erros adjacentes são correlacionados negativamente)."
      ],
      "metadata": {
        "id": "BYoRhNnCeQLW"
      }
    },
    {
      "cell_type": "markdown",
      "source": [
        "Nesse caso específico, o valor de 17.74% indica que, em média, as previsões do modelo estão erradas em cerca de 17.74% do valor médio (ou preço) da variável de resposta. Isso ajuda a ter uma ideia do tamanho relativo dos erros do modelo em relação ao valor médio dos dados."
      ],
      "metadata": {
        "id": "SzP6fpN084-3"
      }
    },
    {
      "cell_type": "markdown",
      "source": [
        "teste de heterocedasticidade de White. Se o valor-p for menor que um nível de significância escolhido (por exemplo, 0,05), você pode rejeitar a hipótese nula de homocedasticidade"
      ],
      "metadata": {
        "id": "9Zd9X-08b9S_"
      }
    },
    {
      "cell_type": "code",
      "source": [
        "import statsmodels.api as sm\n",
        "from statsmodels.stats.diagnostic import het_white\n",
        "\n",
        "# Calcule os resíduos do modelo\n",
        "residuos = modelo.resid\n",
        "\n",
        "# Realize o teste de White para heterocedasticidade\n",
        "teste_white = het_white(residuos, X)\n",
        "\n",
        "# Imprima os resultados do teste\n",
        "print(\"Estatística do teste de White:\", teste_white[0])\n",
        "print(\"Valor-p do teste de White:\", teste_white[1])"
      ],
      "metadata": {
        "id": "ICEs0hnicHRU",
        "outputId": "99353bcf-a4b8-4f41-87f9-2a7fbced2cec",
        "colab": {
          "base_uri": "https://localhost:8080/",
          "height": 368
        }
      },
      "execution_count": 40,
      "outputs": [
        {
          "output_type": "error",
          "ename": "AssertionError",
          "evalue": "ignored",
          "traceback": [
            "\u001b[0;31m---------------------------------------------------------------------------\u001b[0m",
            "\u001b[0;31mAssertionError\u001b[0m                            Traceback (most recent call last)",
            "\u001b[0;32m<ipython-input-40-1bfdf9302449>\u001b[0m in \u001b[0;36m<cell line: 8>\u001b[0;34m()\u001b[0m\n\u001b[1;32m      6\u001b[0m \u001b[0;34m\u001b[0m\u001b[0m\n\u001b[1;32m      7\u001b[0m \u001b[0;31m# Realize o teste de White para heterocedasticidade\u001b[0m\u001b[0;34m\u001b[0m\u001b[0;34m\u001b[0m\u001b[0m\n\u001b[0;32m----> 8\u001b[0;31m \u001b[0mteste_white\u001b[0m \u001b[0;34m=\u001b[0m \u001b[0mhet_white\u001b[0m\u001b[0;34m(\u001b[0m\u001b[0mresiduos\u001b[0m\u001b[0;34m,\u001b[0m \u001b[0mX\u001b[0m\u001b[0;34m)\u001b[0m\u001b[0;34m\u001b[0m\u001b[0;34m\u001b[0m\u001b[0m\n\u001b[0m\u001b[1;32m      9\u001b[0m \u001b[0;34m\u001b[0m\u001b[0m\n\u001b[1;32m     10\u001b[0m \u001b[0;31m# Imprima os resultados do teste\u001b[0m\u001b[0;34m\u001b[0m\u001b[0;34m\u001b[0m\u001b[0m\n",
            "\u001b[0;32m/usr/local/lib/python3.10/dist-packages/statsmodels/stats/diagnostic.py\u001b[0m in \u001b[0;36mhet_white\u001b[0;34m(resid, exog)\u001b[0m\n\u001b[1;32m    856\u001b[0m     \u001b[0;31m# df_model checks the rank to determine df\u001b[0m\u001b[0;34m\u001b[0m\u001b[0;34m\u001b[0m\u001b[0m\n\u001b[1;32m    857\u001b[0m     \u001b[0;31m# extra calculation that can be removed:\u001b[0m\u001b[0;34m\u001b[0m\u001b[0;34m\u001b[0m\u001b[0m\n\u001b[0;32m--> 858\u001b[0;31m     \u001b[0;32massert\u001b[0m \u001b[0mresols\u001b[0m\u001b[0;34m.\u001b[0m\u001b[0mdf_model\u001b[0m \u001b[0;34m==\u001b[0m \u001b[0mnp\u001b[0m\u001b[0;34m.\u001b[0m\u001b[0mlinalg\u001b[0m\u001b[0;34m.\u001b[0m\u001b[0mmatrix_rank\u001b[0m\u001b[0;34m(\u001b[0m\u001b[0mexog\u001b[0m\u001b[0;34m)\u001b[0m \u001b[0;34m-\u001b[0m \u001b[0;36m1\u001b[0m\u001b[0;34m\u001b[0m\u001b[0;34m\u001b[0m\u001b[0m\n\u001b[0m\u001b[1;32m    859\u001b[0m     \u001b[0mlmpval\u001b[0m \u001b[0;34m=\u001b[0m \u001b[0mstats\u001b[0m\u001b[0;34m.\u001b[0m\u001b[0mchi2\u001b[0m\u001b[0;34m.\u001b[0m\u001b[0msf\u001b[0m\u001b[0;34m(\u001b[0m\u001b[0mlm\u001b[0m\u001b[0;34m,\u001b[0m \u001b[0mresols\u001b[0m\u001b[0;34m.\u001b[0m\u001b[0mdf_model\u001b[0m\u001b[0;34m)\u001b[0m\u001b[0;34m\u001b[0m\u001b[0;34m\u001b[0m\u001b[0m\n\u001b[1;32m    860\u001b[0m     \u001b[0;32mreturn\u001b[0m \u001b[0mlm\u001b[0m\u001b[0;34m,\u001b[0m \u001b[0mlmpval\u001b[0m\u001b[0;34m,\u001b[0m \u001b[0mfval\u001b[0m\u001b[0;34m,\u001b[0m \u001b[0mfpval\u001b[0m\u001b[0;34m\u001b[0m\u001b[0;34m\u001b[0m\u001b[0m\n",
            "\u001b[0;31mAssertionError\u001b[0m: "
          ]
        }
      ]
    },
    {
      "cell_type": "code",
      "source": [
        "import pandas as pd\n",
        "\n",
        "# Caminho para o arquivo XLSX\n",
        "caminho_arquivo = '/content/2010.xlsx'\n",
        "\n",
        "# Lê o arquivo XLSX\n",
        "dados = pd.read_excel(caminho_arquivo)\n",
        "\n",
        "# Agora, 'dados' contém os dados do arquivo XLSX"
      ],
      "metadata": {
        "id": "NS7hOjLV-KLR"
      },
      "execution_count": 35,
      "outputs": []
    },
    {
      "cell_type": "markdown",
      "source": [
        "minimos quadrados ponderados (MQP), com pesos com base na variância dos erros"
      ],
      "metadata": {
        "id": "Vmo8zEDpLVRM"
      }
    },
    {
      "cell_type": "code",
      "source": [
        "import statsmodels.api as sm\n",
        "import numpy as np\n",
        "\n",
        "# Suponha que 'dados' seja o DataFrame com suas variáveis\n",
        "\n",
        "# Defina as variáveis independentes e dependente\n",
        "X = dados[['PL10', 'LL10', 'd1', 'd2', 'd3', 'd4', 'd5', 'd6', 'd7', 'd8', 'd9', 'INTANG10',\n",
        "       'CAXEEQUIV10', 'GREC10', 'REC10', 'CAXOP10', 'ORA10']]\n",
        "y = dados['VM30Abril11']\n",
        "\n",
        "# Adicione uma constante ao conjunto de variáveis independentes\n",
        "X = sm.add_constant(X)\n",
        "\n",
        "# Crie o modelo de regressão linear\n",
        "modelo = sm.OLS(y, X).fit()\n",
        "\n",
        "# Calcule os resíduos (erros)\n",
        "residuos = modelo.resid\n",
        "\n",
        "# Calcule a variância dos resíduos\n",
        "variancia_residuos = np.var(residuos)\n",
        "\n",
        "# Calcule os pesos com base na variância dos resíduos (inverso da variância)\n",
        "pesos = 1 / variancia_residuos\n",
        "\n",
        "# Crie o modelo de regressão linear ponderada (WLS) com os pesos calculados\n",
        "modelo_wls = sm.WLS(y, X, weights=pesos).fit()\n",
        "\n",
        "# Visualize os resultados do modelo ponderado\n",
        "print(modelo_wls.summary())\n",
        "\n",
        "# Calcule os resíduos ponderados (erros ponderados)\n",
        "y_pred_wls = modelo_wls.predict(X)\n",
        "residuos_wls = y - y_pred_wls\n",
        "\n",
        "# Calcule o MedAE ponderado\n",
        "medae_wls = np.median(np.abs(residuos_wls))\n",
        "\n",
        "# Calcule o valor médio da variável de resposta\n",
        "valor_medio_y = np.mean(y)\n",
        "\n",
        "# Calcule o MedAE escalado pelo valor (ou preço) em percentagem\n",
        "medae_scaled_wls = (medae_wls / valor_medio_y) * 100  # Em percentagem\n",
        "\n",
        "print(\"Median Absolute Error (MedAE) ponderado:\", medae_wls)\n",
        "print(\"MedAE ponderado escalado pelo valor (ou preço) em percentagem:\", medae_scaled_wls)\n"
      ],
      "metadata": {
        "colab": {
          "base_uri": "https://localhost:8080/"
        },
        "id": "7gfcj59gNQlc",
        "outputId": "8e777caa-8f45-4ccc-ef3f-7957a67b9ec2"
      },
      "execution_count": 44,
      "outputs": [
        {
          "output_type": "stream",
          "name": "stdout",
          "text": [
            "                            WLS Regression Results                            \n",
            "==============================================================================\n",
            "Dep. Variable:            VM30Abril11   R-squared:                       0.979\n",
            "Model:                            WLS   Adj. R-squared:                  0.977\n",
            "Method:                 Least Squares   F-statistic:                     587.8\n",
            "Date:                Wed, 20 Sep 2023   Prob (F-statistic):          8.31e-170\n",
            "Time:                        00:39:55   Log-Likelihood:                -3917.9\n",
            "No. Observations:                 233   AIC:                             7872.\n",
            "Df Residuals:                     215   BIC:                             7934.\n",
            "Df Model:                          17                                         \n",
            "Covariance Type:            nonrobust                                         \n",
            "===============================================================================\n",
            "                  coef    std err          t      P>|t|      [0.025      0.975]\n",
            "-------------------------------------------------------------------------------\n",
            "const       -8.713e+05   2.12e+06     -0.412      0.681   -5.04e+06     3.3e+06\n",
            "PL10            0.0384      0.074      0.517      0.606      -0.108       0.185\n",
            "LL10            5.2499      0.377     13.913      0.000       4.506       5.994\n",
            "d1            1.94e+06   2.25e+06      0.861      0.390    -2.5e+06    6.38e+06\n",
            "d2           1.528e+06   2.21e+06      0.690      0.491   -2.83e+06    5.89e+06\n",
            "d3           7.848e+06   2.43e+06      3.236      0.001    3.07e+06    1.26e+07\n",
            "d4           9.673e+05   2.24e+06      0.432      0.666   -3.45e+06    5.38e+06\n",
            "d5          -6.575e+04   2.34e+06     -0.028      0.978   -4.68e+06    4.54e+06\n",
            "d6           2.813e+06   2.86e+06      0.983      0.327   -2.83e+06    8.45e+06\n",
            "d7           3.215e+06   2.69e+06      1.193      0.234    -2.1e+06    8.53e+06\n",
            "d8           1.966e+06    3.6e+06      0.546      0.585   -5.13e+06    9.06e+06\n",
            "d9            1.52e+06   2.26e+06      0.673      0.502   -2.93e+06    5.98e+06\n",
            "INTANG10       -0.2923      0.151     -1.930      0.055      -0.591       0.006\n",
            "CAXEEQUIV10     0.6479      0.355      1.826      0.069      -0.052       1.347\n",
            "GREC10      -3.812e+05   3.62e+05     -1.053      0.294   -1.09e+06    3.32e+05\n",
            "REC10           0.1607      0.069      2.341      0.020       0.025       0.296\n",
            "CAXOP10         2.1906      0.238      9.223      0.000       1.722       2.659\n",
            "ORA10         -24.6870      3.313     -7.452      0.000     -31.217     -18.157\n",
            "==============================================================================\n",
            "Omnibus:                      172.951   Durbin-Watson:                   2.078\n",
            "Prob(Omnibus):                  0.000   Jarque-Bera (JB):             4997.383\n",
            "Skew:                           2.453   Prob(JB):                         0.00\n",
            "Kurtosis:                      25.152   Cond. No.                     6.03e+08\n",
            "==============================================================================\n",
            "\n",
            "Notes:\n",
            "[1] Standard Errors assume that the covariance matrix of the errors is correctly specified.\n",
            "[2] The smallest eigenvalue is 2.37e-14. This might indicate that there are\n",
            "strong multicollinearity problems or that the design matrix is singular.\n",
            "Median Absolute Error (MedAE) ponderado: 1110125.0817528092\n",
            "MedAE ponderado escalado pelo valor (ou preço) em percentagem: 12.121187024471892\n"
          ]
        }
      ]
    },
    {
      "cell_type": "markdown",
      "source": [
        "REGRESSÃO QUANTÍLICA"
      ],
      "metadata": {
        "id": "fUZVJwTv19EF"
      }
    },
    {
      "cell_type": "code",
      "source": [
        "import statsmodels.api as sm\n",
        "\n",
        "# Supondo que 'dados' seja o DataFrame com suas variáveis\n",
        "\n",
        "# Defina as variáveis independentes e dependente\n",
        "X = dados[['PL10', 'LL10', 'd1', 'd2', 'd3', 'd4', 'd5', 'd6', 'd7', 'd8', 'd9', 'INTANG10',\n",
        "       'CAXEEQUIV10', 'GREC10', 'REC10', 'CAXOP10', 'ORA10']]\n",
        "y = dados['VM30Abril11']\n",
        "\n",
        "# Adicione uma constante ao conjunto de variáveis independentes\n",
        "X = sm.add_constant(X)\n",
        "\n",
        "# Crie o modelo de regressão quantílica\n",
        "modelo = sm.QuantReg(y, X).fit(q=0.5)  # q=0.5 representa a mediana, ajuste conforme necessário\n",
        "\n",
        "# Visualize os resultados do modelo\n",
        "print(modelo.summary())\n",
        "# Faça previsões com o modelo quantílico\n",
        "y_pred_quantreg = modelo.predict(X)\n",
        "\n",
        "# Calcule o MedAE para o modelo quantílico\n",
        "medae_quantreg = np.median(np.abs(y - y_pred_quantreg))\n",
        "\n",
        "# Calcule o valor médio da variável de resposta\n",
        "valor_medio_y = np.mean(y)\n",
        "\n",
        "# Calcule o MedAE escalado pelo valor (ou preço) em percentagem\n",
        "medae_scaled_quantreg = (medae_quantreg / valor_medio_y) * 100  # Em percentagem\n",
        "\n",
        "print(\"Median Absolute Error (MedAE) quantílico:\", medae_quantreg)\n",
        "print(\"MedAE quantílico escalado pelo valor (ou preço) em percentagem:\", medae_scaled_quantreg)\n"
      ],
      "metadata": {
        "id": "dgpuCY5p1_I5",
        "outputId": "ab300f0b-738b-4eaa-f610-765d9c54eef3",
        "colab": {
          "base_uri": "https://localhost:8080/"
        }
      },
      "execution_count": 45,
      "outputs": [
        {
          "output_type": "stream",
          "name": "stdout",
          "text": [
            "                         QuantReg Regression Results                          \n",
            "==============================================================================\n",
            "Dep. Variable:            VM30Abril11   Pseudo R-squared:               0.7573\n",
            "Model:                       QuantReg   Bandwidth:                   8.290e+05\n",
            "Method:                 Least Squares   Sparsity:                    2.294e+06\n",
            "Date:                Wed, 20 Sep 2023   No. Observations:                  233\n",
            "Time:                        00:40:52   Df Residuals:                      215\n",
            "                                        Df Model:                           17\n",
            "===============================================================================\n",
            "                  coef    std err          t      P>|t|      [0.025      0.975]\n",
            "-------------------------------------------------------------------------------\n",
            "const       -5.685e-06   3.94e+04  -1.44e-10      1.000   -7.76e+04    7.76e+04\n",
            "PL10            0.1758      0.016     10.956      0.000       0.144       0.207\n",
            "LL10            4.9762      0.084     59.417      0.000       4.811       5.141\n",
            "d1          -4.523e-12   6493.035  -6.97e-16      1.000   -1.28e+04    1.28e+04\n",
            "d2          -1.394e-11   1.08e+04  -1.29e-15      1.000   -2.13e+04    2.13e+04\n",
            "d3          -1.026e-11   2655.737  -3.86e-15      1.000   -5234.616    5234.616\n",
            "d4          -2.693e-07   8949.754  -3.01e-11      1.000   -1.76e+04    1.76e+04\n",
            "d5          -1.439e-06   2321.522   -6.2e-10      1.000   -4575.858    4575.858\n",
            "d6           8.444e-08   1467.697   5.75e-11      1.000   -2892.918    2892.918\n",
            "d7          -8.984e-14   1414.535  -6.35e-17      1.000   -2788.132    2788.132\n",
            "d8          -5.338e-15    427.772  -1.25e-17      1.000    -843.164     843.164\n",
            "d9          -4.061e-06   4425.636  -9.18e-10      1.000   -8723.190    8723.190\n",
            "INTANG10       -0.3326      0.033    -10.062      0.000      -0.398      -0.267\n",
            "CAXEEQUIV10    -0.1396      0.078     -1.788      0.075      -0.293       0.014\n",
            "GREC10       -2.13e-06   4.87e+04  -4.38e-11      1.000    -9.6e+04     9.6e+04\n",
            "REC10           0.1680      0.015     11.548      0.000       0.139       0.197\n",
            "CAXOP10         2.1082      0.051     41.630      0.000       2.008       2.208\n",
            "ORA10          -1.0770      0.729     -1.477      0.141      -2.514       0.360\n",
            "===============================================================================\n",
            "\n",
            "The condition number is large, 5.93e+08. This might indicate that there are\n",
            "strong multicollinearity or other numerical problems.\n",
            "Median Absolute Error (MedAE) quantílico: 544263.4774481058\n",
            "MedAE quantílico escalado pelo valor (ou preço) em percentagem: 5.94268115293958\n"
          ]
        }
      ]
    },
    {
      "cell_type": "markdown",
      "source": [
        "ARVORE DE DECISÃO"
      ],
      "metadata": {
        "id": "x6LWJCtFU0Od"
      }
    },
    {
      "cell_type": "code",
      "source": [
        "from sklearn.tree import DecisionTreeRegressor\n",
        "from sklearn.ensemble import BaggingRegressor\n",
        "from sklearn.model_selection import KFold\n",
        "from sklearn.metrics import mean_absolute_error, mean_squared_error, r2_score\n",
        "import numpy as np\n",
        "\n",
        "# Supondo que 'dados' seja o DataFrame com suas variáveis\n",
        "X = dados[['PL10', 'LL10', 'd1', 'd2', 'd3', 'd4', 'd5', 'd6', 'd7', 'd8', 'd9', 'INTANG10',\n",
        "       'CAXEEQUIV10', 'GREC10', 'REC10', 'CAXOP10', 'ORA10']]\n",
        "y = dados['VM30Abril11']\n",
        "\n",
        "# Configurar a validação cruzada com 10 folds\n",
        "kf = KFold(n_splits=10, shuffle=True, random_state=42)\n",
        "\n",
        "# Listas para armazenar resultados\n",
        "medae_scores = []\n",
        "r2_scores = []\n",
        "\n",
        "# Treinar e avaliar o modelo dentro da amostra usando validação cruzada\n",
        "for train_index, test_index in kf.split(X):\n",
        "    X_train, X_test = X.iloc[train_index], X.iloc[test_index]\n",
        "    y_train, y_test = y.iloc[train_index], y.iloc[test_index]\n",
        "\n",
        "    # Criar o modelo de árvore de decisão com os parâmetros desejados\n",
        "    modelo_arvore = DecisionTreeRegressor(min_samples_split=5, random_state=42)\n",
        "\n",
        "    # Criar o modelo Bagging com 500 árvores\n",
        "    bagging_model = BaggingRegressor(base_estimator=modelo_arvore, n_estimators=500, bootstrap=True, random_state=42)\n",
        "\n",
        "    bagging_model.fit(X_train, y_train)\n",
        "    y_pred = bagging_model.predict(X_test)\n",
        "\n",
        "    # Calcular o MedAE escalado pelo valor (ou preço) em percentagem\n",
        "    medae = np.median(np.abs(y_test - y_pred))\n",
        "    valor_medio_y = np.mean(y_test)\n",
        "    medae_scaled = (medae / valor_medio_y) * 100  # Em percentagem\n",
        "    medae_scores.append(medae_scaled)\n",
        "\n",
        "    # Calcular o R²\n",
        "    r2 = r2_score(y_test, y_pred)\n",
        "    r2_scores.append(r2)\n",
        "\n",
        "    # Visualizar a importância dos coeficientes (importância das variáveis)\n",
        "    importancia_coeficientes = np.mean([tree.feature_importances_ for tree in bagging_model.estimators_], axis=0)\n",
        "    print(\"Importância dos Coeficientes:\", importancia_coeficientes)\n",
        "\n",
        "# Média do MedAE escalado pelo valor (ou preço) em percentagem\n",
        "mean_medae_scaled = np.mean(medae_scores)\n",
        "print(\"Média do MedAE escalado pelo valor (ou preço) em percentagem:\", mean_medae_scaled)\n",
        "\n",
        "# Média do R²\n",
        "mean_r2 = np.mean(r2_scores)\n",
        "print(\"Média do R²:\", mean_r2)\n"
      ],
      "metadata": {
        "colab": {
          "base_uri": "https://localhost:8080/"
        },
        "id": "Q6G90UU8W4WZ",
        "outputId": "317a1dee-05bf-4e80-d8f5-1f79752e1fd7"
      },
      "execution_count": 46,
      "outputs": [
        {
          "output_type": "stream",
          "name": "stderr",
          "text": [
            "/usr/local/lib/python3.10/dist-packages/sklearn/ensemble/_base.py:166: FutureWarning: `base_estimator` was renamed to `estimator` in version 1.2 and will be removed in 1.4.\n",
            "  warnings.warn(\n"
          ]
        },
        {
          "output_type": "stream",
          "name": "stdout",
          "text": [
            "Importância dos Coeficientes: [9.97888241e-02 5.48306044e-01 7.80348009e-05 2.27016493e-05\n",
            " 1.18546452e-04 4.53173493e-05 2.23699173e-05 9.94562608e-04\n",
            " 7.61760245e-05 2.90721675e-05 5.94548763e-05 3.88702476e-02\n",
            " 4.71314322e-02 1.15705369e-03 6.94624883e-02 1.92407498e-01\n",
            " 1.43017560e-03]\n"
          ]
        },
        {
          "output_type": "stream",
          "name": "stderr",
          "text": [
            "/usr/local/lib/python3.10/dist-packages/sklearn/ensemble/_base.py:166: FutureWarning: `base_estimator` was renamed to `estimator` in version 1.2 and will be removed in 1.4.\n",
            "  warnings.warn(\n"
          ]
        },
        {
          "output_type": "stream",
          "name": "stdout",
          "text": [
            "Importância dos Coeficientes: [8.41303038e-02 5.64070915e-01 8.02449944e-05 2.12786298e-05\n",
            " 3.71584550e-04 2.01780792e-04 1.13311738e-03 1.11817239e-03\n",
            " 7.04103783e-05 2.72379131e-05 9.33922892e-05 5.15163661e-02\n",
            " 4.77149057e-02 3.11191292e-03 5.23976910e-02 1.93130002e-01\n",
            " 8.10684672e-04]\n"
          ]
        },
        {
          "output_type": "stream",
          "name": "stderr",
          "text": [
            "/usr/local/lib/python3.10/dist-packages/sklearn/ensemble/_base.py:166: FutureWarning: `base_estimator` was renamed to `estimator` in version 1.2 and will be removed in 1.4.\n",
            "  warnings.warn(\n"
          ]
        },
        {
          "output_type": "stream",
          "name": "stdout",
          "text": [
            "Importância dos Coeficientes: [9.11685737e-02 4.93503859e-01 1.60758264e-04 3.14950324e-05\n",
            " 2.77366921e-04 3.34490457e-04 7.83800450e-05 2.57063548e-04\n",
            " 1.60904253e-04 5.23865799e-05 6.90025453e-05 1.22081027e-01\n",
            " 4.30693553e-02 1.33609489e-03 3.73286276e-02 2.04887566e-01\n",
            " 5.20304921e-03]\n"
          ]
        },
        {
          "output_type": "stream",
          "name": "stderr",
          "text": [
            "/usr/local/lib/python3.10/dist-packages/sklearn/ensemble/_base.py:166: FutureWarning: `base_estimator` was renamed to `estimator` in version 1.2 and will be removed in 1.4.\n",
            "  warnings.warn(\n"
          ]
        },
        {
          "output_type": "stream",
          "name": "stdout",
          "text": [
            "Importância dos Coeficientes: [6.66557563e-02 6.35745114e-01 1.17870938e-04 1.76126849e-05\n",
            " 4.37997334e-05 3.10113808e-04 3.89958076e-05 1.17374908e-04\n",
            " 1.40303886e-04 4.22826392e-05 7.83931587e-05 4.08058167e-02\n",
            " 4.55953876e-02 1.92521178e-03 4.47855118e-02 1.62912108e-01\n",
            " 6.68345736e-04]\n"
          ]
        },
        {
          "output_type": "stream",
          "name": "stderr",
          "text": [
            "/usr/local/lib/python3.10/dist-packages/sklearn/ensemble/_base.py:166: FutureWarning: `base_estimator` was renamed to `estimator` in version 1.2 and will be removed in 1.4.\n",
            "  warnings.warn(\n"
          ]
        },
        {
          "output_type": "stream",
          "name": "stdout",
          "text": [
            "Importância dos Coeficientes: [7.85727539e-02 5.11294973e-01 7.36206772e-05 2.33335518e-05\n",
            " 1.83110359e-04 4.19524507e-04 1.02673596e-03 1.33908554e-03\n",
            " 2.24022236e-05 4.02461421e-05 1.45018089e-04 5.23766780e-02\n",
            " 7.86223079e-02 2.27997179e-03 5.51680480e-02 2.16167227e-01\n",
            " 2.24496331e-03]\n"
          ]
        },
        {
          "output_type": "stream",
          "name": "stderr",
          "text": [
            "/usr/local/lib/python3.10/dist-packages/sklearn/ensemble/_base.py:166: FutureWarning: `base_estimator` was renamed to `estimator` in version 1.2 and will be removed in 1.4.\n",
            "  warnings.warn(\n"
          ]
        },
        {
          "output_type": "stream",
          "name": "stdout",
          "text": [
            "Importância dos Coeficientes: [1.54739900e-01 3.43378809e-01 1.18916298e-05 1.79067101e-05\n",
            " 7.66769546e-05 6.18033249e-05 2.69685760e-05 1.17719894e-04\n",
            " 1.26963525e-04 3.39854348e-05 9.76871477e-05 6.24276898e-02\n",
            " 7.12549501e-02 2.11660215e-03 5.97602885e-02 3.04803943e-01\n",
            " 9.46215037e-04]\n"
          ]
        },
        {
          "output_type": "stream",
          "name": "stderr",
          "text": [
            "/usr/local/lib/python3.10/dist-packages/sklearn/ensemble/_base.py:166: FutureWarning: `base_estimator` was renamed to `estimator` in version 1.2 and will be removed in 1.4.\n",
            "  warnings.warn(\n"
          ]
        },
        {
          "output_type": "stream",
          "name": "stdout",
          "text": [
            "Importância dos Coeficientes: [6.84362837e-02 5.65184645e-01 6.81702247e-05 1.84854831e-05\n",
            " 1.95929499e-04 6.31428415e-04 9.03704470e-04 5.19892602e-04\n",
            " 8.67511307e-05 2.92725431e-07 8.82694583e-05 2.17382620e-02\n",
            " 6.72501263e-02 2.60963081e-03 6.05816092e-02 2.10604356e-01\n",
            " 1.08216249e-03]\n"
          ]
        },
        {
          "output_type": "stream",
          "name": "stderr",
          "text": [
            "/usr/local/lib/python3.10/dist-packages/sklearn/ensemble/_base.py:166: FutureWarning: `base_estimator` was renamed to `estimator` in version 1.2 and will be removed in 1.4.\n",
            "  warnings.warn(\n"
          ]
        },
        {
          "output_type": "stream",
          "name": "stdout",
          "text": [
            "Importância dos Coeficientes: [7.58864501e-02 6.12355495e-01 1.41213219e-04 2.77633124e-05\n",
            " 2.48552418e-04 7.96753651e-04 3.87456852e-03 1.46325501e-04\n",
            " 1.04038760e-04 4.09171704e-05 1.93145089e-04 1.76697535e-03\n",
            " 2.32218605e-02 3.92341118e-03 2.28096051e-02 2.52910153e-01\n",
            " 1.55277272e-03]\n"
          ]
        },
        {
          "output_type": "stream",
          "name": "stderr",
          "text": [
            "/usr/local/lib/python3.10/dist-packages/sklearn/ensemble/_base.py:166: FutureWarning: `base_estimator` was renamed to `estimator` in version 1.2 and will be removed in 1.4.\n",
            "  warnings.warn(\n"
          ]
        },
        {
          "output_type": "stream",
          "name": "stdout",
          "text": [
            "Importância dos Coeficientes: [8.81862925e-02 5.69837152e-01 9.82374237e-05 2.58248593e-05\n",
            " 1.40623381e-04 4.38105035e-04 1.45137023e-03 5.31757806e-04\n",
            " 1.18593848e-04 3.19263821e-05 6.53133214e-05 2.30766483e-02\n",
            " 7.79511193e-02 2.70876089e-03 4.74405665e-02 1.86657234e-01\n",
            " 1.24047487e-03]\n"
          ]
        },
        {
          "output_type": "stream",
          "name": "stderr",
          "text": [
            "/usr/local/lib/python3.10/dist-packages/sklearn/ensemble/_base.py:166: FutureWarning: `base_estimator` was renamed to `estimator` in version 1.2 and will be removed in 1.4.\n",
            "  warnings.warn(\n"
          ]
        },
        {
          "output_type": "stream",
          "name": "stdout",
          "text": [
            "Importância dos Coeficientes: [1.25273058e-01 3.94963516e-01 1.05015368e-04 3.59982735e-05\n",
            " 8.45412702e-04 4.75362895e-04 1.06913045e-03 4.83579405e-05\n",
            " 8.59506593e-05 4.17643638e-05 8.79723301e-05 6.69152766e-02\n",
            " 1.06954791e-01 1.64752395e-03 1.35443903e-01 1.65445612e-01\n",
            " 5.61354700e-04]\n",
            "Média do MedAE escalado pelo valor (ou preço) em percentagem: 11.811472460411899\n",
            "Média do R²: 0.6531190987067395\n"
          ]
        }
      ]
    },
    {
      "cell_type": "markdown",
      "source": [
        "FLORESTA ALEATÓRIA"
      ],
      "metadata": {
        "id": "OZLbiycNZm26"
      }
    },
    {
      "cell_type": "code",
      "source": [
        "from sklearn.ensemble import RandomForestRegressor\n",
        "from sklearn.model_selection import KFold\n",
        "from sklearn.metrics import mean_absolute_error, mean_squared_error, r2_score\n",
        "import numpy as np\n",
        "\n",
        "# Supondo que 'dados' seja o DataFrame com suas variáveis\n",
        "X = dados[['PL10', 'LL10', 'd1', 'd2', 'd3', 'd4', 'd5', 'd6', 'd7', 'd8', 'd9', 'INTANG10',\n",
        "       'CAXEEQUIV10', 'GREC10', 'REC10', 'CAXOP10', 'ORA10']]\n",
        "y = dados['VM30Abril11']\n",
        "\n",
        "# Configurar a validação cruzada com 10 folds\n",
        "kf = KFold(n_splits=10, shuffle=True, random_state=42)\n",
        "\n",
        "# Listas para armazenar resultados\n",
        "medae_scores = []\n",
        "r2_scores = []\n",
        "\n",
        "# Treinar e avaliar o modelo dentro da amostra usando validação cruzada\n",
        "for train_index, test_index in kf.split(X):\n",
        "    X_train, X_test = X.iloc[train_index], X.iloc[test_index]\n",
        "    y_train, y_test = y.iloc[train_index], y.iloc[test_index]\n",
        "\n",
        "    # Criar o modelo de Floresta Aleatória com os parâmetros desejados\n",
        "    random_forest_model = RandomForestRegressor(n_estimators=500, random_state=42)\n",
        "\n",
        "    random_forest_model.fit(X_train, y_train)\n",
        "    y_pred = random_forest_model.predict(X_test)\n",
        "\n",
        "    # Calcular o MedAE escalado pelo valor (ou preço) em percentagem\n",
        "    medae = np.median(np.abs(y_test - y_pred))\n",
        "    valor_medio_y = np.mean(y_test)\n",
        "    medae_scaled = (medae / valor_medio_y) * 100  # Em percentagem\n",
        "    medae_scores.append(medae_scaled)\n",
        "\n",
        "    # Calcular o R²\n",
        "    r2 = r2_score(y_test, y_pred)\n",
        "    r2_scores.append(r2)\n",
        "\n",
        "    # Visualizar a importância das variáveis\n",
        "    importancia_variaveis = random_forest_model.feature_importances_\n",
        "    print(\"Importância das Variáveis:\", importancia_variaveis)\n",
        "\n",
        "# Média do MedAE escalado pelo valor (ou preço) em percentagem\n",
        "mean_medae_scaled = np.mean(medae_scores)\n",
        "print(\"Média do MedAE escalado pelo valor (ou preço) em percentagem:\", mean_medae_scaled)\n",
        "\n",
        "# Média do R²\n",
        "mean_r2 = np.mean(r2_scores)\n",
        "print(\"Média do R²:\", mean_r2)\n"
      ],
      "metadata": {
        "id": "lpAmsgS7Zph4",
        "outputId": "28a3381a-0ad6-480a-838c-fb4e72a3e3bc",
        "colab": {
          "base_uri": "https://localhost:8080/"
        }
      },
      "execution_count": 47,
      "outputs": [
        {
          "output_type": "stream",
          "name": "stdout",
          "text": [
            "Importância das Variáveis: [9.45324502e-02 5.27509318e-01 7.75173969e-05 3.17505292e-05\n",
            " 7.64787076e-04 3.67579030e-03 5.34448345e-03 4.34944304e-03\n",
            " 7.98966196e-05 2.73970045e-05 6.90909199e-05 4.16200162e-02\n",
            " 5.21939774e-02 9.34805217e-03 7.97539108e-02 1.75063196e-01\n",
            " 5.55892304e-03]\n",
            "Importância das Variáveis: [1.03121962e-01 5.40180289e-01 9.50792368e-05 2.79678489e-05\n",
            " 5.65813139e-04 2.50659241e-03 4.87524265e-03 4.45028177e-03\n",
            " 7.73104513e-05 2.62689266e-05 1.07006221e-04 5.04954037e-02\n",
            " 5.09728876e-02 9.33333805e-03 5.77498584e-02 1.70151920e-01\n",
            " 5.26277857e-03]\n",
            "Importância das Variáveis: [9.32462499e-02 4.77214721e-01 1.55716858e-04 4.65547445e-05\n",
            " 1.87980118e-03 3.14077751e-03 1.28876136e-04 8.32785835e-03\n",
            " 1.55290987e-04 4.90024581e-05 1.28127108e-04 1.12659354e-01\n",
            " 5.48770514e-02 4.69731354e-03 5.51732399e-02 1.80220298e-01\n",
            " 7.89976569e-03]\n",
            "Importância das Variáveis: [6.30805237e-02 5.91171914e-01 1.21640179e-04 2.50015272e-05\n",
            " 1.01023155e-03 2.99186006e-03 4.06234456e-03 3.31080831e-03\n",
            " 1.38737375e-04 3.97129927e-05 1.39238964e-04 4.25883238e-02\n",
            " 6.62064077e-02 9.11829870e-03 5.72727220e-02 1.54710406e-01\n",
            " 4.01182870e-03]\n",
            "Importância das Variáveis: [8.32486870e-02 4.94440854e-01 7.63169917e-05 2.89893562e-05\n",
            " 1.31774469e-03 3.68865626e-03 6.13435957e-03 3.81348749e-03\n",
            " 2.39706869e-05 3.72660844e-05 1.56936157e-04 5.35215551e-02\n",
            " 9.06038586e-02 8.75692646e-03 5.98887298e-02 1.88635207e-01\n",
            " 5.62645506e-03]\n",
            "Importância das Variáveis: [1.70139765e-01 3.16387879e-01 1.66937281e-05 2.02387532e-05\n",
            " 8.67065101e-05 7.04241554e-03 3.04389357e-03 3.06020997e-03\n",
            " 1.14581947e-04 3.16158476e-05 1.08000369e-04 6.18017566e-02\n",
            " 6.98869254e-02 7.28732905e-03 8.15875852e-02 2.73604826e-01\n",
            " 5.77957823e-03]\n",
            "Importância das Variáveis: [7.61709437e-02 5.36387579e-01 7.44037616e-05 2.29547578e-05\n",
            " 6.53345715e-04 3.32527199e-03 5.69706779e-03 4.69221093e-03\n",
            " 9.09143200e-05 3.18379059e-07 1.02739740e-04 2.20182805e-02\n",
            " 7.74266566e-02 7.05412598e-03 6.28101618e-02 1.98324500e-01\n",
            " 5.14852533e-03]\n",
            "Importância das Variáveis: [9.00064704e-02 5.62206218e-01 1.46603089e-04 4.18652319e-05\n",
            " 1.21376715e-03 2.85296164e-03 1.08657273e-02 1.51544194e-04\n",
            " 9.78259567e-05 3.82284719e-05 2.34980180e-04 2.96678868e-03\n",
            " 2.71377987e-02 1.35831504e-02 2.88025903e-02 2.55584531e-01\n",
            " 4.06894887e-03]\n",
            "Importância das Variáveis: [9.39966625e-02 5.33808043e-01 9.95223596e-05 3.34800978e-05\n",
            " 1.28937448e-03 2.04905524e-03 5.39809225e-03 2.71184380e-03\n",
            " 1.08212362e-04 3.02913362e-05 1.18657396e-04 2.39179525e-02\n",
            " 8.71748114e-02 9.57649000e-03 5.63712187e-02 1.78745415e-01\n",
            " 4.57087737e-03]\n",
            "Importância das Variáveis: [1.26151015e-01 3.54198703e-01 1.10664906e-04 4.41806144e-05\n",
            " 1.30558517e-03 1.49515683e-03 4.78320921e-03 2.14043630e-03\n",
            " 8.11378996e-05 3.86251452e-05 1.04973638e-04 7.34142543e-02\n",
            " 1.13312921e-01 7.37060804e-03 1.54011604e-01 1.56738730e-01\n",
            " 4.69819516e-03]\n",
            "Média do MedAE escalado pelo valor (ou preço) em percentagem: 11.990729324725411\n",
            "Média do R²: 0.7098429679297792\n"
          ]
        }
      ]
    },
    {
      "cell_type": "markdown",
      "source": [
        "GRADIENT BOOSTING"
      ],
      "metadata": {
        "id": "gReIxsDPa_9B"
      }
    },
    {
      "cell_type": "code",
      "source": [
        "from sklearn.ensemble import GradientBoostingRegressor\n",
        "from sklearn.model_selection import KFold\n",
        "from sklearn.metrics import mean_absolute_error, mean_squared_error, r2_score\n",
        "import numpy as np\n",
        "\n",
        "# Supondo que 'dados' seja o DataFrame com suas variáveis\n",
        "X = dados[['PL10', 'LL10', 'd1', 'd2', 'd3', 'd4', 'd5', 'd6', 'd7', 'd8', 'd9', 'INTANG10',\n",
        "       'CAXEEQUIV10', 'GREC10', 'REC10', 'CAXOP10', 'ORA10']]\n",
        "y = dados['VM30Abril11']\n",
        "\n",
        "# Configurar a validação cruzada com 10 folds\n",
        "kf = KFold(n_splits=10, shuffle=True, random_state=42)\n",
        "\n",
        "# Listas para armazenar resultados\n",
        "medae_scores = []\n",
        "r2_scores = []\n",
        "\n",
        "# Treinar e avaliar o modelo dentro da amostra usando validação cruzada\n",
        "for train_index, test_index in kf.split(X):\n",
        "    X_train, X_test = X.iloc[train_index], X.iloc[test_index]\n",
        "    y_train, y_test = y.iloc[train_index], y.iloc[test_index]\n",
        "\n",
        "    # Criar o modelo de Regressão Gradient Boosting com os parâmetros desejados\n",
        "    gradient_boosting_model = GradientBoostingRegressor(n_estimators=500, random_state=42)\n",
        "\n",
        "    gradient_boosting_model.fit(X_train, y_train)\n",
        "    y_pred = gradient_boosting_model.predict(X_test)\n",
        "\n",
        "    # Calcular o MedAE escalado pelo valor (ou preço) em percentagem\n",
        "    medae = np.median(np.abs(y_test - y_pred))\n",
        "    valor_medio_y = np.mean(y_test)\n",
        "    medae_scaled = (medae / valor_medio_y) * 100  # Em percentagem\n",
        "    medae_scores.append(medae_scaled)\n",
        "\n",
        "    # Calcular o R²\n",
        "    r2 = r2_score(y_test, y_pred)\n",
        "    r2_scores.append(r2)\n",
        "\n",
        "    # Visualizar a importância das variáveis\n",
        "    importancia_variaveis = gradient_boosting_model.feature_importances_\n",
        "    print(\"Importância das Variáveis:\", importancia_variaveis)\n",
        "\n",
        "# Média do MedAE escalado pelo valor (ou preço) em percentagem\n",
        "mean_medae_scaled = np.mean(medae_scores)\n",
        "print(\"Média do MedAE escalado pelo valor (ou preço) em percentagem:\", mean_medae_scaled)\n",
        "\n",
        "# Média do R²\n",
        "mean_r2 = np.mean(r2_scores)\n",
        "print(\"Média do R²:\", mean_r2)\n"
      ],
      "metadata": {
        "id": "NvfZ3qUAbCf5",
        "outputId": "941288e6-ca21-4c1d-9f0e-069c7009e54b",
        "colab": {
          "base_uri": "https://localhost:8080/"
        }
      },
      "execution_count": 48,
      "outputs": [
        {
          "output_type": "stream",
          "name": "stdout",
          "text": [
            "Importância das Variáveis: [3.06427477e-02 7.35181092e-01 8.38810638e-06 6.30734976e-06\n",
            " 4.60366639e-04 1.93865189e-03 3.58324257e-04 3.95400755e-03\n",
            " 6.03353005e-05 1.45156547e-05 7.87006752e-05 1.75397961e-03\n",
            " 8.04373069e-02 8.96126355e-03 1.28111980e-02 1.13586221e-01\n",
            " 9.74659385e-03]\n",
            "Importância das Variáveis: [1.61682162e-02 7.50092632e-01 1.16238727e-05 2.62326392e-06\n",
            " 1.62747243e-03 3.16783042e-03 3.94278181e-03 8.75080320e-03\n",
            " 7.62886578e-05 4.05167744e-06 5.07637128e-05 2.59235658e-03\n",
            " 2.70628089e-02 5.79270999e-04 2.94031476e-02 1.48633476e-01\n",
            " 7.83385280e-03]\n",
            "Importância das Variáveis: [2.66362076e-02 6.24098363e-01 1.31270736e-05 3.77033489e-06\n",
            " 4.47053087e-04 5.09648012e-04 2.10510247e-05 8.98031352e-02\n",
            " 1.07982918e-04 1.28162398e-05 6.72718523e-05 1.01115596e-03\n",
            " 5.20385425e-02 1.26958126e-02 6.24117169e-03 1.71310229e-01\n",
            " 1.49826620e-02]\n",
            "Importância das Variáveis: [2.61929457e-02 8.80492749e-01 1.73767481e-05 2.25553690e-07\n",
            " 7.46367428e-04 1.19332885e-04 1.37014278e-03 4.97673644e-03\n",
            " 1.66802219e-04 7.51591867e-06 1.09865083e-04 7.18061617e-04\n",
            " 2.18400023e-02 3.25212970e-03 1.77119428e-02 4.12603396e-02\n",
            " 1.01746444e-03]\n",
            "Importância das Variáveis: [1.70730142e-02 7.42149458e-01 4.34230646e-05 9.77716286e-07\n",
            " 1.99877112e-03 2.03487468e-03 5.38458128e-03 3.85319558e-03\n",
            " 1.43808516e-05 1.59167271e-05 5.63956772e-05 2.27787352e-03\n",
            " 5.79378095e-02 1.02510011e-03 1.46254158e-02 1.43740834e-01\n",
            " 7.76797831e-03]\n",
            "Importância das Variáveis: [1.85015866e-02 1.82803271e-01 2.65160612e-05 3.56958036e-06\n",
            " 6.60121713e-05 1.35397147e-02 2.78908711e-03 4.06238062e-04\n",
            " 1.23134713e-04 9.90799929e-06 7.32860716e-05 5.84309819e-03\n",
            " 9.33628412e-03 4.82212255e-03 2.68707850e-02 7.06576266e-01\n",
            " 2.82091204e-02]\n",
            "Importância das Variáveis: [4.45503833e-02 7.69660949e-01 1.65145149e-05 8.20080652e-06\n",
            " 3.58614813e-03 1.43681980e-03 2.52224683e-03 3.24152667e-03\n",
            " 8.26842081e-05 1.57060538e-06 1.96288994e-05 2.81645549e-03\n",
            " 2.57738128e-02 2.84285291e-03 1.02483368e-02 1.23823614e-01\n",
            " 9.36825470e-03]\n",
            "Importância das Variáveis: [3.91054090e-02 8.33722864e-01 1.31005353e-04 1.51960725e-06\n",
            " 3.85598271e-04 3.50280367e-03 3.61107649e-06 1.26864812e-04\n",
            " 4.35269503e-05 2.52313296e-05 1.17662618e-04 1.27972847e-03\n",
            " 3.91619184e-02 2.29027892e-02 8.83981016e-03 4.70404116e-02\n",
            " 3.60924595e-03]\n",
            "Importância das Variáveis: [2.30646741e-02 6.93518373e-01 1.20462960e-05 1.57471333e-06\n",
            " 1.73291468e-03 4.52815647e-03 6.71485246e-03 4.43964811e-03\n",
            " 5.38947119e-05 4.75180501e-06 7.53064016e-05 1.20046590e-03\n",
            " 7.77055907e-02 2.66802671e-03 9.61066307e-03 1.66411924e-01\n",
            " 8.25713610e-03]\n",
            "Importância das Variáveis: [2.12934568e-01 2.51661062e-01 1.23267917e-04 5.41229259e-06\n",
            " 2.69979971e-03 5.77081967e-04 3.73825599e-05 5.44593698e-03\n",
            " 6.40422311e-05 1.54026946e-05 4.39543336e-05 4.78167260e-03\n",
            " 1.45126095e-01 5.82033203e-03 2.52094030e-01 1.10686635e-01\n",
            " 7.88332494e-03]\n",
            "Média do MedAE escalado pelo valor (ou preço) em percentagem: 14.758947091607372\n",
            "Média do R²: 0.7513958685868922\n"
          ]
        }
      ]
    },
    {
      "cell_type": "markdown",
      "source": [
        "REDES NEURAIS"
      ],
      "metadata": {
        "id": "Gy8Aqujjc2rw"
      }
    },
    {
      "cell_type": "code",
      "source": [
        "from sklearn.neural_network import MLPRegressor\n",
        "from sklearn.model_selection import KFold\n",
        "from sklearn.metrics import mean_absolute_error, mean_squared_error, r2_score\n",
        "import numpy as np\n",
        "\n",
        "# Supondo que 'dados' seja o DataFrame com suas variáveis\n",
        "X = dados[['PL10', 'LL10', 'd1', 'd2', 'd3', 'd4', 'd5', 'd6', 'd7', 'd8', 'd9', 'INTANG10',\n",
        "       'CAXEEQUIV10', 'GREC10', 'REC10', 'CAXOP10', 'ORA10']]\n",
        "y = dados['VM30Abril11']\n",
        "\n",
        "# Configurar a validação cruzada com 10 folds\n",
        "kf = KFold(n_splits=10, shuffle=True, random_state=42)\n",
        "\n",
        "# Listas para armazenar resultados\n",
        "medae_scores = []\n",
        "r2_scores = []\n",
        "\n",
        "# Treinar e avaliar o modelo dentro da amostra usando validação cruzada\n",
        "for train_index, test_index in kf.split(X):\n",
        "    X_train, X_test = X.iloc[train_index], X.iloc[test_index]\n",
        "    y_train, y_test = y.iloc[train_index], y.iloc[test_index]\n",
        "\n",
        "    # Criar o modelo de regressão de rede neural com os parâmetros desejados\n",
        "    modelo_rede_neural = MLPRegressor(hidden_layer_sizes=(100, 50), max_iter=1000, random_state=42)\n",
        "\n",
        "    modelo_rede_neural.fit(X_train, y_train)\n",
        "    y_pred = modelo_rede_neural.predict(X_test)\n",
        "\n",
        "    # Calcular o MedAE escalado pelo valor (ou preço) em percentagem\n",
        "    medae = np.median(np.abs(y_test - y_pred))\n",
        "    valor_medio_y = np.mean(y_test)\n",
        "    medae_scaled = (medae / valor_medio_y) * 100  # Em percentagem\n",
        "    medae_scores.append(medae_scaled)\n",
        "\n",
        "    # Calcular o R²\n",
        "    r2 = r2_score(y_test, y_pred)\n",
        "    r2_scores.append(r2)\n",
        "\n",
        "# Média do MedAE escalado pelo valor (ou preço) em percentagem\n",
        "mean_medae_scaled = np.mean(medae_scores)\n",
        "print(\"Média do MedAE escalado pelo valor (ou preço) em percentagem:\", mean_medae_scaled)\n",
        "\n",
        "# Média do R²\n",
        "mean_r2 = np.mean(r2_scores)\n",
        "print(\"Média do R²:\", mean_r2)\n"
      ],
      "metadata": {
        "id": "yygOLB39c4OY",
        "outputId": "54d08b13-80ff-4c90-e404-4513e4159577",
        "colab": {
          "base_uri": "https://localhost:8080/"
        }
      },
      "execution_count": 49,
      "outputs": [
        {
          "output_type": "stream",
          "name": "stdout",
          "text": [
            "Média do MedAE escalado pelo valor (ou preço) em percentagem: 12.801316925478613\n",
            "Média do R²: 0.7046287538694587\n"
          ]
        }
      ]
    }
  ]
}