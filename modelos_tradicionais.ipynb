{
  "nbformat": 4,
  "nbformat_minor": 0,
  "metadata": {
    "colab": {
      "provenance": [],
      "authorship_tag": "ABX9TyNTbiQzi9tUD8oDde1unDXQ",
      "include_colab_link": true
    },
    "kernelspec": {
      "name": "python3",
      "display_name": "Python 3"
    },
    "language_info": {
      "name": "python"
    }
  },
  "cells": [
    {
      "cell_type": "markdown",
      "metadata": {
        "id": "view-in-github",
        "colab_type": "text"
      },
      "source": [
        "<a href=\"https://colab.research.google.com/github/jeffersonramelo/Paper-pos-doc/blob/main/modelos_tradicionais.ipynb\" target=\"_parent\"><img src=\"https://colab.research.google.com/assets/colab-badge.svg\" alt=\"Open In Colab\"/></a>"
      ]
    },
    {
      "cell_type": "code",
      "source": [
        "import pandas as pd\n",
        "\n",
        "# Caminho para o arquivo XLSX\n",
        "caminho_arquivo = '/content/Jefferson - Dados3 - Copia.xlsx'\n",
        "\n",
        "# Lê o arquivo XLSX\n",
        "dados = pd.read_excel(caminho_arquivo)\n",
        "\n",
        "# Agora, 'dados' contém os dados do arquivo XLSX\n"
      ],
      "metadata": {
        "id": "DOE1GbH_7pjb"
      },
      "execution_count": 1,
      "outputs": []
    },
    {
      "cell_type": "code",
      "source": [
        "# Visualizar o conteúdo do DataFrame \"dados\"\n",
        "print(dados)"
      ],
      "metadata": {
        "id": "G5DK3CKBghzv",
        "outputId": "733c734c-2768-484e-b7b2-34e69cc812c2",
        "colab": {
          "base_uri": "https://localhost:8080/"
        }
      },
      "execution_count": 23,
      "outputs": [
        {
          "output_type": "stream",
          "name": "stdout",
          "text": [
            "      id     COD                           SETOR  d1  d2  d3  d4  d5  d6  d7  \\\n",
            "0      1   RRRP3  Petróleo gás e biocombustíveis   0   0   0   0   0   1   0   \n",
            "1      2   TTEN3             Consumo não cíclico   0   0   1   0   0   0   0   \n",
            "2      3  QVQP3B                          Outros   0   0   0   0   0   0   0   \n",
            "3      4   ABCB4                      Financeiro   0   0   0   0   0   0   0   \n",
            "4      5   EALT4                Bens industriais   1   0   0   0   0   0   0   \n",
            "..   ...     ...                             ...  ..  ..  ..  ..  ..  ..  ..   \n",
            "389  391   WIZC3                      Financeiro   0   0   0   0   0   0   0   \n",
            "390  392   WLMM4                Bens industriais   1   0   0   0   0   0   0   \n",
            "391  393   YBRA3                          Outros   0   0   0   0   0   0   0   \n",
            "392  394   YDUQ3                 Consumo cíclico   0   1   0   0   0   0   0   \n",
            "393  395   ZAMP3                 Consumo cíclico   0   1   0   0   0   0   0   \n",
            "\n",
            "     ...  ORA2013  ORA2014 ORA2015 ORA2016 ORA2017 ORA2018 ORA2019 ORA2020  \\\n",
            "0    ...        -        -       -       -       0       0       0       0   \n",
            "1    ...        -        -       -       -       -       -       -       0   \n",
            "2    ...        0        0       0       0       0       0       0       0   \n",
            "3    ...        -        -       -       -       -       -       -       -   \n",
            "4    ...        0        0       0       0       0       0       0       0   \n",
            "..   ...      ...      ...     ...     ...     ...     ...     ...     ...   \n",
            "389  ...        -        0       0       0       0       0       0       0   \n",
            "390  ...        0        0       0       0       0       0       0  102837   \n",
            "391  ...        0        0       0       0       0       0       0       0   \n",
            "392  ...        0        0       0       0       0       0       0       0   \n",
            "393  ...        -        0       0       0       0      -2      17     300   \n",
            "\n",
            "    ORA2021 ORA2022  \n",
            "0         0       0  \n",
            "1         0       0  \n",
            "2         0       0  \n",
            "3         -       -  \n",
            "4         0       0  \n",
            "..      ...     ...  \n",
            "389       0       0  \n",
            "390   99077   98279  \n",
            "391       0       0  \n",
            "392       0       0  \n",
            "393     147       0  \n",
            "\n",
            "[394 rows x 150 columns]\n"
          ]
        }
      ]
    },
    {
      "cell_type": "markdown",
      "source": [
        "excluir setor financeiro e empresas com PL negativo"
      ],
      "metadata": {
        "id": "kEKhC6-Wf6ro"
      }
    },
    {
      "cell_type": "code",
      "source": [
        "# Agora, vamos remover as linhas onde 'd9' seja igual a 1\n",
        "dados = dados[dados['d9'] != 1]\n",
        "\n",
        "# A partir deste ponto, 'dados' conterá apenas as linhas onde 'd9' não é igual a 1\n",
        "print(dados)"
      ],
      "metadata": {
        "id": "-cQ_iqhOf9H_",
        "outputId": "c01d9b1e-1a8a-4ec2-d68a-38ba828f9074",
        "colab": {
          "base_uri": "https://localhost:8080/"
        }
      },
      "execution_count": 2,
      "outputs": [
        {
          "output_type": "stream",
          "name": "stdout",
          "text": [
            "      id     COD                           SETOR  d1  d2  d3  d4  d5  d6  d7  \\\n",
            "0      1   RRRP3  Petróleo gás e biocombustíveis   0   0   0   0   0   1   0   \n",
            "1      2   TTEN3             Consumo não cíclico   0   0   1   0   0   0   0   \n",
            "2      3  QVQP3B                          Outros   0   0   0   0   0   0   0   \n",
            "4      5   EALT4                Bens industriais   1   0   0   0   0   0   0   \n",
            "5      6   AERI3                Bens industriais   1   0   0   0   0   0   0   \n",
            "..   ...     ...                             ...  ..  ..  ..  ..  ..  ..  ..   \n",
            "388  390   PORT3                Bens industriais   1   0   0   0   0   0   0   \n",
            "390  392   WLMM4                Bens industriais   1   0   0   0   0   0   0   \n",
            "391  393   YBRA3                          Outros   0   0   0   0   0   0   0   \n",
            "392  394   YDUQ3                 Consumo cíclico   0   1   0   0   0   0   0   \n",
            "393  395   ZAMP3                 Consumo cíclico   0   1   0   0   0   0   0   \n",
            "\n",
            "     ...  ORA2013  ORA2014 ORA2015 ORA2016 ORA2017 ORA2018 ORA2019 ORA2020  \\\n",
            "0    ...        -        -       -       -       0       0       0       0   \n",
            "1    ...        -        -       -       -       -       -       -       0   \n",
            "2    ...        0        0       0       0       0       0       0       0   \n",
            "4    ...        0        0       0       0       0       0       0       0   \n",
            "5    ...        -        -       -       -       0       0       0       0   \n",
            "..   ...      ...      ...     ...     ...     ...     ...     ...     ...   \n",
            "388  ...        0        0       0       0       0       0       0       0   \n",
            "390  ...        0        0       0       0       0       0       0  102837   \n",
            "391  ...        0        0       0       0       0       0       0       0   \n",
            "392  ...        0        0       0       0       0       0       0       0   \n",
            "393  ...        -        0       0       0       0      -2      17     300   \n",
            "\n",
            "    ORA2021 ORA2022  \n",
            "0         0       0  \n",
            "1         0       0  \n",
            "2         0       0  \n",
            "4         0       0  \n",
            "5         0       0  \n",
            "..      ...     ...  \n",
            "388       0  723446  \n",
            "390   99077   98279  \n",
            "391       0       0  \n",
            "392       0       0  \n",
            "393     147       0  \n",
            "\n",
            "[336 rows x 150 columns]\n"
          ]
        }
      ]
    },
    {
      "cell_type": "code",
      "source": [
        "# Converte a coluna 'PL2010' para números (float) e remove as linhas onde 'PL2010' seja negativo\n",
        "dados['PL2010'] = pd.to_numeric(dados['PL2010'], errors='coerce')  # 'coerce' trata strings não numéricas como NaN\n",
        "dados = dados[dados['PL2010'] >= 0]\n",
        "\n",
        "# A partir deste ponto, 'dados' conterá apenas as linhas onde 'd9' não é igual a 1\n",
        "print(dados)"
      ],
      "metadata": {
        "id": "m3PUXYCZ78ba",
        "outputId": "b1b928b2-fc39-4db0-be83-1e554a544260",
        "colab": {
          "base_uri": "https://localhost:8080/"
        }
      },
      "execution_count": 3,
      "outputs": [
        {
          "output_type": "stream",
          "name": "stdout",
          "text": [
            "      id     COD                SETOR  d1  d2  d3  d4  d5  d6  d7  ...  \\\n",
            "2      3  QVQP3B               Outros   0   0   0   0   0   0   0  ...   \n",
            "4      5   EALT4     Bens industriais   1   0   0   0   0   0   0  ...   \n",
            "6      7   AESB3    Utilidade pública   0   0   0   1   0   0   0  ...   \n",
            "8      9   AFLT3    Utilidade pública   0   0   0   1   0   0   0  ...   \n",
            "16    17   APTI4  Consumo não cíclico   0   0   1   0   0   0   0  ...   \n",
            "..   ...     ...                  ...  ..  ..  ..  ..  ..  ..  ..  ...   \n",
            "387  389   WHRL4      Consumo cíclico   0   1   0   0   0   0   0  ...   \n",
            "388  390   PORT3     Bens industriais   1   0   0   0   0   0   0  ...   \n",
            "390  392   WLMM4     Bens industriais   1   0   0   0   0   0   0  ...   \n",
            "391  393   YBRA3               Outros   0   0   0   0   0   0   0  ...   \n",
            "392  394   YDUQ3      Consumo cíclico   0   1   0   0   0   0   0  ...   \n",
            "\n",
            "     ORA2013  ORA2014 ORA2015 ORA2016 ORA2017 ORA2018 ORA2019 ORA2020  \\\n",
            "2          0        0       0       0       0       0       0       0   \n",
            "4          0        0       0       0       0       0       0       0   \n",
            "6     489138   388514  923107   -3289    1394  -14697  -59906  532895   \n",
            "8          0        0       0       0       0       0       0       0   \n",
            "16         0        0       0       0       0       0       0       0   \n",
            "..       ...      ...     ...     ...     ...     ...     ...     ...   \n",
            "387        0        0       0       0       0       0       0       0   \n",
            "388        0        0       0       0       0       0       0       0   \n",
            "390        0        0       0       0       0       0       0  102837   \n",
            "391        0        0       0       0       0       0       0       0   \n",
            "392        0        0       0       0       0       0       0       0   \n",
            "\n",
            "     ORA2021  ORA2022  \n",
            "2          0        0  \n",
            "4          0        0  \n",
            "6    -153563  -155638  \n",
            "8          0        0  \n",
            "16         0        0  \n",
            "..       ...      ...  \n",
            "387        0        0  \n",
            "388        0   723446  \n",
            "390    99077    98279  \n",
            "391        0        0  \n",
            "392        0        0  \n",
            "\n",
            "[209 rows x 150 columns]\n"
          ]
        }
      ]
    },
    {
      "cell_type": "markdown",
      "source": [
        "excluir valores ausentes na variável dependente"
      ],
      "metadata": {
        "id": "HPTV8NDAhkT2"
      }
    },
    {
      "cell_type": "code",
      "source": [
        "# Agora, vamos remover as linhas onde 'VM30Abril11' seja igual a '-'\n",
        "dados = dados[dados['VM30Abril2011'] != '-']\n",
        "\n",
        "# A partir deste ponto, 'dados' conterá apenas as linhas onde 'VM30Abril11' não é igual a '-'\n",
        "print(dados)"
      ],
      "metadata": {
        "id": "xPddSXYKho22",
        "outputId": "632aa66a-9d08-4cfb-910c-fc7f4c287a44",
        "colab": {
          "base_uri": "https://localhost:8080/"
        }
      },
      "execution_count": 4,
      "outputs": [
        {
          "output_type": "stream",
          "name": "stdout",
          "text": [
            "      id    COD                SETOR  d1  d2  d3  d4  d5  d6  d7  ...  \\\n",
            "4      5  EALT4     Bens industriais   1   0   0   0   0   0   0  ...   \n",
            "8      9  AFLT3    Utilidade pública   0   0   0   1   0   0   0  ...   \n",
            "20    21  ALPA4      Consumo cíclico   0   1   0   0   0   0   0  ...   \n",
            "25    26  ABEV3  Consumo não cíclico   0   0   1   0   0   0   0  ...   \n",
            "27    28  AMER3      Consumo cíclico   0   1   0   0   0   0   0  ...   \n",
            "..   ...    ...                  ...  ..  ..  ..  ..  ..  ..  ..  ...   \n",
            "386  388  MWET4     Bens industriais   1   0   0   0   0   0   0  ...   \n",
            "387  389  WHRL4      Consumo cíclico   0   1   0   0   0   0   0  ...   \n",
            "388  390  PORT3     Bens industriais   1   0   0   0   0   0   0  ...   \n",
            "390  392  WLMM4     Bens industriais   1   0   0   0   0   0   0  ...   \n",
            "392  394  YDUQ3      Consumo cíclico   0   1   0   0   0   0   0  ...   \n",
            "\n",
            "     ORA2013  ORA2014 ORA2015 ORA2016 ORA2017 ORA2018 ORA2019 ORA2020  \\\n",
            "4          0        0       0       0       0       0       0       0   \n",
            "8          0        0       0       0       0       0       0       0   \n",
            "20     -1760     2802    2287    -428       0   56226   36684     235   \n",
            "25         0        0       0       0       0       0       0       0   \n",
            "27         0        0       0       0       0       0       0  -97688   \n",
            "..       ...      ...     ...     ...     ...     ...     ...     ...   \n",
            "386        0        0       0       0       0       0       0       0   \n",
            "387        0        0       0       0       0       0       0       0   \n",
            "388        0        0       0       0       0       0       0       0   \n",
            "390        0        0       0       0       0       0       0  102837   \n",
            "392        0        0       0       0       0       0       0       0   \n",
            "\n",
            "     ORA2021 ORA2022  \n",
            "4          0       0  \n",
            "8          0       0  \n",
            "20      2915    5362  \n",
            "25         0       0  \n",
            "27   -219440       -  \n",
            "..       ...     ...  \n",
            "386        0       0  \n",
            "387        0       0  \n",
            "388        0  723446  \n",
            "390    99077   98279  \n",
            "392        0       0  \n",
            "\n",
            "[175 rows x 150 columns]\n"
          ]
        }
      ]
    },
    {
      "cell_type": "markdown",
      "source": [
        "tratar valores ausentes substituindo pela média da coluna"
      ],
      "metadata": {
        "id": "tSBa2W135L_Y"
      }
    },
    {
      "cell_type": "code",
      "source": [
        "import pandas as pd\n",
        "import numpy as np\n",
        "\n",
        "# Supondo que seu DataFrame se chame \"dados\"\n",
        "\n",
        "# Substituir apenas traços (\"-\") e valores em branco por NaN\n",
        "dados = dados.replace(['-',''], np.nan)\n",
        "\n",
        "# Calcular a média de todas as colunas, ignorando os valores NaN\n",
        "media_por_coluna = dados.mean(numeric_only=True)\n",
        "\n",
        "# Preencher os valores ausentes em todas as colunas com a média de cada coluna\n",
        "dados.fillna(media_por_coluna, inplace=True)\n"
      ],
      "metadata": {
        "id": "jlrJKMff7WNL"
      },
      "execution_count": 5,
      "outputs": []
    },
    {
      "cell_type": "markdown",
      "source": [
        "tratar outliers: A winsorização ao nível de 1% envolve substituir os 1% dos valores mais extremos por valores no limite do intervalo aceitável, ou seja, os 1% menores e os 1% maiores dos valores."
      ],
      "metadata": {
        "id": "95LYGQCnbVVn"
      }
    },
    {
      "cell_type": "code",
      "source": [
        "import pandas as pd\n",
        "import numpy as np\n",
        "from scipy.stats import mstats\n",
        "\n",
        "# Supondo que seu DataFrame se chame \"dados\"\n",
        "\n",
        "# Lista de variáveis para winsorizar\n",
        "variaveis_winsorizar = ['VM30Abril2011', 'PL2010', 'LL2010', 'INTANG2010',\n",
        "                        'CAXEEQUIV2010', 'CREC2010', 'REC2010', 'CAXOP2010', 'ORA2010']\n",
        "\n",
        "# Aplicar winsorização de 1% nas variáveis\n",
        "for coluna in variaveis_winsorizar:\n",
        "    dados[coluna] = mstats.winsorize(dados[coluna], limits=[0.01, 0.01])\n",
        "\n",
        "# Agora, as variáveis especificadas foram winsorizadas\n"
      ],
      "metadata": {
        "id": "bcS1mdNlbcTb"
      },
      "execution_count": 44,
      "outputs": []
    },
    {
      "cell_type": "markdown",
      "source": [
        "REGRESSÃO SEM ESCALA"
      ],
      "metadata": {
        "id": "65Djf3cL9jTB"
      }
    },
    {
      "cell_type": "code",
      "source": [
        "import statsmodels.api as sm\n",
        "\n",
        "# Supondo que 'dados' seja o DataFrame com suas variáveis\n",
        "\n",
        "# Defina as variáveis independentes e dependente\n",
        "X = dados[['PL2010', 'LL2010', 'd1', 'd2', 'd3', 'd4', 'd5', 'd6', 'd7', 'd8', 'INTANG2010',\n",
        "                        'CAXEEQUIV2010', 'CREC2010', 'REC2010', 'CAXOP2010', 'ORA2010']]\n",
        "y = dados['VM30Abril2011']\n",
        "\n",
        "# Adicione uma constante ao conjunto de variáveis independentes\n",
        "X = sm.add_constant(X)\n",
        "\n",
        "# Crie o modelo de regressão linear\n",
        "modelo = sm.OLS(y, X).fit()\n",
        "\n",
        "# Visualize os resultados do modelo\n",
        "print(modelo.summary())\n",
        "\n",
        "# Calcule o MedAE\n",
        "y_pred = modelo.predict(X)\n",
        "medae = np.median(np.abs(y - y_pred))\n",
        "\n",
        "# Calcule o valor médio da variável de resposta\n",
        "valor_medio_y = np.mean(y)\n",
        "\n",
        "# Calcule o MedAE escalado pelo valor (ou preço)\n",
        "medae_scaled = (medae / valor_medio_y) * 100  # Em percentagem\n",
        "\n",
        "print(\"Median Absolute Error (MedAE):\", medae)\n",
        "print(\"MedAE escalado pelo valor (ou preço) em percentagem:\", medae_scaled)\n"
      ],
      "metadata": {
        "id": "eUYMK2RnbdGD",
        "outputId": "1e6701d0-267a-4150-ce4b-4e0e61a4ff2b",
        "colab": {
          "base_uri": "https://localhost:8080/"
        }
      },
      "execution_count": 47,
      "outputs": [
        {
          "output_type": "stream",
          "name": "stdout",
          "text": [
            "                            OLS Regression Results                            \n",
            "==============================================================================\n",
            "Dep. Variable:          VM30Abril2011   R-squared:                       0.967\n",
            "Model:                            OLS   Adj. R-squared:                  0.964\n",
            "Method:                 Least Squares   F-statistic:                     290.6\n",
            "Date:                Wed, 20 Sep 2023   Prob (F-statistic):          2.83e-108\n",
            "Time:                        14:18:48   Log-Likelihood:                -2960.6\n",
            "No. Observations:                 175   AIC:                             5955.\n",
            "Df Residuals:                     158   BIC:                             6009.\n",
            "Df Model:                          16                                         \n",
            "Covariance Type:            nonrobust                                         \n",
            "=================================================================================\n",
            "                    coef    std err          t      P>|t|      [0.025      0.975]\n",
            "---------------------------------------------------------------------------------\n",
            "const         -6.511e+06   3.68e+06     -1.768      0.079   -1.38e+07    7.64e+05\n",
            "PL2010           -0.4162      0.142     -2.925      0.004      -0.697      -0.135\n",
            "LL2010            3.5537      0.897      3.960      0.000       1.781       5.326\n",
            "d1             7.611e+06    3.8e+06      2.003      0.047    1.06e+05    1.51e+07\n",
            "d2             7.115e+06   3.79e+06      1.876      0.062   -3.74e+05    1.46e+07\n",
            "d3             1.475e+07   3.99e+06      3.699      0.000    6.87e+06    2.26e+07\n",
            "d4              6.75e+06   3.72e+06      1.816      0.071   -5.93e+05    1.41e+07\n",
            "d5             4.722e+06    3.8e+06      1.244      0.215   -2.77e+06    1.22e+07\n",
            "d6             9.764e+06   4.31e+06      2.266      0.025    1.26e+06    1.83e+07\n",
            "d7             9.231e+06   4.22e+06      2.190      0.030    9.04e+05    1.76e+07\n",
            "d8             7.672e+06   4.93e+06      1.557      0.121   -2.06e+06    1.74e+07\n",
            "INTANG2010       -0.4670      0.227     -2.054      0.042      -0.916      -0.018\n",
            "CAXEEQUIV2010     1.0438      0.511      2.044      0.043       0.035       2.052\n",
            "CREC2010      -2.546e+05   1.57e+06     -0.162      0.871   -3.36e+06    2.85e+06\n",
            "REC2010           0.0850      0.088      0.965      0.336      -0.089       0.259\n",
            "CAXOP2010         5.0650      0.931      5.440      0.000       3.226       6.904\n",
            "ORA2010         -15.4957      6.649     -2.330      0.021     -28.629      -2.363\n",
            "==============================================================================\n",
            "Omnibus:                      177.315   Durbin-Watson:                   2.059\n",
            "Prob(Omnibus):                  0.000   Jarque-Bera (JB):             7637.501\n",
            "Skew:                           3.509   Prob(JB):                         0.00\n",
            "Kurtosis:                      34.594   Cond. No.                     4.89e+08\n",
            "==============================================================================\n",
            "\n",
            "Notes:\n",
            "[1] Standard Errors assume that the covariance matrix of the errors is correctly specified.\n",
            "[2] The condition number is large, 4.89e+08. This might indicate that there are\n",
            "strong multicollinearity or other numerical problems.\n",
            "Median Absolute Error (MedAE): 1285924.5884480882\n",
            "MedAE escalado pelo valor (ou preço) em percentagem: 15.448340466806096\n"
          ]
        }
      ]
    },
    {
      "cell_type": "markdown",
      "source": [
        "Em relação aos resultados apresentados no seu modelo de regressão:\n",
        "\n",
        "O valor do teste de Durbin-Watson é 1.676, o que sugere uma leve autocorrelação positiva nos resíduos, mas não muito forte.\n",
        "O valor-p associado ao teste de Jarque-Bera é praticamente zero (0.00), o que indica que os resíduos não seguem uma distribuição normal.\n",
        "\n",
        "Interpretação DW:\n",
        "\n",
        "Valor DW ≈ 2: Ausência de autocorrelação significativa nos resíduos (boa notícia).\n",
        "Valor DW < 2: Autocorrelação positiva nos resíduos (erros adjacentes são correlacionados positivamente).\n",
        "Valor DW > 2: Autocorrelação negativa nos resíduos (erros adjacentes são correlacionados negativamente)."
      ],
      "metadata": {
        "id": "BYoRhNnCeQLW"
      }
    },
    {
      "cell_type": "markdown",
      "source": [
        "Nesse caso específico, o valor de 17.74% indica que, em média, as previsões do modelo estão erradas em cerca de 17.74% do valor médio (ou preço) da variável de resposta. Isso ajuda a ter uma ideia do tamanho relativo dos erros do modelo em relação ao valor médio dos dados."
      ],
      "metadata": {
        "id": "SzP6fpN084-3"
      }
    },
    {
      "cell_type": "markdown",
      "source": [
        "teste de heterocedasticidade de White. Se o valor-p for menor que um nível de significância escolhido (por exemplo, 0,05), você pode rejeitar a hipótese nula de homocedasticidade"
      ],
      "metadata": {
        "id": "9Zd9X-08b9S_"
      }
    },
    {
      "cell_type": "code",
      "source": [
        "import statsmodels.api as sm\n",
        "from statsmodels.stats.diagnostic import het_white\n",
        "\n",
        "# Calcule os resíduos do modelo\n",
        "residuos = modelo.resid\n",
        "\n",
        "# Realize o teste de White para heterocedasticidade\n",
        "teste_white = het_white(residuos, X)\n",
        "\n",
        "# Imprima os resultados do teste\n",
        "print(\"Estatística do teste de White:\", teste_white[0])\n",
        "print(\"Valor-p do teste de White:\", teste_white[1])"
      ],
      "metadata": {
        "id": "ICEs0hnicHRU",
        "outputId": "a78a6da5-16d1-4920-ca7d-cea2c0691a6a",
        "colab": {
          "base_uri": "https://localhost:8080/"
        }
      },
      "execution_count": 48,
      "outputs": [
        {
          "output_type": "stream",
          "name": "stdout",
          "text": [
            "Estatística do teste de White: 174.53243704189524\n",
            "Valor-p do teste de White: 8.035866145596469e-08\n"
          ]
        }
      ]
    },
    {
      "cell_type": "markdown",
      "source": [
        "MQO escalonado"
      ],
      "metadata": {
        "id": "nml3El1P4kNS"
      }
    },
    {
      "cell_type": "code",
      "source": [
        "import statsmodels.api as sm\n",
        "import numpy as np\n",
        "\n",
        "# Supondo que 'dados' seja o DataFrame com suas variáveis\n",
        "\n",
        "# Escalona as variáveis independentes pela variável AT2009\n",
        "variaveis_independentes = ['PL2010', 'LL2010', 'INTANG2010', 'CAXEEQUIV2010', 'CREC2010', 'REC2010', 'CAXOP2010', 'ORA2010']\n",
        "for variavel in variaveis_independentes:\n",
        "    dados[variavel] = dados[variavel] / dados['AT2009']\n",
        "\n",
        "# Defina as variáveis independentes e dependente\n",
        "X = dados[['PL2010', 'LL2010', 'd1', 'd2', 'd3', 'd4', 'd5', 'd6', 'd7', 'd8', 'INTANG2010',\n",
        "           'CAXEEQUIV2010', 'CREC2010', 'REC2010', 'CAXOP2010', 'ORA2010']]\n",
        "y = dados['VM30Abril2011']\n",
        "\n",
        "# Adicione uma constante ao conjunto de variáveis independentes\n",
        "X = sm.add_constant(X)\n",
        "\n",
        "# Crie o modelo de regressão linear\n",
        "modelo = sm.OLS(y, X).fit()\n",
        "\n",
        "# Visualize os resultados do modelo\n",
        "print(modelo.summary())\n",
        "\n",
        "# Calcule o MedAE\n",
        "y_pred = modelo.predict(X)\n",
        "medae = np.median(np.abs(y - y_pred))\n",
        "\n",
        "# Calcule o valor médio da variável de resposta\n",
        "valor_medio_y = np.mean(y)\n",
        "\n",
        "# Calcule o MedAE escalado pelo valor (ou preço) em percentagem:\n",
        "medae_scaled = (medae / valor_medio_y) * 100  # Em percentagem\n",
        "\n",
        "print(\"Median Absolute Error (MedAE):\", medae)\n",
        "print(\"MedAE escalado pelo valor (ou preço) em percentagem:\", medae_scaled)\n"
      ],
      "metadata": {
        "id": "enMoSbyy4mM7",
        "outputId": "ebb08f11-3034-4c02-b5aa-1b1ecc57cf14",
        "colab": {
          "base_uri": "https://localhost:8080/"
        }
      },
      "execution_count": 49,
      "outputs": [
        {
          "output_type": "stream",
          "name": "stdout",
          "text": [
            "                            OLS Regression Results                            \n",
            "==============================================================================\n",
            "Dep. Variable:          VM30Abril2011   R-squared:                       0.183\n",
            "Model:                            OLS   Adj. R-squared:                  0.100\n",
            "Method:                 Least Squares   F-statistic:                     2.213\n",
            "Date:                Wed, 20 Sep 2023   Prob (F-statistic):            0.00667\n",
            "Time:                        14:19:23   Log-Likelihood:                -3241.8\n",
            "No. Observations:                 175   AIC:                             6518.\n",
            "Df Residuals:                     158   BIC:                             6571.\n",
            "Df Model:                          16                                         \n",
            "Covariance Type:            nonrobust                                         \n",
            "=================================================================================\n",
            "                    coef    std err          t      P>|t|      [0.025      0.975]\n",
            "---------------------------------------------------------------------------------\n",
            "const          2.146e+07   1.73e+07      1.243      0.216   -1.26e+07    5.56e+07\n",
            "PL2010        -5.573e+06   4.33e+06     -1.287      0.200   -1.41e+07    2.98e+06\n",
            "LL2010         5.461e+07   2.47e+07      2.210      0.029    5.81e+06    1.03e+08\n",
            "d1            -1.559e+07   1.71e+07     -0.910      0.364   -4.94e+07    1.83e+07\n",
            "d2            -1.648e+07    1.7e+07     -0.970      0.334      -5e+07    1.71e+07\n",
            "d3             3.902e+06   1.83e+07      0.213      0.831   -3.22e+07       4e+07\n",
            "d4            -1.572e+07   1.71e+07     -0.917      0.360   -4.96e+07    1.81e+07\n",
            "d5             2.789e+05   1.75e+07      0.016      0.987   -3.44e+07    3.49e+07\n",
            "d6             4.196e+07   2.06e+07      2.039      0.043    1.31e+06    8.26e+07\n",
            "d7            -9.294e+06   1.96e+07     -0.473      0.637   -4.81e+07    2.95e+07\n",
            "d8            -7.921e+06   2.37e+07     -0.335      0.738   -5.47e+07    3.88e+07\n",
            "INTANG2010     2.355e+05   2.72e+06      0.087      0.931   -5.13e+06     5.6e+06\n",
            "CAXEEQUIV2010 -6.384e+06   6.19e+06     -1.032      0.304   -1.86e+07    5.83e+06\n",
            "CREC2010      -3.831e+11   1.46e+12     -0.263      0.793   -3.26e+12    2.49e+12\n",
            "REC2010       -6.935e+06   3.66e+06     -1.895      0.060   -1.42e+07    2.91e+05\n",
            "CAXOP2010      2.268e+07   1.91e+07      1.186      0.238   -1.51e+07    6.05e+07\n",
            "ORA2010       -1.246e+07    5.1e+07     -0.245      0.807   -1.13e+08    8.82e+07\n",
            "==============================================================================\n",
            "Omnibus:                      243.275   Durbin-Watson:                   1.928\n",
            "Prob(Omnibus):                  0.000   Jarque-Bera (JB):            15622.095\n",
            "Skew:                           5.918   Prob(JB):                         0.00\n",
            "Kurtosis:                      47.748   Cond. No.                     1.14e+06\n",
            "==============================================================================\n",
            "\n",
            "Notes:\n",
            "[1] Standard Errors assume that the covariance matrix of the errors is correctly specified.\n",
            "[2] The condition number is large, 1.14e+06. This might indicate that there are\n",
            "strong multicollinearity or other numerical problems.\n",
            "Median Absolute Error (MedAE): 5167306.485492186\n",
            "MedAE escalado pelo valor (ou preço) em percentagem: 62.07697605390414\n"
          ]
        }
      ]
    },
    {
      "cell_type": "markdown",
      "source": [
        "minimos quadrados ponderados (MQP), com pesos com base na variância dos erros"
      ],
      "metadata": {
        "id": "Vmo8zEDpLVRM"
      }
    },
    {
      "cell_type": "code",
      "source": [
        "import statsmodels.api as sm\n",
        "import numpy as np\n",
        "\n",
        "# Suponha que 'dados' seja o DataFrame com suas variáveis\n",
        "\n",
        "# Defina as variáveis independentes e dependente\n",
        "X = dados[['PL2010', 'LL2010', 'd1', 'd2', 'd3', 'd4', 'd5', 'd6', 'd7', 'd8', 'INTANG2010',\n",
        "           'CAXEEQUIV2010', 'CREC2010', 'REC2010', 'CAXOP2010', 'ORA2010']]\n",
        "y = dados['VM30Abril2011']\n",
        "\n",
        "# Adicione uma constante ao conjunto de variáveis independentes\n",
        "X = sm.add_constant(X)\n",
        "\n",
        "# Crie o modelo de regressão linear\n",
        "modelo = sm.OLS(y, X).fit()\n",
        "\n",
        "# Calcule os resíduos (erros)\n",
        "residuos = modelo.resid\n",
        "\n",
        "# Calcule a variância dos resíduos\n",
        "variancia_residuos = np.var(residuos)\n",
        "\n",
        "# Calcule os pesos com base na variância dos resíduos (inverso da variância)\n",
        "pesos = 1 / variancia_residuos\n",
        "\n",
        "# Crie o modelo de regressão linear ponderada (WLS) com os pesos calculados\n",
        "modelo_wls = sm.WLS(y, X, weights=pesos).fit()\n",
        "\n",
        "# Visualize os resultados do modelo ponderado\n",
        "print(modelo_wls.summary())\n",
        "\n",
        "# Calcule os resíduos ponderados (erros ponderados)\n",
        "y_pred_wls = modelo_wls.predict(X)\n",
        "residuos_wls = y - y_pred_wls\n",
        "\n",
        "# Calcule o MedAE ponderado\n",
        "medae_wls = np.median(np.abs(residuos_wls))\n",
        "\n",
        "# Calcule o valor médio da variável de resposta\n",
        "valor_medio_y = np.mean(y)\n",
        "\n",
        "# Calcule o MedAE escalado pelo valor (ou preço) em percentagem\n",
        "medae_scaled_wls = (medae_wls / valor_medio_y) * 100  # Em percentagem\n",
        "\n",
        "print(\"Median Absolute Error (MedAE) ponderado:\", medae_wls)\n",
        "print(\"MedAE ponderado escalado pelo valor (ou preço) em percentagem:\", medae_scaled_wls)\n"
      ],
      "metadata": {
        "colab": {
          "base_uri": "https://localhost:8080/"
        },
        "id": "7gfcj59gNQlc",
        "outputId": "ce24a17c-cf47-4d97-d42e-63c5b1a5ee06"
      },
      "execution_count": 56,
      "outputs": [
        {
          "output_type": "stream",
          "name": "stdout",
          "text": [
            "                            WLS Regression Results                            \n",
            "==============================================================================\n",
            "Dep. Variable:          VM30Abril2011   R-squared:                       0.981\n",
            "Model:                            WLS   Adj. R-squared:                  0.979\n",
            "Method:                 Least Squares   F-statistic:                     510.2\n",
            "Date:                Wed, 20 Sep 2023   Prob (F-statistic):          4.70e-127\n",
            "Time:                        14:21:40   Log-Likelihood:                -2941.3\n",
            "No. Observations:                 175   AIC:                             5917.\n",
            "Df Residuals:                     158   BIC:                             5970.\n",
            "Df Model:                          16                                         \n",
            "Covariance Type:            nonrobust                                         \n",
            "=================================================================================\n",
            "                    coef    std err          t      P>|t|      [0.025      0.975]\n",
            "---------------------------------------------------------------------------------\n",
            "const         -4.335e+06   3.32e+06     -1.307      0.193   -1.09e+07    2.22e+06\n",
            "PL2010           -0.1400      0.100     -1.401      0.163      -0.337       0.057\n",
            "LL2010            4.3315      0.825      5.249      0.000       2.702       5.962\n",
            "d1             5.599e+06   3.41e+06      1.644      0.102   -1.13e+06    1.23e+07\n",
            "d2             5.172e+06   3.39e+06      1.526      0.129   -1.52e+06    1.19e+07\n",
            "d3              1.28e+07   3.59e+06      3.568      0.000    5.71e+06    1.99e+07\n",
            "d4             4.621e+06   3.31e+06      1.395      0.165   -1.92e+06    1.12e+07\n",
            "d5             3.125e+06    3.4e+06      0.920      0.359   -3.58e+06    9.83e+06\n",
            "d6             8.734e+06   3.93e+06      2.225      0.027    9.81e+05    1.65e+07\n",
            "d7             6.996e+06   3.78e+06      1.851      0.066   -4.69e+05    1.45e+07\n",
            "d8             5.565e+06   4.42e+06      1.258      0.210   -3.17e+06    1.43e+07\n",
            "INTANG2010       -0.1719      0.167     -1.028      0.306      -0.502       0.158\n",
            "CAXEEQUIV2010     0.6406      0.439      1.458      0.147      -0.227       1.508\n",
            "CREC2010      -7.369e+05   8.17e+05     -0.902      0.368   -2.35e+06    8.77e+05\n",
            "REC2010           0.0537      0.078      0.689      0.492      -0.100       0.208\n",
            "CAXOP2010         3.8295      0.843      4.541      0.000       2.164       5.495\n",
            "ORA2010         -24.1551      3.554     -6.796      0.000     -31.175     -17.135\n",
            "==============================================================================\n",
            "Omnibus:                      114.808   Durbin-Watson:                   2.089\n",
            "Prob(Omnibus):                  0.000   Jarque-Bera (JB):             1594.682\n",
            "Skew:                           2.128   Prob(JB):                         0.00\n",
            "Kurtosis:                      17.163   Cond. No.                     8.58e+08\n",
            "==============================================================================\n",
            "\n",
            "Notes:\n",
            "[1] Standard Errors assume that the covariance matrix of the errors is correctly specified.\n",
            "[2] The smallest eigenvalue is 1.11e-14. This might indicate that there are\n",
            "strong multicollinearity problems or that the design matrix is singular.\n",
            "Median Absolute Error (MedAE) ponderado: 1177639.8055735151\n",
            "MedAE ponderado escalado pelo valor (ou preço) em percentagem: 13.241698899678791\n"
          ]
        }
      ]
    },
    {
      "cell_type": "markdown",
      "source": [
        "REGRESSÃO QUANTÍLICA"
      ],
      "metadata": {
        "id": "fUZVJwTv19EF"
      }
    },
    {
      "cell_type": "code",
      "source": [
        "import statsmodels.api as sm\n",
        "\n",
        "# Supondo que 'dados' seja o DataFrame com suas variáveis\n",
        "\n",
        "# Defina as variáveis independentes e dependente\n",
        "X = dados[['PL2010', 'LL2010', 'd1', 'd2', 'd3', 'd4', 'd5', 'd6', 'd7', 'd8', 'INTANG2010',\n",
        "           'CAXEEQUIV2010', 'CREC2010', 'REC2010', 'CAXOP2010', 'ORA2010']]\n",
        "y = dados['VM30Abril2011']\n",
        "\n",
        "# Adicione uma constante ao conjunto de variáveis independentes\n",
        "X = sm.add_constant(X)\n",
        "\n",
        "# Crie o modelo de regressão quantílica\n",
        "modelo = sm.QuantReg(y, X).fit(q=0.9)  # q=0.5 representa a mediana, ajuste conforme necessário\n",
        "\n",
        "# Visualize os resultados do modelo\n",
        "print(modelo.summary())\n",
        "# Faça previsões com o modelo quantílico\n",
        "y_pred_quantreg = modelo.predict(X)\n",
        "\n",
        "# Calcule o MedAE para o modelo quantílico\n",
        "medae_quantreg = np.median(np.abs(y - y_pred_quantreg))\n",
        "\n",
        "# Calcule o valor médio da variável de resposta\n",
        "valor_medio_y = np.mean(y)\n",
        "\n",
        "# Calcule o MedAE escalado pelo valor (ou preço) em percentagem\n",
        "medae_scaled_quantreg = (medae_quantreg / valor_medio_y) * 100  # Em percentagem\n",
        "\n",
        "print(\"Median Absolute Error (MedAE) quantílico:\", medae_quantreg)\n",
        "print(\"MedAE quantílico escalado pelo valor (ou preço) em percentagem:\", medae_scaled_quantreg)\n"
      ],
      "metadata": {
        "id": "dgpuCY5p1_I5",
        "outputId": "88ffc1ce-f51f-4111-ca89-79649ef9acbc",
        "colab": {
          "base_uri": "https://localhost:8080/"
        }
      },
      "execution_count": 13,
      "outputs": [
        {
          "output_type": "stream",
          "name": "stdout",
          "text": [
            "                         QuantReg Regression Results                          \n",
            "==============================================================================\n",
            "Dep. Variable:          VM30Abril2011   Pseudo R-squared:               0.8091\n",
            "Model:                       QuantReg   Bandwidth:                   2.434e+06\n",
            "Method:                 Least Squares   Sparsity:                    6.649e+06\n",
            "Date:                Wed, 20 Sep 2023   No. Observations:                  175\n",
            "Time:                        15:05:33   Df Residuals:                      158\n",
            "                                        Df Model:                           16\n",
            "=================================================================================\n",
            "                    coef    std err          t      P>|t|      [0.025      0.975]\n",
            "---------------------------------------------------------------------------------\n",
            "const           2.01e-05   4.58e-06      4.389      0.000    1.11e-05    2.91e-05\n",
            "PL2010           -1.1354      0.036    -31.655      0.000      -1.206      -1.065\n",
            "LL2010            4.3170      0.304     14.200      0.000       3.717       4.917\n",
            "d1              -1.4e-05   5.36e-07    -26.141      0.000   -1.51e-05   -1.29e-05\n",
            "d2              9.14e-05   3.42e-07    267.399      0.000    9.07e-05    9.21e-05\n",
            "d3             2.807e-12   3.68e-07   7.63e-06      1.000   -7.27e-07    7.27e-07\n",
            "d4              4.34e-10   2.46e-06      0.000      1.000   -4.85e-06    4.85e-06\n",
            "d5            -6.114e-05   7.96e-07    -76.797      0.000   -6.27e-05   -5.96e-05\n",
            "d6             3.836e-06   2.12e-07     18.082      0.000    3.42e-06    4.26e-06\n",
            "d7             5.336e-11   6.67e-08      0.001      0.999   -1.32e-07    1.32e-07\n",
            "d8             3.566e-12      3e-09      0.001      0.999   -5.92e-09    5.93e-09\n",
            "INTANG2010        0.4763      0.059      8.006      0.000       0.359       0.594\n",
            "CAXEEQUIV2010     3.3411      0.160     20.933      0.000       3.026       3.656\n",
            "CREC2010      -2.215e-05   2.37e-06     -9.329      0.000   -2.68e-05   -1.75e-05\n",
            "REC2010           0.9502      0.027     35.694      0.000       0.898       1.003\n",
            "CAXOP2010         6.1179      0.383     15.980      0.000       5.362       6.874\n",
            "ORA2010          -5.2531      3.288     -1.597      0.112     -11.748       1.242\n",
            "=================================================================================\n",
            "\n",
            "The condition number is large, 8.49e+08. This might indicate that there are\n",
            "strong multicollinearity or other numerical problems.\n",
            "Median Absolute Error (MedAE) quantílico: 1719842.0260568177\n",
            "MedAE quantílico escalado pelo valor (ou preço) em percentagem: 19.338366583971794\n"
          ]
        }
      ]
    },
    {
      "cell_type": "markdown",
      "source": [
        "REGRESSÃO BAYESIANA"
      ],
      "metadata": {
        "id": "d35ZXGV__UMr"
      }
    },
    {
      "cell_type": "code",
      "source": [
        "from sklearn.linear_model import BayesianRidge\n",
        "from sklearn.model_selection import KFold\n",
        "from sklearn.metrics import median_absolute_error, r2_score\n",
        "import numpy as np\n",
        "\n",
        "# Supondo que 'dados' seja o DataFrame com suas variáveis\n",
        "X = dados[['PL2010', 'LL2010', 'd1', 'd2', 'd3', 'd4', 'd5', 'd6', 'd7', 'd8', 'INTANG2010',\n",
        "           'CAXEEQUIV2010', 'CREC2010', 'REC2010', 'CAXOP2010', 'ORA2010']]\n",
        "y = dados['VM30Abril2011']\n",
        "\n",
        "# Configurar a validação cruzada com 10 folds\n",
        "kf = KFold(n_splits=10, shuffle=True, random_state=42)\n",
        "\n",
        "# Listas para armazenar resultados\n",
        "medae_scores = []\n",
        "r2_scores = []\n",
        "\n",
        "# Treinar e avaliar o modelo dentro da amostra usando validação cruzada\n",
        "for train_index, test_index in kf.split(X):\n",
        "    X_train, X_test = X.iloc[train_index], X.iloc[test_index]\n",
        "    y_train, y_test = y.iloc[train_index], y.iloc[test_index]\n",
        "\n",
        "    # Criar o modelo Bayesian Ridge\n",
        "    modelo_bayesiano = BayesianRidge()\n",
        "\n",
        "    modelo_bayesiano.fit(X_train, y_train)\n",
        "    y_pred = modelo_bayesiano.predict(X_test)\n",
        "\n",
        "    # Calcular o MedAE escalado pelo valor (ou preço) em percentagem\n",
        "    medae = median_absolute_error(y_test, y_pred)\n",
        "    valor_medio_y = np.mean(y_test)\n",
        "    medae_scaled = (medae / valor_medio_y) * 100  # Em percentagem\n",
        "    medae_scores.append(medae_scaled)\n",
        "\n",
        "    # Calcular o R²\n",
        "    r2 = r2_score(y_test, y_pred)\n",
        "    r2_scores.append(r2)\n",
        "\n",
        "    # Visualizar os coeficientes do modelo (coeficientes Bayesianos)\n",
        "    coeficientes = modelo_bayesiano.coef_\n",
        "    print(\"Coeficientes do Modelo:\", coeficientes)\n",
        "\n",
        "# Média do MedAE escalado pelo valor (ou preço) em percentagem\n",
        "mean_medae_scaled = np.mean(medae_scores)\n",
        "print(\"Média do MedAE escalado pelo valor (ou preço) em percentagem:\", mean_medae_scaled)\n",
        "\n",
        "# Média do R²\n",
        "mean_r2 = np.mean(r2_scores)\n",
        "print(\"Média do R²:\", mean_r2)\n"
      ],
      "metadata": {
        "id": "BPyVyLlA_XEf",
        "outputId": "2eaa4806-525b-40c6-c25f-340edc24dac6",
        "colab": {
          "base_uri": "https://localhost:8080/"
        }
      },
      "execution_count": 60,
      "outputs": [
        {
          "output_type": "stream",
          "name": "stdout",
          "text": [
            "Coeficientes do Modelo: [ 1.12587627e-01  4.81351285e+00  1.25672264e-04 -6.52110068e-04\n",
            "  6.79839235e-04  9.98083902e-05 -6.53310102e-04  2.89112976e-04\n",
            "  2.49525292e-04  8.50726499e-06 -2.92338097e-01  2.93931727e-01\n",
            "  3.50861488e-04  1.18871420e-01  2.43181736e+00 -5.44954407e+01]\n",
            "Coeficientes do Modelo: [-2.22217966e-01  5.24225418e+00 -2.92399033e-05 -4.02613857e-05\n",
            "  1.92894689e-04 -7.29743624e-06 -1.15958015e-04  5.91076136e-06\n",
            "  1.93876012e-05 -3.45149197e-07 -3.08097122e-01  1.00207400e+00\n",
            "  2.06142301e-05  2.05701679e-01  2.81279494e+00 -2.01048786e+01]\n",
            "Coeficientes do Modelo: [-1.64939104e-01  5.01169449e+00 -2.55793345e-06 -4.99817469e-05\n",
            "  1.87537049e-04 -5.41712400e-05 -1.17175572e-04  2.95149195e-05\n",
            "  1.89367232e-05 -6.75783518e-07 -8.25659496e-02  7.22912382e-01\n",
            "  8.01102626e-06  1.74914626e-01  3.00592949e+00 -2.07790724e+01]\n",
            "Coeficientes do Modelo: [-1.33023879e-01  5.16108573e+00  2.48951987e-06 -5.46224223e-05\n",
            "  1.78403677e-04 -5.52647216e-05 -1.01320075e-04  3.25111483e-05\n",
            "  2.30600058e-05  3.29502711e-07 -1.09889630e-01  8.43355006e-01\n",
            "  6.52362338e-06  1.64912055e-01  2.76527224e+00 -2.09347878e+01]\n",
            "Coeficientes do Modelo: [-1.29044960e-01  5.04159956e+00 -6.98614326e-06 -4.76441759e-05\n",
            "  1.96450444e-04 -4.50680145e-05 -1.14258968e-04  3.22883214e-05\n",
            "  1.28146543e-05 -5.13080073e-07 -1.41286888e-01  5.48259643e-01\n",
            "  1.17144392e-05  1.89966254e-01  2.91386674e+00 -2.11162680e+01]\n",
            "Coeficientes do Modelo: [-3.33243507e-01  9.95059265e+00  6.29026234e-07 -3.98808424e-05\n",
            "  1.02256366e-04  2.67720492e-06 -7.36667707e-05  1.28189010e-05\n",
            "  1.68973712e-05  1.96907670e-06 -7.59284287e-01  6.17622358e-01\n",
            "  2.11891841e-05  2.54808282e-01  1.73161128e+00 -1.09398960e+01]\n",
            "Coeficientes do Modelo: [ 2.28299314e-01  6.16710751e+00  5.15224650e-06 -9.81843413e-06\n",
            "  1.21184560e-05 -6.22038190e-06 -1.43816981e-05  5.20332839e-06\n",
            "  6.16711104e-06  9.69065332e-08 -2.96752009e-01  5.96856772e-01\n",
            "  4.72678474e-06  2.06835004e-01  5.65580167e-01 -5.18799090e-01]\n",
            "Coeficientes do Modelo: [-4.30854073e-01  2.79489722e+00  6.66279307e-06 -3.12590192e-05\n",
            "  2.21740711e-04 -1.48300570e-04 -8.24978302e-05  3.65806867e-05\n",
            "  3.18381915e-05 -3.31998189e-06 -1.67324033e-01  1.52652655e+00\n",
            "  3.29121061e-05  1.91914639e-01  5.30461600e+00 -2.07171378e+01]\n",
            "Coeficientes do Modelo: [-1.40668847e-01  5.24363754e+00  4.46757544e-06 -4.27314842e-05\n",
            "  2.25040236e-04 -7.77394403e-05 -1.36149918e-04  3.62096410e-05\n",
            "  1.90557168e-05  6.21518753e-07 -1.36349598e-01  7.86342831e-01\n",
            "  1.71702250e-05  2.19064623e-01  2.62692632e+00 -2.25758038e+01]\n",
            "Coeficientes do Modelo: [-1.45141377e-01  5.18735643e+00  3.65760436e-06 -5.11546314e-05\n",
            "  1.84529600e-04 -5.67699493e-05 -1.03260055e-04  2.82058114e-05\n",
            "  2.02231981e-05 -4.43625927e-07 -1.08020782e-01  7.56107910e-01\n",
            "  1.45647295e-05  1.89182434e-01  2.76411086e+00 -2.05121550e+01]\n",
            "Média do MedAE escalado pelo valor (ou preço) em percentagem: 22.336591795034053\n",
            "Média do R²: 0.2978282647861473\n"
          ]
        }
      ]
    },
    {
      "cell_type": "markdown",
      "source": [
        "SVR"
      ],
      "metadata": {
        "id": "NIw0ZhcK_9OC"
      }
    },
    {
      "cell_type": "code",
      "source": [
        "from sklearn.svm import SVR\n",
        "from sklearn.model_selection import KFold\n",
        "from sklearn.metrics import median_absolute_error, r2_score\n",
        "import numpy as np\n",
        "\n",
        "# Supondo que 'dados' seja o DataFrame com suas variáveis\n",
        "X = dados[['PL2010', 'LL2010', 'd1', 'd2', 'd3', 'd4', 'd5', 'd6', 'd7', 'd8', 'INTANG2010',\n",
        "           'CAXEEQUIV2010', 'CREC2010', 'REC2010', 'CAXOP2010', 'ORA2010']]\n",
        "y = dados['VM30Abril2011']\n",
        "\n",
        "# Configurar a validação cruzada com 10 folds\n",
        "kf = KFold(n_splits=10, shuffle=True, random_state=42)\n",
        "\n",
        "# Listas para armazenar resultados\n",
        "medae_scores = []\n",
        "r2_scores = []\n",
        "\n",
        "# Treinar e avaliar o modelo dentro da amostra usando validação cruzada\n",
        "for train_index, test_index in kf.split(X):\n",
        "    X_train, X_test = X.iloc[train_index], X.iloc[test_index]\n",
        "    y_train, y_test = y.iloc[train_index], y.iloc[test_index]\n",
        "\n",
        "    # Criar o modelo SVR com kernel RBF\n",
        "    modelo_svr = SVR(kernel='rbf', C=1.0)\n",
        "\n",
        "    modelo_svr.fit(X_train, y_train)\n",
        "    y_pred = modelo_svr.predict(X_test)\n",
        "\n",
        "    # Calcular o MedAE escalado pelo valor (ou preço) em percentagem\n",
        "    medae = median_absolute_error(y_test, y_pred)\n",
        "    valor_medio_y = np.mean(y_test)\n",
        "    medae_scaled = (medae / valor_medio_y) * 100  # Em percentagem\n",
        "    medae_scores.append(medae_scaled)\n",
        "\n",
        "    # Calcular o R²\n",
        "    r2 = r2_score(y_test, y_pred)\n",
        "    r2_scores.append(r2)\n",
        "\n",
        "# Média do MedAE escalado pelo valor (ou preço) em percentagem\n",
        "mean_medae_scaled = np.mean(medae_scores)\n",
        "print(\"Média do MedAE escalado pelo valor (ou preço) em percentagem:\", mean_medae_scaled)\n",
        "\n",
        "# Média do R²\n",
        "mean_r2 = np.mean(r2_scores)\n",
        "print(\"Média do R²:\", mean_r2)\n"
      ],
      "metadata": {
        "id": "VPXr6W3_Hh_z",
        "outputId": "31b8e7cb-a663-4871-ae15-36db10052e8e",
        "colab": {
          "base_uri": "https://localhost:8080/"
        }
      },
      "execution_count": 6,
      "outputs": [
        {
          "output_type": "stream",
          "name": "stdout",
          "text": [
            "Média do MedAE escalado pelo valor (ou preço) em percentagem: 30.92255520392939\n",
            "Média do R²: -0.13998104290872898\n"
          ]
        }
      ]
    },
    {
      "cell_type": "code",
      "source": [
        "from sklearn.svm import SVR\n",
        "from sklearn.model_selection import KFold\n",
        "from sklearn.metrics import median_absolute_error, r2_score\n",
        "import numpy as np\n",
        "\n",
        "# Supondo que 'dados' seja o DataFrame com suas variáveis\n",
        "X = dados[['PL2010', 'LL2010', 'd1', 'd2', 'd3', 'd4', 'd5', 'd6', 'd7', 'd8', 'INTANG2010',\n",
        "           'CAXEEQUIV2010', 'CREC2010', 'REC2010', 'CAXOP2010', 'ORA2010']]\n",
        "y = dados['VM30Abril2011']\n",
        "\n",
        "# Configurar a validação cruzada com 10 folds\n",
        "kf = KFold(n_splits=10, shuffle=True, random_state=42)\n",
        "\n",
        "# Listas para armazenar resultados\n",
        "medae_scores = []\n",
        "r2_scores = []\n",
        "\n",
        "# Treinar e avaliar o modelo dentro da amostra usando validação cruzada\n",
        "for train_index, test_index in kf.split(X):\n",
        "    X_train, X_test = X.iloc[train_index], X.iloc[test_index]\n",
        "    y_train, y_test = y.iloc[train_index], y.iloc[test_index]\n",
        "\n",
        "    # Criar o modelo SVR com kernel polinomial\n",
        "    modelo_svr = SVR(kernel='poly', degree=3, C=1.0)\n",
        "\n",
        "    modelo_svr.fit(X_train, y_train)\n",
        "    y_pred = modelo_svr.predict(X_test)\n",
        "\n",
        "    # Calcular o MedAE escalado pelo valor (ou preço) em percentagem\n",
        "    medae = median_absolute_error(y_test, y_pred)\n",
        "    valor_medio_y = np.mean(y_test)\n",
        "    medae_scaled = (medae / valor_medio_y) * 100  # Em percentagem\n",
        "    medae_scores.append(medae_scaled)\n",
        "\n",
        "    # Calcular o R²\n",
        "    r2 = r2_score(y_test, y_pred)\n",
        "    r2_scores.append(r2)\n",
        "\n",
        "# Média do MedAE escalado pelo valor (ou preço) em percentagem\n",
        "mean_medae_scaled = np.mean(medae_scores)\n",
        "print(\"Média do MedAE escalado pelo valor (ou preço) em percentagem:\", mean_medae_scaled)\n",
        "\n",
        "# Média do R²\n",
        "mean_r2 = np.mean(r2_scores)\n",
        "print(\"Média do R²:\", mean_r2)\n"
      ],
      "metadata": {
        "id": "61aFkPxqH1nC",
        "outputId": "7b7494a2-cac3-4912-8304-9c6793342dfe",
        "colab": {
          "base_uri": "https://localhost:8080/"
        }
      },
      "execution_count": 7,
      "outputs": [
        {
          "output_type": "stream",
          "name": "stdout",
          "text": [
            "Média do MedAE escalado pelo valor (ou preço) em percentagem: 30.92256068011909\n",
            "Média do R²: -0.1337646702996093\n"
          ]
        }
      ]
    },
    {
      "cell_type": "markdown",
      "source": [
        "ARVORE DE DECISÃO"
      ],
      "metadata": {
        "id": "x6LWJCtFU0Od"
      }
    },
    {
      "cell_type": "code",
      "source": [
        "from sklearn.tree import DecisionTreeRegressor\n",
        "from sklearn.ensemble import BaggingRegressor\n",
        "from sklearn.model_selection import KFold\n",
        "from sklearn.metrics import mean_absolute_error, mean_squared_error, r2_score\n",
        "import numpy as np\n",
        "\n",
        "# Supondo que 'dados' seja o DataFrame com suas variáveis\n",
        "X = dados[['PL2010', 'LL2010', 'd1', 'd2', 'd3', 'd4', 'd5', 'd6', 'd7', 'd8', 'INTANG2010',\n",
        "           'CAXEEQUIV2010', 'CREC2010', 'REC2010', 'CAXOP2010', 'ORA2010']]\n",
        "y = dados['VM30Abril2011']\n",
        "\n",
        "# Configurar a validação cruzada com 10 folds\n",
        "kf = KFold(n_splits=10, shuffle=True, random_state=42)\n",
        "\n",
        "# Listas para armazenar resultados\n",
        "medae_scores = []\n",
        "r2_scores = []\n",
        "\n",
        "# Treinar e avaliar o modelo dentro da amostra usando validação cruzada\n",
        "for train_index, test_index in kf.split(X):\n",
        "    X_train, X_test = X.iloc[train_index], X.iloc[test_index]\n",
        "    y_train, y_test = y.iloc[train_index], y.iloc[test_index]\n",
        "\n",
        "    # Criar o modelo de árvore de decisão com os parâmetros desejados\n",
        "    modelo_arvore = DecisionTreeRegressor(min_samples_split=5, random_state=42)\n",
        "\n",
        "    # Criar o modelo Bagging com 500 árvores\n",
        "    bagging_model = BaggingRegressor(base_estimator=modelo_arvore, n_estimators=500, bootstrap=True, random_state=42)\n",
        "\n",
        "    bagging_model.fit(X_train, y_train)\n",
        "    y_pred = bagging_model.predict(X_test)\n",
        "\n",
        "    # Calcular o MedAE escalado pelo valor (ou preço) em percentagem\n",
        "    medae = np.median(np.abs(y_test - y_pred))\n",
        "    valor_medio_y = np.mean(y_test)\n",
        "    medae_scaled = (medae / valor_medio_y) * 100  # Em percentagem\n",
        "    medae_scores.append(medae_scaled)\n",
        "\n",
        "    # Calcular o R²\n",
        "    r2 = r2_score(y_test, y_pred)\n",
        "    r2_scores.append(r2)\n",
        "\n",
        "    # Visualizar a importância dos coeficientes (importância das variáveis)\n",
        "    importancia_coeficientes = np.mean([tree.feature_importances_ for tree in bagging_model.estimators_], axis=0)\n",
        "    print(\"Importância dos Coeficientes:\", importancia_coeficientes)\n",
        "\n",
        "# Média do MedAE escalado pelo valor (ou preço) em percentagem\n",
        "mean_medae_scaled = np.mean(medae_scores)\n",
        "print(\"Média do MedAE escalado pelo valor (ou preço) em percentagem:\", mean_medae_scaled)\n",
        "\n",
        "# Média do R²\n",
        "mean_r2 = np.mean(r2_scores)\n",
        "print(\"Média do R²:\", mean_r2)\n"
      ],
      "metadata": {
        "colab": {
          "base_uri": "https://localhost:8080/"
        },
        "id": "Q6G90UU8W4WZ",
        "outputId": "7e6d8a07-af31-448e-9921-664d22c14456"
      },
      "execution_count": 8,
      "outputs": [
        {
          "output_type": "stream",
          "name": "stderr",
          "text": [
            "/usr/local/lib/python3.10/dist-packages/sklearn/ensemble/_base.py:166: FutureWarning: `base_estimator` was renamed to `estimator` in version 1.2 and will be removed in 1.4.\n",
            "  warnings.warn(\n"
          ]
        },
        {
          "output_type": "stream",
          "name": "stdout",
          "text": [
            "Importância dos Coeficientes: [9.61047024e-02 3.60331109e-01 3.10331496e-04 7.06154615e-05\n",
            " 1.12654252e-04 2.76805081e-04 1.98572026e-05 1.53718363e-04\n",
            " 1.96347001e-04 4.83972892e-05 7.65270399e-02 1.37999535e-01\n",
            " 7.64976841e-04 8.54704340e-02 2.33041853e-01 8.57162368e-03]\n"
          ]
        },
        {
          "output_type": "stream",
          "name": "stderr",
          "text": [
            "/usr/local/lib/python3.10/dist-packages/sklearn/ensemble/_base.py:166: FutureWarning: `base_estimator` was renamed to `estimator` in version 1.2 and will be removed in 1.4.\n",
            "  warnings.warn(\n"
          ]
        },
        {
          "output_type": "stream",
          "name": "stdout",
          "text": [
            "Importância dos Coeficientes: [1.52562094e-01 4.02636426e-01 3.49748916e-04 6.06346059e-05\n",
            " 6.46553634e-04 3.68708263e-04 3.48473344e-05 3.43122409e-04\n",
            " 1.87371817e-04 8.15874774e-05 3.53642176e-03 4.83636882e-02\n",
            " 2.15274783e-03 6.84388651e-02 3.08164212e-01 1.20729716e-02]\n"
          ]
        },
        {
          "output_type": "stream",
          "name": "stderr",
          "text": [
            "/usr/local/lib/python3.10/dist-packages/sklearn/ensemble/_base.py:166: FutureWarning: `base_estimator` was renamed to `estimator` in version 1.2 and will be removed in 1.4.\n",
            "  warnings.warn(\n"
          ]
        },
        {
          "output_type": "stream",
          "name": "stdout",
          "text": [
            "Importância dos Coeficientes: [1.45469604e-01 3.76213890e-01 1.15474381e-04 3.69311617e-05\n",
            " 1.95480447e-04 2.30531196e-04 3.33946788e-05 1.76065692e-04\n",
            " 1.45686015e-04 2.85006058e-05 6.80849095e-02 1.03908041e-01\n",
            " 8.22239970e-04 8.75064800e-02 2.02309098e-01 1.47236730e-02]\n"
          ]
        },
        {
          "output_type": "stream",
          "name": "stderr",
          "text": [
            "/usr/local/lib/python3.10/dist-packages/sklearn/ensemble/_base.py:166: FutureWarning: `base_estimator` was renamed to `estimator` in version 1.2 and will be removed in 1.4.\n",
            "  warnings.warn(\n"
          ]
        },
        {
          "output_type": "stream",
          "name": "stdout",
          "text": [
            "Importância dos Coeficientes: [1.71702284e-01 3.60892123e-01 1.98629340e-04 2.71672572e-05\n",
            " 1.87303658e-05 9.53081022e-05 8.44018115e-05 1.45129234e-04\n",
            " 1.15665368e-04 4.18440414e-05 7.31487942e-02 9.69202377e-02\n",
            " 6.72433875e-04 6.21199146e-02 2.18044549e-01 1.57727888e-02]\n"
          ]
        },
        {
          "output_type": "stream",
          "name": "stderr",
          "text": [
            "/usr/local/lib/python3.10/dist-packages/sklearn/ensemble/_base.py:166: FutureWarning: `base_estimator` was renamed to `estimator` in version 1.2 and will be removed in 1.4.\n",
            "  warnings.warn(\n"
          ]
        },
        {
          "output_type": "stream",
          "name": "stdout",
          "text": [
            "Importância dos Coeficientes: [1.52116196e-01 3.63877231e-01 1.31859724e-04 4.21830643e-05\n",
            " 4.00750409e-04 1.24089889e-04 5.01967689e-05 1.70365725e-04\n",
            " 9.38345314e-05 3.78773944e-05 6.84584390e-02 8.30263164e-02\n",
            " 7.67154136e-04 9.74227999e-02 2.19288474e-01 1.39922329e-02]\n"
          ]
        },
        {
          "output_type": "stream",
          "name": "stderr",
          "text": [
            "/usr/local/lib/python3.10/dist-packages/sklearn/ensemble/_base.py:166: FutureWarning: `base_estimator` was renamed to `estimator` in version 1.2 and will be removed in 1.4.\n",
            "  warnings.warn(\n"
          ]
        },
        {
          "output_type": "stream",
          "name": "stdout",
          "text": [
            "Importância dos Coeficientes: [1.17055910e-01 3.09212847e-01 2.87706979e-04 6.59548722e-05\n",
            " 7.32934818e-04 3.55479830e-04 9.87734022e-05 2.63233493e-04\n",
            " 2.31331289e-04 7.07873518e-05 1.81653659e-01 9.63176919e-02\n",
            " 1.54602201e-03 6.53100545e-02 1.81960160e-01 4.48374532e-02]\n"
          ]
        },
        {
          "output_type": "stream",
          "name": "stderr",
          "text": [
            "/usr/local/lib/python3.10/dist-packages/sklearn/ensemble/_base.py:166: FutureWarning: `base_estimator` was renamed to `estimator` in version 1.2 and will be removed in 1.4.\n",
            "  warnings.warn(\n"
          ]
        },
        {
          "output_type": "stream",
          "name": "stdout",
          "text": [
            "Importância dos Coeficientes: [1.88059516e-01 2.99154624e-01 4.49670095e-04 4.12381945e-05\n",
            " 8.01736660e-04 3.42143903e-04 8.08451783e-05 2.49361311e-04\n",
            " 2.68741123e-04 7.90805599e-05 4.94820974e-02 1.41381258e-01\n",
            " 1.50937704e-03 1.48407542e-01 1.68735981e-01 9.56787930e-04]\n"
          ]
        },
        {
          "output_type": "stream",
          "name": "stderr",
          "text": [
            "/usr/local/lib/python3.10/dist-packages/sklearn/ensemble/_base.py:166: FutureWarning: `base_estimator` was renamed to `estimator` in version 1.2 and will be removed in 1.4.\n",
            "  warnings.warn(\n"
          ]
        },
        {
          "output_type": "stream",
          "name": "stdout",
          "text": [
            "Importância dos Coeficientes: [1.20072467e-01 3.86090980e-01 2.17601555e-04 2.10669828e-05\n",
            " 3.34567861e-05 3.09271277e-04 5.45560977e-05 3.10061587e-04\n",
            " 2.19769152e-04 1.25314296e-06 6.67259291e-02 1.03781312e-01\n",
            " 1.24227740e-03 6.96659947e-02 2.37072865e-01 1.41811385e-02]\n"
          ]
        },
        {
          "output_type": "stream",
          "name": "stderr",
          "text": [
            "/usr/local/lib/python3.10/dist-packages/sklearn/ensemble/_base.py:166: FutureWarning: `base_estimator` was renamed to `estimator` in version 1.2 and will be removed in 1.4.\n",
            "  warnings.warn(\n"
          ]
        },
        {
          "output_type": "stream",
          "name": "stdout",
          "text": [
            "Importância dos Coeficientes: [1.56949840e-01 3.33762497e-01 6.48762834e-05 2.68028051e-05\n",
            " 1.98752003e-04 2.41348351e-04 3.59751296e-05 3.17614364e-05\n",
            " 3.60290674e-05 4.89038150e-05 4.67289924e-02 1.08215295e-01\n",
            " 9.73882744e-04 8.30037622e-02 2.52601888e-01 1.70793929e-02]\n"
          ]
        },
        {
          "output_type": "stream",
          "name": "stderr",
          "text": [
            "/usr/local/lib/python3.10/dist-packages/sklearn/ensemble/_base.py:166: FutureWarning: `base_estimator` was renamed to `estimator` in version 1.2 and will be removed in 1.4.\n",
            "  warnings.warn(\n"
          ]
        },
        {
          "output_type": "stream",
          "name": "stdout",
          "text": [
            "Importância dos Coeficientes: [1.64955855e-01 3.61460594e-01 3.20422566e-04 2.61667895e-05\n",
            " 1.98043639e-04 3.83612641e-04 7.05706768e-05 1.83585198e-04\n",
            " 1.41298214e-04 3.23196169e-05 7.30159988e-02 5.49123695e-02\n",
            " 1.33351866e-03 1.00425408e-01 2.24240319e-01 1.82999171e-02]\n",
            "Média do MedAE escalado pelo valor (ou preço) em percentagem: 13.711620119630814\n",
            "Média do R²: 0.6524502980182271\n"
          ]
        }
      ]
    },
    {
      "cell_type": "markdown",
      "source": [
        "FLORESTA ALEATÓRIA"
      ],
      "metadata": {
        "id": "OZLbiycNZm26"
      }
    },
    {
      "cell_type": "code",
      "source": [
        "from sklearn.ensemble import RandomForestRegressor\n",
        "from sklearn.model_selection import KFold\n",
        "from sklearn.metrics import mean_absolute_error, mean_squared_error, r2_score\n",
        "import numpy as np\n",
        "\n",
        "# Supondo que 'dados' seja o DataFrame com suas variáveis\n",
        "X = dados[['PL10', 'LL10', 'd1', 'd2', 'd3', 'd4', 'd5', 'd6', 'd7', 'd8', 'd9', 'INTANG10',\n",
        "       'CAXEEQUIV10', 'GREC10', 'REC10', 'CAXOP10', 'ORA10']]\n",
        "y = dados['VM30Abril11']\n",
        "\n",
        "# Configurar a validação cruzada com 10 folds\n",
        "kf = KFold(n_splits=10, shuffle=True, random_state=42)\n",
        "\n",
        "# Listas para armazenar resultados\n",
        "medae_scores = []\n",
        "r2_scores = []\n",
        "\n",
        "# Treinar e avaliar o modelo dentro da amostra usando validação cruzada\n",
        "for train_index, test_index in kf.split(X):\n",
        "    X_train, X_test = X.iloc[train_index], X.iloc[test_index]\n",
        "    y_train, y_test = y.iloc[train_index], y.iloc[test_index]\n",
        "\n",
        "    # Criar o modelo de Floresta Aleatória com os parâmetros desejados\n",
        "    random_forest_model = RandomForestRegressor(n_estimators=500, random_state=42)\n",
        "\n",
        "    random_forest_model.fit(X_train, y_train)\n",
        "    y_pred = random_forest_model.predict(X_test)\n",
        "\n",
        "    # Calcular o MedAE escalado pelo valor (ou preço) em percentagem\n",
        "    medae = np.median(np.abs(y_test - y_pred))\n",
        "    valor_medio_y = np.mean(y_test)\n",
        "    medae_scaled = (medae / valor_medio_y) * 100  # Em percentagem\n",
        "    medae_scores.append(medae_scaled)\n",
        "\n",
        "    # Calcular o R²\n",
        "    r2 = r2_score(y_test, y_pred)\n",
        "    r2_scores.append(r2)\n",
        "\n",
        "    # Visualizar a importância das variáveis\n",
        "    importancia_variaveis = random_forest_model.feature_importances_\n",
        "    print(\"Importância das Variáveis:\", importancia_variaveis)\n",
        "\n",
        "# Média do MedAE escalado pelo valor (ou preço) em percentagem\n",
        "mean_medae_scaled = np.mean(medae_scores)\n",
        "print(\"Média do MedAE escalado pelo valor (ou preço) em percentagem:\", mean_medae_scaled)\n",
        "\n",
        "# Média do R²\n",
        "mean_r2 = np.mean(r2_scores)\n",
        "print(\"Média do R²:\", mean_r2)\n"
      ],
      "metadata": {
        "id": "lpAmsgS7Zph4",
        "outputId": "28a3381a-0ad6-480a-838c-fb4e72a3e3bc",
        "colab": {
          "base_uri": "https://localhost:8080/"
        }
      },
      "execution_count": null,
      "outputs": [
        {
          "output_type": "stream",
          "name": "stdout",
          "text": [
            "Importância das Variáveis: [9.45324502e-02 5.27509318e-01 7.75173969e-05 3.17505292e-05\n",
            " 7.64787076e-04 3.67579030e-03 5.34448345e-03 4.34944304e-03\n",
            " 7.98966196e-05 2.73970045e-05 6.90909199e-05 4.16200162e-02\n",
            " 5.21939774e-02 9.34805217e-03 7.97539108e-02 1.75063196e-01\n",
            " 5.55892304e-03]\n",
            "Importância das Variáveis: [1.03121962e-01 5.40180289e-01 9.50792368e-05 2.79678489e-05\n",
            " 5.65813139e-04 2.50659241e-03 4.87524265e-03 4.45028177e-03\n",
            " 7.73104513e-05 2.62689266e-05 1.07006221e-04 5.04954037e-02\n",
            " 5.09728876e-02 9.33333805e-03 5.77498584e-02 1.70151920e-01\n",
            " 5.26277857e-03]\n",
            "Importância das Variáveis: [9.32462499e-02 4.77214721e-01 1.55716858e-04 4.65547445e-05\n",
            " 1.87980118e-03 3.14077751e-03 1.28876136e-04 8.32785835e-03\n",
            " 1.55290987e-04 4.90024581e-05 1.28127108e-04 1.12659354e-01\n",
            " 5.48770514e-02 4.69731354e-03 5.51732399e-02 1.80220298e-01\n",
            " 7.89976569e-03]\n",
            "Importância das Variáveis: [6.30805237e-02 5.91171914e-01 1.21640179e-04 2.50015272e-05\n",
            " 1.01023155e-03 2.99186006e-03 4.06234456e-03 3.31080831e-03\n",
            " 1.38737375e-04 3.97129927e-05 1.39238964e-04 4.25883238e-02\n",
            " 6.62064077e-02 9.11829870e-03 5.72727220e-02 1.54710406e-01\n",
            " 4.01182870e-03]\n",
            "Importância das Variáveis: [8.32486870e-02 4.94440854e-01 7.63169917e-05 2.89893562e-05\n",
            " 1.31774469e-03 3.68865626e-03 6.13435957e-03 3.81348749e-03\n",
            " 2.39706869e-05 3.72660844e-05 1.56936157e-04 5.35215551e-02\n",
            " 9.06038586e-02 8.75692646e-03 5.98887298e-02 1.88635207e-01\n",
            " 5.62645506e-03]\n",
            "Importância das Variáveis: [1.70139765e-01 3.16387879e-01 1.66937281e-05 2.02387532e-05\n",
            " 8.67065101e-05 7.04241554e-03 3.04389357e-03 3.06020997e-03\n",
            " 1.14581947e-04 3.16158476e-05 1.08000369e-04 6.18017566e-02\n",
            " 6.98869254e-02 7.28732905e-03 8.15875852e-02 2.73604826e-01\n",
            " 5.77957823e-03]\n",
            "Importância das Variáveis: [7.61709437e-02 5.36387579e-01 7.44037616e-05 2.29547578e-05\n",
            " 6.53345715e-04 3.32527199e-03 5.69706779e-03 4.69221093e-03\n",
            " 9.09143200e-05 3.18379059e-07 1.02739740e-04 2.20182805e-02\n",
            " 7.74266566e-02 7.05412598e-03 6.28101618e-02 1.98324500e-01\n",
            " 5.14852533e-03]\n",
            "Importância das Variáveis: [9.00064704e-02 5.62206218e-01 1.46603089e-04 4.18652319e-05\n",
            " 1.21376715e-03 2.85296164e-03 1.08657273e-02 1.51544194e-04\n",
            " 9.78259567e-05 3.82284719e-05 2.34980180e-04 2.96678868e-03\n",
            " 2.71377987e-02 1.35831504e-02 2.88025903e-02 2.55584531e-01\n",
            " 4.06894887e-03]\n",
            "Importância das Variáveis: [9.39966625e-02 5.33808043e-01 9.95223596e-05 3.34800978e-05\n",
            " 1.28937448e-03 2.04905524e-03 5.39809225e-03 2.71184380e-03\n",
            " 1.08212362e-04 3.02913362e-05 1.18657396e-04 2.39179525e-02\n",
            " 8.71748114e-02 9.57649000e-03 5.63712187e-02 1.78745415e-01\n",
            " 4.57087737e-03]\n",
            "Importância das Variáveis: [1.26151015e-01 3.54198703e-01 1.10664906e-04 4.41806144e-05\n",
            " 1.30558517e-03 1.49515683e-03 4.78320921e-03 2.14043630e-03\n",
            " 8.11378996e-05 3.86251452e-05 1.04973638e-04 7.34142543e-02\n",
            " 1.13312921e-01 7.37060804e-03 1.54011604e-01 1.56738730e-01\n",
            " 4.69819516e-03]\n",
            "Média do MedAE escalado pelo valor (ou preço) em percentagem: 11.990729324725411\n",
            "Média do R²: 0.7098429679297792\n"
          ]
        }
      ]
    },
    {
      "cell_type": "markdown",
      "source": [
        "GRADIENT BOOSTING"
      ],
      "metadata": {
        "id": "gReIxsDPa_9B"
      }
    },
    {
      "cell_type": "code",
      "source": [
        "from sklearn.ensemble import GradientBoostingRegressor\n",
        "from sklearn.model_selection import KFold\n",
        "from sklearn.metrics import mean_absolute_error, mean_squared_error, r2_score\n",
        "import numpy as np\n",
        "\n",
        "# Supondo que 'dados' seja o DataFrame com suas variáveis\n",
        "X = dados[['PL10', 'LL10', 'd1', 'd2', 'd3', 'd4', 'd5', 'd6', 'd7', 'd8', 'd9', 'INTANG10',\n",
        "       'CAXEEQUIV10', 'GREC10', 'REC10', 'CAXOP10', 'ORA10']]\n",
        "y = dados['VM30Abril11']\n",
        "\n",
        "# Configurar a validação cruzada com 10 folds\n",
        "kf = KFold(n_splits=10, shuffle=True, random_state=42)\n",
        "\n",
        "# Listas para armazenar resultados\n",
        "medae_scores = []\n",
        "r2_scores = []\n",
        "\n",
        "# Treinar e avaliar o modelo dentro da amostra usando validação cruzada\n",
        "for train_index, test_index in kf.split(X):\n",
        "    X_train, X_test = X.iloc[train_index], X.iloc[test_index]\n",
        "    y_train, y_test = y.iloc[train_index], y.iloc[test_index]\n",
        "\n",
        "    # Criar o modelo de Regressão Gradient Boosting com os parâmetros desejados\n",
        "    gradient_boosting_model = GradientBoostingRegressor(n_estimators=500, random_state=42)\n",
        "\n",
        "    gradient_boosting_model.fit(X_train, y_train)\n",
        "    y_pred = gradient_boosting_model.predict(X_test)\n",
        "\n",
        "    # Calcular o MedAE escalado pelo valor (ou preço) em percentagem\n",
        "    medae = np.median(np.abs(y_test - y_pred))\n",
        "    valor_medio_y = np.mean(y_test)\n",
        "    medae_scaled = (medae / valor_medio_y) * 100  # Em percentagem\n",
        "    medae_scores.append(medae_scaled)\n",
        "\n",
        "    # Calcular o R²\n",
        "    r2 = r2_score(y_test, y_pred)\n",
        "    r2_scores.append(r2)\n",
        "\n",
        "    # Visualizar a importância das variáveis\n",
        "    importancia_variaveis = gradient_boosting_model.feature_importances_\n",
        "    print(\"Importância das Variáveis:\", importancia_variaveis)\n",
        "\n",
        "# Média do MedAE escalado pelo valor (ou preço) em percentagem\n",
        "mean_medae_scaled = np.mean(medae_scores)\n",
        "print(\"Média do MedAE escalado pelo valor (ou preço) em percentagem:\", mean_medae_scaled)\n",
        "\n",
        "# Média do R²\n",
        "mean_r2 = np.mean(r2_scores)\n",
        "print(\"Média do R²:\", mean_r2)\n"
      ],
      "metadata": {
        "id": "NvfZ3qUAbCf5",
        "outputId": "941288e6-ca21-4c1d-9f0e-069c7009e54b",
        "colab": {
          "base_uri": "https://localhost:8080/"
        }
      },
      "execution_count": null,
      "outputs": [
        {
          "output_type": "stream",
          "name": "stdout",
          "text": [
            "Importância das Variáveis: [3.06427477e-02 7.35181092e-01 8.38810638e-06 6.30734976e-06\n",
            " 4.60366639e-04 1.93865189e-03 3.58324257e-04 3.95400755e-03\n",
            " 6.03353005e-05 1.45156547e-05 7.87006752e-05 1.75397961e-03\n",
            " 8.04373069e-02 8.96126355e-03 1.28111980e-02 1.13586221e-01\n",
            " 9.74659385e-03]\n",
            "Importância das Variáveis: [1.61682162e-02 7.50092632e-01 1.16238727e-05 2.62326392e-06\n",
            " 1.62747243e-03 3.16783042e-03 3.94278181e-03 8.75080320e-03\n",
            " 7.62886578e-05 4.05167744e-06 5.07637128e-05 2.59235658e-03\n",
            " 2.70628089e-02 5.79270999e-04 2.94031476e-02 1.48633476e-01\n",
            " 7.83385280e-03]\n",
            "Importância das Variáveis: [2.66362076e-02 6.24098363e-01 1.31270736e-05 3.77033489e-06\n",
            " 4.47053087e-04 5.09648012e-04 2.10510247e-05 8.98031352e-02\n",
            " 1.07982918e-04 1.28162398e-05 6.72718523e-05 1.01115596e-03\n",
            " 5.20385425e-02 1.26958126e-02 6.24117169e-03 1.71310229e-01\n",
            " 1.49826620e-02]\n",
            "Importância das Variáveis: [2.61929457e-02 8.80492749e-01 1.73767481e-05 2.25553690e-07\n",
            " 7.46367428e-04 1.19332885e-04 1.37014278e-03 4.97673644e-03\n",
            " 1.66802219e-04 7.51591867e-06 1.09865083e-04 7.18061617e-04\n",
            " 2.18400023e-02 3.25212970e-03 1.77119428e-02 4.12603396e-02\n",
            " 1.01746444e-03]\n",
            "Importância das Variáveis: [1.70730142e-02 7.42149458e-01 4.34230646e-05 9.77716286e-07\n",
            " 1.99877112e-03 2.03487468e-03 5.38458128e-03 3.85319558e-03\n",
            " 1.43808516e-05 1.59167271e-05 5.63956772e-05 2.27787352e-03\n",
            " 5.79378095e-02 1.02510011e-03 1.46254158e-02 1.43740834e-01\n",
            " 7.76797831e-03]\n",
            "Importância das Variáveis: [1.85015866e-02 1.82803271e-01 2.65160612e-05 3.56958036e-06\n",
            " 6.60121713e-05 1.35397147e-02 2.78908711e-03 4.06238062e-04\n",
            " 1.23134713e-04 9.90799929e-06 7.32860716e-05 5.84309819e-03\n",
            " 9.33628412e-03 4.82212255e-03 2.68707850e-02 7.06576266e-01\n",
            " 2.82091204e-02]\n",
            "Importância das Variáveis: [4.45503833e-02 7.69660949e-01 1.65145149e-05 8.20080652e-06\n",
            " 3.58614813e-03 1.43681980e-03 2.52224683e-03 3.24152667e-03\n",
            " 8.26842081e-05 1.57060538e-06 1.96288994e-05 2.81645549e-03\n",
            " 2.57738128e-02 2.84285291e-03 1.02483368e-02 1.23823614e-01\n",
            " 9.36825470e-03]\n",
            "Importância das Variáveis: [3.91054090e-02 8.33722864e-01 1.31005353e-04 1.51960725e-06\n",
            " 3.85598271e-04 3.50280367e-03 3.61107649e-06 1.26864812e-04\n",
            " 4.35269503e-05 2.52313296e-05 1.17662618e-04 1.27972847e-03\n",
            " 3.91619184e-02 2.29027892e-02 8.83981016e-03 4.70404116e-02\n",
            " 3.60924595e-03]\n",
            "Importância das Variáveis: [2.30646741e-02 6.93518373e-01 1.20462960e-05 1.57471333e-06\n",
            " 1.73291468e-03 4.52815647e-03 6.71485246e-03 4.43964811e-03\n",
            " 5.38947119e-05 4.75180501e-06 7.53064016e-05 1.20046590e-03\n",
            " 7.77055907e-02 2.66802671e-03 9.61066307e-03 1.66411924e-01\n",
            " 8.25713610e-03]\n",
            "Importância das Variáveis: [2.12934568e-01 2.51661062e-01 1.23267917e-04 5.41229259e-06\n",
            " 2.69979971e-03 5.77081967e-04 3.73825599e-05 5.44593698e-03\n",
            " 6.40422311e-05 1.54026946e-05 4.39543336e-05 4.78167260e-03\n",
            " 1.45126095e-01 5.82033203e-03 2.52094030e-01 1.10686635e-01\n",
            " 7.88332494e-03]\n",
            "Média do MedAE escalado pelo valor (ou preço) em percentagem: 14.758947091607372\n",
            "Média do R²: 0.7513958685868922\n"
          ]
        }
      ]
    },
    {
      "cell_type": "markdown",
      "source": [
        "REDES NEURAIS"
      ],
      "metadata": {
        "id": "Gy8Aqujjc2rw"
      }
    },
    {
      "cell_type": "code",
      "source": [
        "from sklearn.neural_network import MLPRegressor\n",
        "from sklearn.model_selection import KFold\n",
        "from sklearn.metrics import mean_absolute_error, mean_squared_error, r2_score\n",
        "import numpy as np\n",
        "\n",
        "# Supondo que 'dados' seja o DataFrame com suas variáveis\n",
        "X = dados[['PL10', 'LL10', 'd1', 'd2', 'd3', 'd4', 'd5', 'd6', 'd7', 'd8', 'd9', 'INTANG10',\n",
        "       'CAXEEQUIV10', 'GREC10', 'REC10', 'CAXOP10', 'ORA10']]\n",
        "y = dados['VM30Abril11']\n",
        "\n",
        "# Configurar a validação cruzada com 10 folds\n",
        "kf = KFold(n_splits=10, shuffle=True, random_state=42)\n",
        "\n",
        "# Listas para armazenar resultados\n",
        "medae_scores = []\n",
        "r2_scores = []\n",
        "\n",
        "# Treinar e avaliar o modelo dentro da amostra usando validação cruzada\n",
        "for train_index, test_index in kf.split(X):\n",
        "    X_train, X_test = X.iloc[train_index], X.iloc[test_index]\n",
        "    y_train, y_test = y.iloc[train_index], y.iloc[test_index]\n",
        "\n",
        "    # Criar o modelo de regressão de rede neural com os parâmetros desejados\n",
        "    modelo_rede_neural = MLPRegressor(hidden_layer_sizes=(100, 50), max_iter=1000, random_state=42)\n",
        "\n",
        "    modelo_rede_neural.fit(X_train, y_train)\n",
        "    y_pred = modelo_rede_neural.predict(X_test)\n",
        "\n",
        "    # Calcular o MedAE escalado pelo valor (ou preço) em percentagem\n",
        "    medae = np.median(np.abs(y_test - y_pred))\n",
        "    valor_medio_y = np.mean(y_test)\n",
        "    medae_scaled = (medae / valor_medio_y) * 100  # Em percentagem\n",
        "    medae_scores.append(medae_scaled)\n",
        "\n",
        "    # Calcular o R²\n",
        "    r2 = r2_score(y_test, y_pred)\n",
        "    r2_scores.append(r2)\n",
        "\n",
        "# Média do MedAE escalado pelo valor (ou preço) em percentagem\n",
        "mean_medae_scaled = np.mean(medae_scores)\n",
        "print(\"Média do MedAE escalado pelo valor (ou preço) em percentagem:\", mean_medae_scaled)\n",
        "\n",
        "# Média do R²\n",
        "mean_r2 = np.mean(r2_scores)\n",
        "print(\"Média do R²:\", mean_r2)\n"
      ],
      "metadata": {
        "id": "yygOLB39c4OY",
        "outputId": "54d08b13-80ff-4c90-e404-4513e4159577",
        "colab": {
          "base_uri": "https://localhost:8080/"
        }
      },
      "execution_count": null,
      "outputs": [
        {
          "output_type": "stream",
          "name": "stdout",
          "text": [
            "Média do MedAE escalado pelo valor (ou preço) em percentagem: 12.801316925478613\n",
            "Média do R²: 0.7046287538694587\n"
          ]
        }
      ]
    }
  ]
}