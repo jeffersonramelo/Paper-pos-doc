{
  "nbformat": 4,
  "nbformat_minor": 0,
  "metadata": {
    "colab": {
      "provenance": [],
      "authorship_tag": "ABX9TyMHaUXw3xbWeW+jRZED4NPr",
      "include_colab_link": true
    },
    "kernelspec": {
      "name": "python3",
      "display_name": "Python 3"
    },
    "language_info": {
      "name": "python"
    }
  },
  "cells": [
    {
      "cell_type": "markdown",
      "metadata": {
        "id": "view-in-github",
        "colab_type": "text"
      },
      "source": [
        "<a href=\"https://colab.research.google.com/github/jeffersonramelo/Paper-pos-doc/blob/main/R2_dentro_e_fora_da_amostra.ipynb\" target=\"_parent\"><img src=\"https://colab.research.google.com/assets/colab-badge.svg\" alt=\"Open In Colab\"/></a>"
      ]
    },
    {
      "cell_type": "code",
      "source": [
        "import pandas as pd\n",
        "\n",
        "# Caminho para o arquivo XLSX\n",
        "caminho_arquivo = '/content/dados todos sem escala.xlsx'\n",
        "\n",
        "# Lê o arquivo XLSX\n",
        "dados = pd.read_excel(caminho_arquivo)"
      ],
      "metadata": {
        "id": "DOE1GbH_7pjb"
      },
      "execution_count": 321,
      "outputs": []
    },
    {
      "cell_type": "code",
      "source": [
        "# Supondo que 'dados' seja o seu DataFrame\n",
        "\n",
        "# Converter a coluna 't' para o tipo de dado datetime, se ainda não estiver no formato adequado\n",
        "dados['t'] = pd.to_datetime(dados['t'], format='%Y')\n",
        "\n",
        "# Definir as datas de início e fim para o intervalo desejado\n",
        "data_inicio = pd.to_datetime('2010')\n",
        "data_fim = pd.to_datetime('2013')\n",
        "\n",
        "# Filtrar os dados para extrair apenas as linhas no intervalo de 2010 a 2011\n",
        "dados = dados.query('@data_inicio <= t <= @data_fim')\n",
        "\n",
        "# Agora, 'dados_2010_2011' contém apenas as linhas com valores de 't' no intervalo de 2010 a 2011.\n"
      ],
      "metadata": {
        "id": "YQWboq9TRV5K"
      },
      "execution_count": 322,
      "outputs": []
    },
    {
      "cell_type": "markdown",
      "source": [
        "excluir setor financeiro e empresas com PL negativo, numeros faltante e transformar eventuais caracteres em números"
      ],
      "metadata": {
        "id": "kEKhC6-Wf6ro"
      }
    },
    {
      "cell_type": "code",
      "source": [
        "# Agora, vamos remover as linhas onde 'd9' seja igual a 1\n",
        "#dados = dados[dados['d11'] != 1]\n",
        "# Converte a coluna 'PL2010' para números (float) e remove as linhas onde 'PL2010' seja negativo\n",
        "dados['PL2010'] = pd.to_numeric(dados['PL2010'], errors='coerce')  # 'coerce' trata strings não numéricas como NaN\n",
        "dados = dados[dados['PL2010'] > 0]\n",
        "\n",
        "# Agora, vamos remover as linhas onde 'VM30Abril11' seja igual a '-'\n",
        "dados = dados[dados['VM30Abril2011'] != '-']\n",
        "dados = dados[dados['PL2010'] != '-']\n",
        "dados = dados[dados['LL2010'] != '-']\n",
        "dados = dados[dados['AT2009'] != '-']\n",
        "dados = dados[dados['AT2009'] != '0']\n",
        "\n",
        "#transforma as variáveis em números\n",
        "dados['AT2009'] = pd.to_numeric(dados['AT2009'], errors='coerce')\n",
        "dados['LL2010'] = pd.to_numeric(dados['LL2010'], errors='coerce')\n",
        "dados['VM30Abril2011'] = pd.to_numeric(dados['VM30Abril2011'], errors='coerce')\n",
        "dados['PL2010'] = pd.to_numeric(dados['PL2010'], errors='coerce')\n",
        "\n",
        "# Lista de variáveis que você deseja escalonar\n",
        "variaveis = ['VM30Abril2011', 'PL2010', 'LL2010', 'AT2009']\n",
        "\n",
        "# Verifique o tipo de dados de cada coluna\n",
        "for coluna in variaveis:\n",
        "    print(f\"Tipo de dados da coluna {coluna}: {dados[coluna].dtype}\")\n"
      ],
      "metadata": {
        "colab": {
          "base_uri": "https://localhost:8080/"
        },
        "id": "-cQ_iqhOf9H_",
        "outputId": "198cf414-9f2b-4e15-86f0-6d03fafa6165"
      },
      "execution_count": 323,
      "outputs": [
        {
          "output_type": "stream",
          "name": "stdout",
          "text": [
            "Tipo de dados da coluna VM30Abril2011: float64\n",
            "Tipo de dados da coluna PL2010: float64\n",
            "Tipo de dados da coluna LL2010: float64\n",
            "Tipo de dados da coluna AT2009: float64\n"
          ]
        }
      ]
    },
    {
      "cell_type": "code",
      "source": [
        "dados"
      ],
      "metadata": {
        "id": "g4ALoo97RCcW",
        "outputId": "b0c00cc2-55fc-437e-e66d-a5c18b274b3e",
        "colab": {
          "base_uri": "https://localhost:8080/",
          "height": 424
        }
      },
      "execution_count": 324,
      "outputs": [
        {
          "output_type": "execute_result",
          "data": {
            "text/plain": [
              "       COD          t  VM30Abril2011      PL2010     LL2010      AT2009\n",
              "0    EALT4 2010-01-01   6.072750e+04     45809.0     5927.0    143196.0\n",
              "1    ALPA4 2010-01-01   3.893923e+06   1310475.0   306341.0   1748959.0\n",
              "2    ABEV3 2010-01-01   1.422082e+08  24361863.0  7561383.0  40101017.0\n",
              "3    AMER3 2010-01-01   2.382110e+06    225945.0    33587.0   2324320.0\n",
              "4    CBEE3 2010-01-01   4.773374e+06   1583469.0   216092.0   4589050.0\n",
              "..     ...        ...            ...         ...        ...         ...\n",
              "773  WEGE3 2013-01-01   2.170456e+07   4557772.0   843467.0   8873550.0\n",
              "775  WHRL4 2013-01-01   5.837070e+06   2351149.0   812747.0   5968374.0\n",
              "776  PORT3 2013-01-01   2.312180e+06   1202450.0    94554.0   2556539.0\n",
              "777  WLMM4 2013-01-01   5.957913e+05    479303.0    19373.0    658138.0\n",
              "778  YDUQ3 2013-01-01   7.058865e+06   1517642.0   244707.0   1239810.0\n",
              "\n",
              "[706 rows x 6 columns]"
            ],
            "text/html": [
              "\n",
              "  <div id=\"df-66a3575b-4c1c-4244-8208-ff55e703fee6\" class=\"colab-df-container\">\n",
              "    <div>\n",
              "<style scoped>\n",
              "    .dataframe tbody tr th:only-of-type {\n",
              "        vertical-align: middle;\n",
              "    }\n",
              "\n",
              "    .dataframe tbody tr th {\n",
              "        vertical-align: top;\n",
              "    }\n",
              "\n",
              "    .dataframe thead th {\n",
              "        text-align: right;\n",
              "    }\n",
              "</style>\n",
              "<table border=\"1\" class=\"dataframe\">\n",
              "  <thead>\n",
              "    <tr style=\"text-align: right;\">\n",
              "      <th></th>\n",
              "      <th>COD</th>\n",
              "      <th>t</th>\n",
              "      <th>VM30Abril2011</th>\n",
              "      <th>PL2010</th>\n",
              "      <th>LL2010</th>\n",
              "      <th>AT2009</th>\n",
              "    </tr>\n",
              "  </thead>\n",
              "  <tbody>\n",
              "    <tr>\n",
              "      <th>0</th>\n",
              "      <td>EALT4</td>\n",
              "      <td>2010-01-01</td>\n",
              "      <td>6.072750e+04</td>\n",
              "      <td>45809.0</td>\n",
              "      <td>5927.0</td>\n",
              "      <td>143196.0</td>\n",
              "    </tr>\n",
              "    <tr>\n",
              "      <th>1</th>\n",
              "      <td>ALPA4</td>\n",
              "      <td>2010-01-01</td>\n",
              "      <td>3.893923e+06</td>\n",
              "      <td>1310475.0</td>\n",
              "      <td>306341.0</td>\n",
              "      <td>1748959.0</td>\n",
              "    </tr>\n",
              "    <tr>\n",
              "      <th>2</th>\n",
              "      <td>ABEV3</td>\n",
              "      <td>2010-01-01</td>\n",
              "      <td>1.422082e+08</td>\n",
              "      <td>24361863.0</td>\n",
              "      <td>7561383.0</td>\n",
              "      <td>40101017.0</td>\n",
              "    </tr>\n",
              "    <tr>\n",
              "      <th>3</th>\n",
              "      <td>AMER3</td>\n",
              "      <td>2010-01-01</td>\n",
              "      <td>2.382110e+06</td>\n",
              "      <td>225945.0</td>\n",
              "      <td>33587.0</td>\n",
              "      <td>2324320.0</td>\n",
              "    </tr>\n",
              "    <tr>\n",
              "      <th>4</th>\n",
              "      <td>CBEE3</td>\n",
              "      <td>2010-01-01</td>\n",
              "      <td>4.773374e+06</td>\n",
              "      <td>1583469.0</td>\n",
              "      <td>216092.0</td>\n",
              "      <td>4589050.0</td>\n",
              "    </tr>\n",
              "    <tr>\n",
              "      <th>...</th>\n",
              "      <td>...</td>\n",
              "      <td>...</td>\n",
              "      <td>...</td>\n",
              "      <td>...</td>\n",
              "      <td>...</td>\n",
              "      <td>...</td>\n",
              "    </tr>\n",
              "    <tr>\n",
              "      <th>773</th>\n",
              "      <td>WEGE3</td>\n",
              "      <td>2013-01-01</td>\n",
              "      <td>2.170456e+07</td>\n",
              "      <td>4557772.0</td>\n",
              "      <td>843467.0</td>\n",
              "      <td>8873550.0</td>\n",
              "    </tr>\n",
              "    <tr>\n",
              "      <th>775</th>\n",
              "      <td>WHRL4</td>\n",
              "      <td>2013-01-01</td>\n",
              "      <td>5.837070e+06</td>\n",
              "      <td>2351149.0</td>\n",
              "      <td>812747.0</td>\n",
              "      <td>5968374.0</td>\n",
              "    </tr>\n",
              "    <tr>\n",
              "      <th>776</th>\n",
              "      <td>PORT3</td>\n",
              "      <td>2013-01-01</td>\n",
              "      <td>2.312180e+06</td>\n",
              "      <td>1202450.0</td>\n",
              "      <td>94554.0</td>\n",
              "      <td>2556539.0</td>\n",
              "    </tr>\n",
              "    <tr>\n",
              "      <th>777</th>\n",
              "      <td>WLMM4</td>\n",
              "      <td>2013-01-01</td>\n",
              "      <td>5.957913e+05</td>\n",
              "      <td>479303.0</td>\n",
              "      <td>19373.0</td>\n",
              "      <td>658138.0</td>\n",
              "    </tr>\n",
              "    <tr>\n",
              "      <th>778</th>\n",
              "      <td>YDUQ3</td>\n",
              "      <td>2013-01-01</td>\n",
              "      <td>7.058865e+06</td>\n",
              "      <td>1517642.0</td>\n",
              "      <td>244707.0</td>\n",
              "      <td>1239810.0</td>\n",
              "    </tr>\n",
              "  </tbody>\n",
              "</table>\n",
              "<p>706 rows × 6 columns</p>\n",
              "</div>\n",
              "    <div class=\"colab-df-buttons\">\n",
              "\n",
              "  <div class=\"colab-df-container\">\n",
              "    <button class=\"colab-df-convert\" onclick=\"convertToInteractive('df-66a3575b-4c1c-4244-8208-ff55e703fee6')\"\n",
              "            title=\"Convert this dataframe to an interactive table.\"\n",
              "            style=\"display:none;\">\n",
              "\n",
              "  <svg xmlns=\"http://www.w3.org/2000/svg\" height=\"24px\" viewBox=\"0 -960 960 960\">\n",
              "    <path d=\"M120-120v-720h720v720H120Zm60-500h600v-160H180v160Zm220 220h160v-160H400v160Zm0 220h160v-160H400v160ZM180-400h160v-160H180v160Zm440 0h160v-160H620v160ZM180-180h160v-160H180v160Zm440 0h160v-160H620v160Z\"/>\n",
              "  </svg>\n",
              "    </button>\n",
              "\n",
              "  <style>\n",
              "    .colab-df-container {\n",
              "      display:flex;\n",
              "      gap: 12px;\n",
              "    }\n",
              "\n",
              "    .colab-df-convert {\n",
              "      background-color: #E8F0FE;\n",
              "      border: none;\n",
              "      border-radius: 50%;\n",
              "      cursor: pointer;\n",
              "      display: none;\n",
              "      fill: #1967D2;\n",
              "      height: 32px;\n",
              "      padding: 0 0 0 0;\n",
              "      width: 32px;\n",
              "    }\n",
              "\n",
              "    .colab-df-convert:hover {\n",
              "      background-color: #E2EBFA;\n",
              "      box-shadow: 0px 1px 2px rgba(60, 64, 67, 0.3), 0px 1px 3px 1px rgba(60, 64, 67, 0.15);\n",
              "      fill: #174EA6;\n",
              "    }\n",
              "\n",
              "    .colab-df-buttons div {\n",
              "      margin-bottom: 4px;\n",
              "    }\n",
              "\n",
              "    [theme=dark] .colab-df-convert {\n",
              "      background-color: #3B4455;\n",
              "      fill: #D2E3FC;\n",
              "    }\n",
              "\n",
              "    [theme=dark] .colab-df-convert:hover {\n",
              "      background-color: #434B5C;\n",
              "      box-shadow: 0px 1px 3px 1px rgba(0, 0, 0, 0.15);\n",
              "      filter: drop-shadow(0px 1px 2px rgba(0, 0, 0, 0.3));\n",
              "      fill: #FFFFFF;\n",
              "    }\n",
              "  </style>\n",
              "\n",
              "    <script>\n",
              "      const buttonEl =\n",
              "        document.querySelector('#df-66a3575b-4c1c-4244-8208-ff55e703fee6 button.colab-df-convert');\n",
              "      buttonEl.style.display =\n",
              "        google.colab.kernel.accessAllowed ? 'block' : 'none';\n",
              "\n",
              "      async function convertToInteractive(key) {\n",
              "        const element = document.querySelector('#df-66a3575b-4c1c-4244-8208-ff55e703fee6');\n",
              "        const dataTable =\n",
              "          await google.colab.kernel.invokeFunction('convertToInteractive',\n",
              "                                                    [key], {});\n",
              "        if (!dataTable) return;\n",
              "\n",
              "        const docLinkHtml = 'Like what you see? Visit the ' +\n",
              "          '<a target=\"_blank\" href=https://colab.research.google.com/notebooks/data_table.ipynb>data table notebook</a>'\n",
              "          + ' to learn more about interactive tables.';\n",
              "        element.innerHTML = '';\n",
              "        dataTable['output_type'] = 'display_data';\n",
              "        await google.colab.output.renderOutput(dataTable, element);\n",
              "        const docLink = document.createElement('div');\n",
              "        docLink.innerHTML = docLinkHtml;\n",
              "        element.appendChild(docLink);\n",
              "      }\n",
              "    </script>\n",
              "  </div>\n",
              "\n",
              "\n",
              "<div id=\"df-ff528da6-5643-4672-b3ca-75119932668d\">\n",
              "  <button class=\"colab-df-quickchart\" onclick=\"quickchart('df-ff528da6-5643-4672-b3ca-75119932668d')\"\n",
              "            title=\"Suggest charts.\"\n",
              "            style=\"display:none;\">\n",
              "\n",
              "<svg xmlns=\"http://www.w3.org/2000/svg\" height=\"24px\"viewBox=\"0 0 24 24\"\n",
              "     width=\"24px\">\n",
              "    <g>\n",
              "        <path d=\"M19 3H5c-1.1 0-2 .9-2 2v14c0 1.1.9 2 2 2h14c1.1 0 2-.9 2-2V5c0-1.1-.9-2-2-2zM9 17H7v-7h2v7zm4 0h-2V7h2v10zm4 0h-2v-4h2v4z\"/>\n",
              "    </g>\n",
              "</svg>\n",
              "  </button>\n",
              "\n",
              "<style>\n",
              "  .colab-df-quickchart {\n",
              "      --bg-color: #E8F0FE;\n",
              "      --fill-color: #1967D2;\n",
              "      --hover-bg-color: #E2EBFA;\n",
              "      --hover-fill-color: #174EA6;\n",
              "      --disabled-fill-color: #AAA;\n",
              "      --disabled-bg-color: #DDD;\n",
              "  }\n",
              "\n",
              "  [theme=dark] .colab-df-quickchart {\n",
              "      --bg-color: #3B4455;\n",
              "      --fill-color: #D2E3FC;\n",
              "      --hover-bg-color: #434B5C;\n",
              "      --hover-fill-color: #FFFFFF;\n",
              "      --disabled-bg-color: #3B4455;\n",
              "      --disabled-fill-color: #666;\n",
              "  }\n",
              "\n",
              "  .colab-df-quickchart {\n",
              "    background-color: var(--bg-color);\n",
              "    border: none;\n",
              "    border-radius: 50%;\n",
              "    cursor: pointer;\n",
              "    display: none;\n",
              "    fill: var(--fill-color);\n",
              "    height: 32px;\n",
              "    padding: 0;\n",
              "    width: 32px;\n",
              "  }\n",
              "\n",
              "  .colab-df-quickchart:hover {\n",
              "    background-color: var(--hover-bg-color);\n",
              "    box-shadow: 0 1px 2px rgba(60, 64, 67, 0.3), 0 1px 3px 1px rgba(60, 64, 67, 0.15);\n",
              "    fill: var(--button-hover-fill-color);\n",
              "  }\n",
              "\n",
              "  .colab-df-quickchart-complete:disabled,\n",
              "  .colab-df-quickchart-complete:disabled:hover {\n",
              "    background-color: var(--disabled-bg-color);\n",
              "    fill: var(--disabled-fill-color);\n",
              "    box-shadow: none;\n",
              "  }\n",
              "\n",
              "  .colab-df-spinner {\n",
              "    border: 2px solid var(--fill-color);\n",
              "    border-color: transparent;\n",
              "    border-bottom-color: var(--fill-color);\n",
              "    animation:\n",
              "      spin 1s steps(1) infinite;\n",
              "  }\n",
              "\n",
              "  @keyframes spin {\n",
              "    0% {\n",
              "      border-color: transparent;\n",
              "      border-bottom-color: var(--fill-color);\n",
              "      border-left-color: var(--fill-color);\n",
              "    }\n",
              "    20% {\n",
              "      border-color: transparent;\n",
              "      border-left-color: var(--fill-color);\n",
              "      border-top-color: var(--fill-color);\n",
              "    }\n",
              "    30% {\n",
              "      border-color: transparent;\n",
              "      border-left-color: var(--fill-color);\n",
              "      border-top-color: var(--fill-color);\n",
              "      border-right-color: var(--fill-color);\n",
              "    }\n",
              "    40% {\n",
              "      border-color: transparent;\n",
              "      border-right-color: var(--fill-color);\n",
              "      border-top-color: var(--fill-color);\n",
              "    }\n",
              "    60% {\n",
              "      border-color: transparent;\n",
              "      border-right-color: var(--fill-color);\n",
              "    }\n",
              "    80% {\n",
              "      border-color: transparent;\n",
              "      border-right-color: var(--fill-color);\n",
              "      border-bottom-color: var(--fill-color);\n",
              "    }\n",
              "    90% {\n",
              "      border-color: transparent;\n",
              "      border-bottom-color: var(--fill-color);\n",
              "    }\n",
              "  }\n",
              "</style>\n",
              "\n",
              "  <script>\n",
              "    async function quickchart(key) {\n",
              "      const quickchartButtonEl =\n",
              "        document.querySelector('#' + key + ' button');\n",
              "      quickchartButtonEl.disabled = true;  // To prevent multiple clicks.\n",
              "      quickchartButtonEl.classList.add('colab-df-spinner');\n",
              "      try {\n",
              "        const charts = await google.colab.kernel.invokeFunction(\n",
              "            'suggestCharts', [key], {});\n",
              "      } catch (error) {\n",
              "        console.error('Error during call to suggestCharts:', error);\n",
              "      }\n",
              "      quickchartButtonEl.classList.remove('colab-df-spinner');\n",
              "      quickchartButtonEl.classList.add('colab-df-quickchart-complete');\n",
              "    }\n",
              "    (() => {\n",
              "      let quickchartButtonEl =\n",
              "        document.querySelector('#df-ff528da6-5643-4672-b3ca-75119932668d button');\n",
              "      quickchartButtonEl.style.display =\n",
              "        google.colab.kernel.accessAllowed ? 'block' : 'none';\n",
              "    })();\n",
              "  </script>\n",
              "</div>\n",
              "    </div>\n",
              "  </div>\n"
            ]
          },
          "metadata": {},
          "execution_count": 324
        }
      ]
    },
    {
      "cell_type": "markdown",
      "source": [
        "ESCALONAMENTO DAS VARIÁVEIS"
      ],
      "metadata": {
        "id": "9GCa_0_0pZBs"
      }
    },
    {
      "cell_type": "code",
      "source": [
        "#variaveis = ['VM30Abril2011', 'PL2010', 'LL2010']\n",
        "\n",
        "#for coluna in variaveis:\n",
        " #   dados[coluna] = dados[coluna] / dados['AT2009']\n"
      ],
      "metadata": {
        "id": "A7MYj6i9h6LO"
      },
      "execution_count": 325,
      "outputs": []
    },
    {
      "cell_type": "markdown",
      "source": [
        "WINSORIZAÇÃO: tratar outliers: A winsorização ao nível de 1% envolve substituir os 1% dos valores mais extremos por valores no limite do intervalo aceitável, ou seja, os 1% menores e os 1% maiores dos valores."
      ],
      "metadata": {
        "id": "95LYGQCnbVVn"
      }
    },
    {
      "cell_type": "code",
      "source": [
        "import pandas as pd\n",
        "import numpy as np\n",
        "from scipy.stats import mstats\n",
        "\n",
        "# Supondo que seu DataFrame se chame \"dados\"\n",
        "\n",
        "# Lista de variáveis para winsorizar\n",
        "variaveis_winsorizar = ['VM30Abril2011', 'PL2010', 'LL2010', 'AT2009']\n",
        "\n",
        "# Converter as colunas para números, tratando não numéricos como NaN\n",
        "for coluna in variaveis_winsorizar:\n",
        "    dados[coluna] = pd.to_numeric(dados[coluna], errors='coerce')\n",
        "\n",
        "# Aplicar winsorização de 1% nas variáveis\n",
        "for coluna in variaveis_winsorizar:\n",
        "    dados[coluna] = mstats.winsorize(dados[coluna], limits=[0.01, 0.01])\n",
        "\n",
        "# Agora, as variáveis especificadas foram winsorizadas\n"
      ],
      "metadata": {
        "id": "lOpHHKqnzgzN"
      },
      "execution_count": 326,
      "outputs": []
    },
    {
      "cell_type": "markdown",
      "source": [
        "MQO_SIMPLES"
      ],
      "metadata": {
        "id": "9rBG78W6yny2"
      }
    },
    {
      "cell_type": "code",
      "source": [
        "import statsmodels.api as sm\n",
        "import numpy as np\n",
        "import pandas as pd\n",
        "from sklearn.model_selection import KFold\n",
        "from sklearn.metrics import r2_score\n",
        "\n",
        "# Suponha que 'dados' seja o DataFrame com suas variáveis\n",
        "X = dados[['PL2010', 'LL2010']]\n",
        "y = dados['VM30Abril2011']\n",
        "\n",
        "# Certifique-se de que os tipos de dados sejam numéricos\n",
        "X = X.astype(float)\n",
        "y = y.astype(float)\n",
        "\n",
        "# Adicione uma constante ao conjunto de variáveis independentes\n",
        "X = sm.add_constant(X)\n",
        "\n",
        "# Configurar a validação cruzada com 10 folds\n",
        "kf = KFold(n_splits=10, shuffle=True, random_state=42)\n",
        "\n",
        "# Listas para armazenar resultados\n",
        "r2_in_sample_scores = []\n",
        "r2_out_of_sample_scores = []\n",
        "\n",
        "# Treinar e avaliar o modelo usando validação cruzada\n",
        "for train_index, test_index in kf.split(X):\n",
        "    X_train, X_test = X.iloc[train_index], X.iloc[test_index]\n",
        "    y_train, y_test = y.iloc[train_index], y.iloc[test_index]\n",
        "\n",
        "    # Crie o modelo de regressão linear\n",
        "    modelo = sm.OLS(y_train, X_train).fit()\n",
        "\n",
        "    # Calcule o R^2 dentro da amostra\n",
        "    r2_in_sample = modelo.rsquared\n",
        "    r2_in_sample_scores.append(r2_in_sample)\n",
        "\n",
        "    # Faça previsões no conjunto de teste\n",
        "    y_pred = modelo.predict(X_test)\n",
        "\n",
        "    # Calcule o R^2 fora da amostra\n",
        "    r2_out_of_sample = r2_score(y_test, y_pred)\n",
        "    r2_out_of_sample_scores.append(r2_out_of_sample)\n",
        "\n",
        "# Média dos R^2 dentro e fora da amostra\n",
        "media_r2_in_sample = np.mean(r2_in_sample_scores)\n",
        "media_r2_out_of_sample = np.mean(r2_out_of_sample_scores)\n",
        "\n",
        "print(\"Média do R^2 dentro da amostra:\", media_r2_in_sample)\n",
        "print(\"Média do R^2 fora da amostra:\", media_r2_out_of_sample)\n"
      ],
      "metadata": {
        "colab": {
          "base_uri": "https://localhost:8080/"
        },
        "id": "yFDRcTz2tag0",
        "outputId": "f32db8b7-453e-4d97-ba88-c97064c02f9d"
      },
      "execution_count": 327,
      "outputs": [
        {
          "output_type": "stream",
          "name": "stdout",
          "text": [
            "Média do R^2 dentro da amostra: 0.8974931065617252\n",
            "Média do R^2 fora da amostra: 0.7255387518141255\n"
          ]
        }
      ]
    },
    {
      "cell_type": "markdown",
      "source": [
        "MQP - MODELO SIMPLES"
      ],
      "metadata": {
        "id": "IXhYrWVgKtFr"
      }
    },
    {
      "cell_type": "code",
      "source": [
        "import statsmodels.api as sm\n",
        "import numpy as np\n",
        "import pandas as pd\n",
        "from sklearn.model_selection import KFold\n",
        "from sklearn.metrics import r2_score\n",
        "\n",
        "# Suponha que 'dados' seja o DataFrame com suas variáveis\n",
        "X = dados[['PL2010', 'LL2010']]\n",
        "y = dados['VM30Abril2011']\n",
        "\n",
        "# Certifique-se de que os tipos de dados sejam numéricos\n",
        "X = X.astype(float)\n",
        "y = y.astype(float)\n",
        "\n",
        "# Adicione uma constante ao conjunto de variáveis independentes\n",
        "X = sm.add_constant(X)\n",
        "\n",
        "# Configurar a validação cruzada com 10 folds\n",
        "kf = KFold(n_splits=10, shuffle=True, random_state=42)\n",
        "\n",
        "# Listas para armazenar resultados\n",
        "r2_in_sample_scores = []\n",
        "r2_out_of_sample_scores = []\n",
        "\n",
        "# Treinar e avaliar o modelo robusto usando validação cruzada\n",
        "for train_index, test_index in kf.split(X):\n",
        "    X_train, X_test = X.iloc[train_index], X.iloc[test_index]\n",
        "    y_train, y_test = y.iloc[train_index], y.iloc[test_index]\n",
        "\n",
        "    # Crie o modelo de regressão robusta\n",
        "    modelo_robusto = sm.RLM(y_train, X_train, M=sm.robust.norms.HuberT()).fit()\n",
        "\n",
        "    # Calcule o R^2 dentro da amostra\n",
        "    r2_in_sample = r2_score(y_train, modelo_robusto.fittedvalues)\n",
        "    r2_in_sample_scores.append(r2_in_sample)\n",
        "\n",
        "    # Faça previsões no conjunto de teste\n",
        "    y_pred = modelo_robusto.predict(X_test)\n",
        "\n",
        "    # Calcule o R^2 fora da amostra\n",
        "    r2_out_of_sample = r2_score(y_test, y_pred)\n",
        "    r2_out_of_sample_scores.append(r2_out_of_sample)\n",
        "\n",
        "# Média dos R^2 dentro e fora da amostra\n",
        "media_r2_in_sample = np.mean(r2_in_sample_scores)\n",
        "media_r2_out_of_sample = np.mean(r2_out_of_sample_scores)\n",
        "\n",
        "print(\"Média do R^2 dentro da amostra:\", media_r2_in_sample)\n",
        "print(\"Média do R^2 fora da amostra:\", media_r2_out_of_sample)\n"
      ],
      "metadata": {
        "colab": {
          "base_uri": "https://localhost:8080/"
        },
        "id": "3iW_XFFBt1fM",
        "outputId": "87e350f4-68c6-4673-b93b-4830f4669aa7"
      },
      "execution_count": 328,
      "outputs": [
        {
          "output_type": "stream",
          "name": "stdout",
          "text": [
            "Média do R^2 dentro da amostra: 0.894529434797588\n",
            "Média do R^2 fora da amostra: 0.7406501851210263\n"
          ]
        }
      ]
    },
    {
      "cell_type": "markdown",
      "source": [
        "RB_Simples (LINEAR)"
      ],
      "metadata": {
        "id": "X-hPlPqnNEYC"
      }
    },
    {
      "cell_type": "code",
      "source": [
        "from sklearn.linear_model import BayesianRidge\n",
        "from sklearn.model_selection import KFold\n",
        "from sklearn.metrics import median_absolute_error, r2_score\n",
        "import numpy as np\n",
        "\n",
        "# Suponha que 'dados' seja o DataFrame com suas variáveis\n",
        "X = dados[['PL2010', 'LL2010']]\n",
        "y = dados['VM30Abril2011']\n",
        "\n",
        "# Configurar a validação cruzada com 10 folds\n",
        "kf = KFold(n_splits=10, shuffle=True, random_state=42)\n",
        "\n",
        "# Listas para armazenar resultados\n",
        "medae_scores = []\n",
        "r2_in_sample_scores = []\n",
        "r2_out_of_sample_scores = []\n",
        "\n",
        "# Treinar e avaliar o modelo usando validação cruzada\n",
        "for train_index, test_index in kf.split(X):\n",
        "    X_train, X_test = X.iloc[train_index], X.iloc[test_index]\n",
        "    y_train, y_test = y.iloc[train_index], y.iloc[test_index]\n",
        "\n",
        "    # Criar o modelo Bayesian Ridge\n",
        "    modelo_bayesiano = BayesianRidge()\n",
        "\n",
        "    modelo_bayesiano.fit(X_train, y_train)\n",
        "    y_pred = modelo_bayesiano.predict(X_test)\n",
        "\n",
        "    # Calcular o erro mediano absoluto (Median Absolute Error)\n",
        "    medae = median_absolute_error(y_test, y_pred)\n",
        "    medae_scores.append(medae)\n",
        "\n",
        "    # Calcular o R^2 dentro da amostra\n",
        "    y_train_pred = modelo_bayesiano.predict(X_train)\n",
        "    r2_in_sample = r2_score(y_train, y_train_pred)\n",
        "    r2_in_sample_scores.append(r2_in_sample)\n",
        "\n",
        "    # Calcular o R^2 fora da amostra\n",
        "    r2_out_of_sample = r2_score(y_test, y_pred)\n",
        "    r2_out_of_sample_scores.append(r2_out_of_sample)\n",
        "\n",
        "# Média das métricas de avaliação em todas as dobras\n",
        "media_medae = np.mean(medae_scores)\n",
        "media_r2_in_sample = np.mean(r2_in_sample_scores)\n",
        "media_r2_out_of_sample = np.mean(r2_out_of_sample_scores)\n",
        "\n",
        "print(\"Média do Median Absolute Error (MedAE):\", media_medae)\n",
        "print(\"Média do R^2 dentro da amostra:\", media_r2_in_sample)\n",
        "print(\"Média do R^2 fora da amostra:\", media_r2_out_of_sample)\n"
      ],
      "metadata": {
        "colab": {
          "base_uri": "https://localhost:8080/"
        },
        "id": "zhVHFzGruRfG",
        "outputId": "92e8e2ad-c566-48b8-ac1e-15b9502abd90"
      },
      "execution_count": 329,
      "outputs": [
        {
          "output_type": "stream",
          "name": "stdout",
          "text": [
            "Média do Median Absolute Error (MedAE): 1214237.546615288\n",
            "Média do R^2 dentro da amostra: 0.8974925584544928\n",
            "Média do R^2 fora da amostra: 0.7259096425571964\n"
          ]
        }
      ]
    },
    {
      "cell_type": "markdown",
      "source": [
        "SVR (NÃO LINEAR)"
      ],
      "metadata": {
        "id": "NIw0ZhcK_9OC"
      }
    },
    {
      "cell_type": "code",
      "source": [
        "from sklearn.svm import SVR\n",
        "from sklearn.model_selection import KFold\n",
        "from sklearn.metrics import median_absolute_error, r2_score\n",
        "import numpy as np\n",
        "\n",
        "# Suponha que 'dados' seja o DataFrame com suas variáveis\n",
        "X = dados[['PL2010', 'LL2010']]\n",
        "y = dados['VM30Abril2011']\n",
        "\n",
        "# Configurar a validação cruzada com 10 folds\n",
        "kf = KFold(n_splits=10, shuffle=True, random_state=42)\n",
        "\n",
        "# Listas para armazenar resultados\n",
        "medae_scores = []\n",
        "r2_in_sample_scores = []\n",
        "r2_out_of_sample_scores = []\n",
        "\n",
        "# Treinar e avaliar o modelo usando validação cruzada\n",
        "for train_index, test_index in kf.split(X):\n",
        "    X_train, X_test = X.iloc[train_index], X.iloc[test_index]\n",
        "    y_train, y_test = y.iloc[train_index], y.iloc[test_index]\n",
        "\n",
        "    # Criar o modelo SVR com kernel RBF\n",
        "    modelo_svr = SVR(kernel='poly', degree=3, C=1.0)\n",
        "\n",
        "    modelo_svr.fit(X_train, y_train)\n",
        "    y_pred = modelo_svr.predict(X_test)\n",
        "\n",
        "    # Calcular o erro mediano absoluto (Median Absolute Error)\n",
        "    medae = median_absolute_error(y_test, y_pred)\n",
        "    medae_scores.append(medae)\n",
        "\n",
        "    # Calcular o R^2 dentro da amostra\n",
        "    y_train_pred = modelo_svr.predict(X_train)\n",
        "    r2_in_sample = r2_score(y_train, y_train_pred)\n",
        "    r2_in_sample_scores.append(r2_in_sample)\n",
        "\n",
        "    # Calcular o R^2 fora da amostra\n",
        "    r2_out_of_sample = r2_score(y_test, y_pred)\n",
        "    r2_out_of_sample_scores.append(r2_out_of_sample)\n",
        "\n",
        "# Média das métricas de avaliação em todas as dobras\n",
        "media_medae = np.mean(medae_scores)\n",
        "media_r2_in_sample = np.mean(r2_in_sample_scores)\n",
        "media_r2_out_of_sample = np.mean(r2_out_of_sample_scores)\n",
        "\n",
        "print(\"Média do Median Absolute Error (MedAE):\", media_medae)\n",
        "print(\"Média do R^2 dentro da amostra:\", media_r2_in_sample)\n",
        "print(\"Média do R^2 fora da amostra:\", media_r2_out_of_sample)\n"
      ],
      "metadata": {
        "colab": {
          "base_uri": "https://localhost:8080/"
        },
        "id": "Rnlls5HAuxgO",
        "outputId": "375bdfa8-ac47-4bfb-8297-aab45f249d23"
      },
      "execution_count": 330,
      "outputs": [
        {
          "output_type": "stream",
          "name": "stdout",
          "text": [
            "Média do Median Absolute Error (MedAE): 1768092.6446285523\n",
            "Média do R^2 dentro da amostra: -0.03846030364732156\n",
            "Média do R^2 fora da amostra: -0.06723384167508295\n"
          ]
        }
      ]
    },
    {
      "cell_type": "markdown",
      "source": [
        "CART_simples (NÃO LINEAR)"
      ],
      "metadata": {
        "id": "ZYtjgE_9OP3j"
      }
    },
    {
      "cell_type": "code",
      "source": [
        "from sklearn.tree import DecisionTreeRegressor\n",
        "from sklearn.ensemble import BaggingRegressor\n",
        "from sklearn.model_selection import KFold\n",
        "from sklearn.metrics import mean_absolute_error, mean_squared_error, r2_score\n",
        "import numpy as np\n",
        "\n",
        "# Suponha que 'dados' seja o DataFrame com suas variáveis\n",
        "X = dados[['PL2010', 'LL2010']]\n",
        "y = dados['VM30Abril2011']\n",
        "\n",
        "# Configurar a validação cruzada com 10 folds\n",
        "kf = KFold(n_splits=10, shuffle=True, random_state=42)\n",
        "\n",
        "# Listas para armazenar resultados\n",
        "mae_scores = []\n",
        "mse_scores = []\n",
        "r2_in_sample_scores = []\n",
        "r2_out_of_sample_scores = []\n",
        "\n",
        "# Treinar e avaliar o modelo usando validação cruzada\n",
        "for train_index, test_index in kf.split(X):\n",
        "    X_train, X_test = X.iloc[train_index], X.iloc[test_index]\n",
        "    y_train, y_test = y.iloc[train_index], y.iloc[test_index]\n",
        "\n",
        "    # Criar o modelo de árvore de decisão com os parâmetros desejados\n",
        "    modelo_arvore = DecisionTreeRegressor(min_samples_split=5, random_state=42)\n",
        "\n",
        "    # Criar o modelo Bagging com 500 árvores\n",
        "    bagging_model = BaggingRegressor(base_estimator=modelo_arvore, n_estimators=500, bootstrap=True, random_state=42)\n",
        "\n",
        "    bagging_model.fit(X_train, y_train)\n",
        "    y_pred = bagging_model.predict(X_test)\n",
        "\n",
        "    # Calcular as métricas de avaliação\n",
        "    mae = mean_absolute_error(y_test, y_pred)\n",
        "    mse = mean_squared_error(y_test, y_pred)\n",
        "    r2_in_sample = bagging_model.score(X_train, y_train)\n",
        "    r2_out_of_sample = bagging_model.score(X_test, y_test)\n",
        "\n",
        "    mae_scores.append(mae)\n",
        "    mse_scores.append(mse)\n",
        "    r2_in_sample_scores.append(r2_in_sample)\n",
        "    r2_out_of_sample_scores.append(r2_out_of_sample)\n",
        "\n",
        "# Média das métricas de avaliação em todas as dobras\n",
        "media_mae = np.mean(mae_scores)\n",
        "media_mse = np.mean(mse_scores)\n",
        "media_r2_in_sample = np.mean(r2_in_sample_scores)\n",
        "media_r2_out_of_sample = np.mean(r2_out_of_sample_scores)\n",
        "\n",
        "print(\"Média do Mean Absolute Error (MAE):\", media_mae)\n",
        "print(\"Média do Mean Squared Error (MSE):\", media_mse)\n",
        "print(\"Média do R^2 dentro da amostra:\", media_r2_in_sample)\n",
        "print(\"Média do R^2 fora da amostra:\", media_r2_out_of_sample)\n"
      ],
      "metadata": {
        "colab": {
          "base_uri": "https://localhost:8080/"
        },
        "id": "tDPjYJvxvNBX",
        "outputId": "76e65543-94d1-4226-d5d6-f699cc506d9e"
      },
      "execution_count": 331,
      "outputs": [
        {
          "output_type": "stream",
          "name": "stderr",
          "text": [
            "/usr/local/lib/python3.10/dist-packages/sklearn/ensemble/_base.py:166: FutureWarning: `base_estimator` was renamed to `estimator` in version 1.2 and will be removed in 1.4.\n",
            "  warnings.warn(\n",
            "/usr/local/lib/python3.10/dist-packages/sklearn/ensemble/_base.py:166: FutureWarning: `base_estimator` was renamed to `estimator` in version 1.2 and will be removed in 1.4.\n",
            "  warnings.warn(\n",
            "/usr/local/lib/python3.10/dist-packages/sklearn/ensemble/_base.py:166: FutureWarning: `base_estimator` was renamed to `estimator` in version 1.2 and will be removed in 1.4.\n",
            "  warnings.warn(\n",
            "/usr/local/lib/python3.10/dist-packages/sklearn/ensemble/_base.py:166: FutureWarning: `base_estimator` was renamed to `estimator` in version 1.2 and will be removed in 1.4.\n",
            "  warnings.warn(\n",
            "/usr/local/lib/python3.10/dist-packages/sklearn/ensemble/_base.py:166: FutureWarning: `base_estimator` was renamed to `estimator` in version 1.2 and will be removed in 1.4.\n",
            "  warnings.warn(\n",
            "/usr/local/lib/python3.10/dist-packages/sklearn/ensemble/_base.py:166: FutureWarning: `base_estimator` was renamed to `estimator` in version 1.2 and will be removed in 1.4.\n",
            "  warnings.warn(\n",
            "/usr/local/lib/python3.10/dist-packages/sklearn/ensemble/_base.py:166: FutureWarning: `base_estimator` was renamed to `estimator` in version 1.2 and will be removed in 1.4.\n",
            "  warnings.warn(\n",
            "/usr/local/lib/python3.10/dist-packages/sklearn/ensemble/_base.py:166: FutureWarning: `base_estimator` was renamed to `estimator` in version 1.2 and will be removed in 1.4.\n",
            "  warnings.warn(\n",
            "/usr/local/lib/python3.10/dist-packages/sklearn/ensemble/_base.py:166: FutureWarning: `base_estimator` was renamed to `estimator` in version 1.2 and will be removed in 1.4.\n",
            "  warnings.warn(\n",
            "/usr/local/lib/python3.10/dist-packages/sklearn/ensemble/_base.py:166: FutureWarning: `base_estimator` was renamed to `estimator` in version 1.2 and will be removed in 1.4.\n",
            "  warnings.warn(\n"
          ]
        },
        {
          "output_type": "stream",
          "name": "stdout",
          "text": [
            "Média do Mean Absolute Error (MAE): 2445154.07563145\n",
            "Média do Mean Squared Error (MSE): 50427563785201.766\n",
            "Média do R^2 dentro da amostra: 0.9855108115886466\n",
            "Média do R^2 fora da amostra: 0.8446261759487428\n"
          ]
        }
      ]
    },
    {
      "cell_type": "markdown",
      "source": [
        "FLORESTA ALEATÓRIA (NÃO LINEAR)"
      ],
      "metadata": {
        "id": "OZLbiycNZm26"
      }
    },
    {
      "cell_type": "code",
      "source": [
        "from sklearn.ensemble import RandomForestRegressor\n",
        "from sklearn.model_selection import KFold\n",
        "from sklearn.metrics import mean_absolute_error, mean_squared_error, r2_score\n",
        "import numpy as np\n",
        "\n",
        "# Supondo que 'dados' seja o DataFrame com suas variáveis\n",
        "X = dados[['PL2010', 'LL2010']]\n",
        "y = dados['VM30Abril2011']\n",
        "\n",
        "# Certifique-se de que os tipos de dados sejam numéricos\n",
        "X = X.astype(float)\n",
        "y = y.astype(float)\n",
        "\n",
        "# Configurar a validação cruzada com 10 folds\n",
        "kf = KFold(n_splits=10, shuffle=True, random_state=42)\n",
        "\n",
        "# Listas para armazenar resultados\n",
        "medae_scores = []\n",
        "r2_scores_insample = []\n",
        "r2_scores_outsample = []\n",
        "\n",
        "# Treinar e avaliar o modelo dentro e fora da amostra usando validação cruzada\n",
        "for train_index, test_index in kf.split(X):\n",
        "    X_train, X_test = X.iloc[train_index], X.iloc[test_index]\n",
        "    y_train, y_test = y.iloc[train_index], y.iloc[test_index]\n",
        "\n",
        "    # Criar o modelo de Floresta Aleatória com os parâmetros desejados\n",
        "    random_forest_model = RandomForestRegressor(n_estimators=500, random_state=42)\n",
        "    random_forest_model.fit(X_train, y_train)\n",
        "\n",
        "    # Previsões dentro da amostra\n",
        "    y_pred_insample = random_forest_model.predict(X_train)\n",
        "    r2_insample = r2_score(y_train, y_pred_insample)\n",
        "    r2_scores_insample.append(r2_insample)\n",
        "\n",
        "    # Previsões fora da amostra\n",
        "    y_pred_outsample = random_forest_model.predict(X_test)\n",
        "    r2_outsample = r2_score(y_test, y_pred_outsample)\n",
        "    r2_scores_outsample.append(r2_outsample)\n",
        "\n",
        "# Calcular as médias das métricas\n",
        "avg_medae = np.mean(medae_scores)\n",
        "avg_r2_insample = np.mean(r2_scores_insample)\n",
        "avg_r2_outsample = np.mean(r2_scores_outsample)\n",
        "\n",
        "print(f'Média MAE: {avg_medae}')\n",
        "print(f'Média R² dentro da amostra: {avg_r2_insample}')\n",
        "print(f'Média R² fora da amostra: {avg_r2_outsample}')\n"
      ],
      "metadata": {
        "colab": {
          "base_uri": "https://localhost:8080/"
        },
        "id": "s-974AgLcd84",
        "outputId": "538e2988-936a-4783-b28c-44ba9f840dd1"
      },
      "execution_count": 318,
      "outputs": [
        {
          "output_type": "stream",
          "name": "stdout",
          "text": [
            "Média MAE: nan\n",
            "Média R² dentro da amostra: 0.988128730049743\n",
            "Média R² fora da amostra: 0.8443021134106807\n"
          ]
        },
        {
          "output_type": "stream",
          "name": "stderr",
          "text": [
            "/usr/local/lib/python3.10/dist-packages/numpy/core/fromnumeric.py:3432: RuntimeWarning: Mean of empty slice.\n",
            "  return _methods._mean(a, axis=axis, dtype=dtype,\n",
            "/usr/local/lib/python3.10/dist-packages/numpy/core/_methods.py:190: RuntimeWarning: invalid value encountered in double_scalars\n",
            "  ret = ret.dtype.type(ret / rcount)\n"
          ]
        }
      ]
    },
    {
      "cell_type": "markdown",
      "source": [
        "GRADIENT BOOSTING (NÃO LINEAR)"
      ],
      "metadata": {
        "id": "gReIxsDPa_9B"
      }
    },
    {
      "cell_type": "code",
      "source": [
        "from sklearn.ensemble import GradientBoostingRegressor\n",
        "from sklearn.model_selection import KFold\n",
        "from sklearn.metrics import mean_absolute_error, mean_squared_error, r2_score\n",
        "import numpy as np\n",
        "\n",
        "# Supondo que 'dados' seja o DataFrame com suas variáveis\n",
        "X = dados[['PL2010', 'LL2010']]\n",
        "y = dados['VM30Abril2011']\n",
        "\n",
        "# Configurar a validação cruzada com 10 folds\n",
        "kf = KFold(n_splits=10, shuffle=True, random_state=42)\n",
        "\n",
        "# Listas para armazenar resultados\n",
        "medae_scores = []\n",
        "r2_scores_insample = []\n",
        "r2_scores_outsample = []\n",
        "\n",
        "# Treinar e avaliar o modelo dentro e fora da amostra usando validação cruzada\n",
        "for train_index, test_index in kf.split(X):\n",
        "    X_train, X_test = X.iloc[train_index], X.iloc[test_index]\n",
        "    y_train, y_test = y.iloc[train_index], y.iloc[test_index]\n",
        "\n",
        "    # Criar o modelo de Regressão Gradient Boosting com os parâmetros desejados\n",
        "    gradient_boosting_model = GradientBoostingRegressor(n_estimators=500, random_state=42)\n",
        "\n",
        "    gradient_boosting_model.fit(X_train, y_train)\n",
        "\n",
        "    # Previsões dentro da amostra\n",
        "    y_pred_insample = gradient_boosting_model.predict(X_train)\n",
        "    r2_insample = r2_score(y_train, y_pred_insample)\n",
        "    r2_scores_insample.append(r2_insample)\n",
        "\n",
        "    # Previsões fora da amostra\n",
        "    y_pred_outsample = gradient_boosting_model.predict(X_test)\n",
        "    r2_outsample = r2_score(y_test, y_pred_outsample)\n",
        "    r2_scores_outsample.append(r2_outsample)\n",
        "\n",
        "# Calcular as médias das métricas\n",
        "avg_medae = np.mean(medae_scores)\n",
        "avg_r2_insample = np.mean(r2_scores_insample)\n",
        "avg_r2_outsample = np.mean(r2_scores_outsample)\n",
        "\n",
        "print(f'Média MAE: {avg_medae}')\n",
        "print(f'Média R² dentro da amostra: {avg_r2_insample}')\n",
        "print(f'Média R² fora da amostra: {avg_r2_outsample}')\n"
      ],
      "metadata": {
        "colab": {
          "base_uri": "https://localhost:8080/"
        },
        "id": "qKjzwMc7dA2W",
        "outputId": "756e410b-d28d-4e7a-8b14-af0b05fb9260"
      },
      "execution_count": 319,
      "outputs": [
        {
          "output_type": "stream",
          "name": "stdout",
          "text": [
            "Média MAE: nan\n",
            "Média R² dentro da amostra: 0.99652718324335\n",
            "Média R² fora da amostra: 0.8388469654511186\n"
          ]
        },
        {
          "output_type": "stream",
          "name": "stderr",
          "text": [
            "/usr/local/lib/python3.10/dist-packages/numpy/core/fromnumeric.py:3432: RuntimeWarning: Mean of empty slice.\n",
            "  return _methods._mean(a, axis=axis, dtype=dtype,\n",
            "/usr/local/lib/python3.10/dist-packages/numpy/core/_methods.py:190: RuntimeWarning: invalid value encountered in double_scalars\n",
            "  ret = ret.dtype.type(ret / rcount)\n"
          ]
        }
      ]
    },
    {
      "cell_type": "markdown",
      "source": [
        "REDES NEURAIS (NÃO LINEAR)"
      ],
      "metadata": {
        "id": "Gy8Aqujjc2rw"
      }
    },
    {
      "cell_type": "code",
      "source": [
        "from sklearn.neural_network import MLPRegressor\n",
        "from sklearn.model_selection import KFold\n",
        "from sklearn.metrics import mean_absolute_error, mean_squared_error, r2_score\n",
        "import numpy as np\n",
        "\n",
        "# Supondo que 'dados' seja o DataFrame com suas variáveis\n",
        "X = dados[['PL2010', 'LL2010']]\n",
        "y = dados['VM30Abril2011']\n",
        "\n",
        "# Configurar a validação cruzada com 10 folds\n",
        "kf = KFold(n_splits=10, shuffle=True, random_state=42)\n",
        "\n",
        "# Listas para armazenar resultados\n",
        "medae_scores = []\n",
        "r2_scores = []\n",
        "r2_out_of_sample_scores = []  # Para armazenar R² fora da amostra\n",
        "\n",
        "# Treinar e avaliar o modelo dentro da amostra usando validação cruzada\n",
        "for train_index, test_index in kf.split(X):\n",
        "    X_train, X_test = X.iloc[train_index], X.iloc[test_index]\n",
        "    y_train, y_test = y.iloc[train_index], y.iloc[test_index]\n",
        "\n",
        "    # Criar o modelo de regressão de rede neural com os parâmetros desejados\n",
        "    modelo_rede_neural = MLPRegressor(hidden_layer_sizes=(30), max_iter=1000, random_state=42)\n",
        "\n",
        "    modelo_rede_neural.fit(X_train, y_train)\n",
        "    y_pred_train = modelo_rede_neural.predict(X_train)\n",
        "    y_pred_test = modelo_rede_neural.predict(X_test)\n",
        "\n",
        "    r2_train = r2_score(y_train, y_pred_train)  # R² dentro da amostra\n",
        "    r2_test = r2_score(y_test, y_pred_test)    # R² fora da amostra\n",
        "\n",
        "    r2_scores.append(r2_train)\n",
        "    r2_out_of_sample_scores.append(r2_test)\n",
        "\n",
        "# Média dos R² dentro da amostra e fora da amostra\n",
        "mean_r2_within_sample = np.mean(r2_scores)\n",
        "mean_r2_out_of_sample = np.mean(r2_out_of_sample_scores)\n",
        "\n",
        "print(f'Média R² dentro da amostra: {mean_r2_within_sample}')\n",
        "print(f'Média R² fora da amostra: {mean_r2_out_of_sample}')\n"
      ],
      "metadata": {
        "colab": {
          "base_uri": "https://localhost:8080/"
        },
        "id": "8DWJFQP1gcFc",
        "outputId": "64f9307d-442d-4e38-f30e-f0ae76e90cae"
      },
      "execution_count": 320,
      "outputs": [
        {
          "output_type": "stream",
          "name": "stdout",
          "text": [
            "Média R² dentro da amostra: 0.90318979000431\n",
            "Média R² fora da amostra: 0.7682028012900154\n"
          ]
        }
      ]
    }
  ]
}