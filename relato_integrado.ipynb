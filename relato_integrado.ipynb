{
  "nbformat": 4,
  "nbformat_minor": 0,
  "metadata": {
    "colab": {
      "provenance": [],
      "authorship_tag": "ABX9TyO6wzR4hkKBwWhDH5VNFTBe",
      "include_colab_link": true
    },
    "kernelspec": {
      "name": "python3",
      "display_name": "Python 3"
    },
    "language_info": {
      "name": "python"
    }
  },
  "cells": [
    {
      "cell_type": "markdown",
      "metadata": {
        "id": "view-in-github",
        "colab_type": "text"
      },
      "source": [
        "<a href=\"https://colab.research.google.com/github/jeffersonramelo/Paper-pos-doc/blob/main/relato_integrado.ipynb\" target=\"_parent\"><img src=\"https://colab.research.google.com/assets/colab-badge.svg\" alt=\"Open In Colab\"/></a>"
      ]
    },
    {
      "cell_type": "code",
      "execution_count": 2,
      "metadata": {
        "id": "_TC1Bc091tRO"
      },
      "outputs": [],
      "source": [
        "import pandas as pd\n",
        "\n",
        "# Caminho para o arquivo XLSX\n",
        "caminho_arquivo = '/content/relato integrado completo2.xlsx'\n",
        "\n",
        "# Lê o arquivo XLSX\n",
        "dados = pd.read_excel(caminho_arquivo)"
      ]
    },
    {
      "cell_type": "markdown",
      "source": [
        "excluir setor financeiro e empresas com PL negativo, numeros faltante e transformar eventuais caracteres em números"
      ],
      "metadata": {
        "id": "Lf43TUDn2CRG"
      }
    },
    {
      "cell_type": "code",
      "source": [
        "# Agora, vamos remover as linhas onde 'd9' seja igual a 1\n",
        "dados = dados[dados['d11'] != 1]\n",
        "# Converte a coluna 'PL' para números (float) e remove as linhas onde 'PL' seja negativo\n",
        "dados['PL'] = pd.to_numeric(dados['PL'], errors='coerce')  # 'coerce' trata strings não numéricas como NaN\n",
        "dados = dados[dados['PL'] > 0]\n",
        "\n",
        "# Agora, vamos remover as linhas onde 'VM30Abril11' seja igual a '-'\n",
        "dados = dados[dados['VM30Abrilt+1'] != '-']\n",
        "dados = dados[dados['PL'] != '-']\n",
        "dados = dados[dados['LL'] != '-']\n",
        "dados = dados[dados['AT'] != '-']\n",
        "dados = dados[dados['AT'] != '0']\n",
        "dados = dados[dados['at-1'] != '-']\n",
        "dados = dados[dados['at-1'] != '0']\n",
        "\n",
        "#transforma as variáveis em números\n",
        "dados['at-1'] = pd.to_numeric(dados['at-1'], errors='coerce')\n",
        "dados['AT'] = pd.to_numeric(dados['AT'], errors='coerce')\n",
        "dados['LL'] = pd.to_numeric(dados['LL'], errors='coerce')\n",
        "dados['VM30Abrilt+1'] = pd.to_numeric(dados['VM30Abrilt+1'], errors='coerce')\n",
        "dados['PL'] = pd.to_numeric(dados['PL'], errors='coerce')\n",
        "\n",
        "# Lista de variáveis que você deseja escalonar\n",
        "variaveis = ['VM30Abrilt+1', 'PL', 'LL', 'at-1', 'AT']\n",
        "\n",
        "# Verifique o tipo de dados de cada coluna\n",
        "for coluna in variaveis:\n",
        "    print(f\"Tipo de dados da coluna {coluna}: {dados[coluna].dtype}\")\n"
      ],
      "metadata": {
        "colab": {
          "base_uri": "https://localhost:8080/"
        },
        "id": "-cQ_iqhOf9H_",
        "outputId": "456fb68a-1542-40e3-d81a-62862fbf0798"
      },
      "execution_count": 3,
      "outputs": [
        {
          "output_type": "stream",
          "name": "stdout",
          "text": [
            "Tipo de dados da coluna VM30Abrilt+1: float64\n",
            "Tipo de dados da coluna PL: float64\n",
            "Tipo de dados da coluna LL: float64\n",
            "Tipo de dados da coluna at-1: float64\n",
            "Tipo de dados da coluna AT: float64\n"
          ]
        },
        {
          "output_type": "stream",
          "name": "stderr",
          "text": [
            "<ipython-input-3-513d05fd18a4>:4: SettingWithCopyWarning: \n",
            "A value is trying to be set on a copy of a slice from a DataFrame.\n",
            "Try using .loc[row_indexer,col_indexer] = value instead\n",
            "\n",
            "See the caveats in the documentation: https://pandas.pydata.org/pandas-docs/stable/user_guide/indexing.html#returning-a-view-versus-a-copy\n",
            "  dados['PL'] = pd.to_numeric(dados['PL'], errors='coerce')  # 'coerce' trata strings não numéricas como NaN\n"
          ]
        }
      ]
    },
    {
      "cell_type": "markdown",
      "source": [
        "ESCALONAMENTO DAS VARIÁVEIS"
      ],
      "metadata": {
        "id": "vSRBrvxf4FQ0"
      }
    },
    {
      "cell_type": "code",
      "source": [
        "variaveis = ['VM30Abrilt+1', 'PL', 'LL']\n",
        "\n",
        "for coluna in variaveis:\n",
        "    dados[coluna] = dados[coluna] / dados['at-1']\n"
      ],
      "metadata": {
        "id": "FrO8jbOM4I38",
        "outputId": "b03dcc6b-cdbc-4316-c9c0-210290c698dc",
        "colab": {
          "base_uri": "https://localhost:8080/",
          "height": 213
        }
      },
      "execution_count": 1,
      "outputs": [
        {
          "output_type": "error",
          "ename": "NameError",
          "evalue": "ignored",
          "traceback": [
            "\u001b[0;31m---------------------------------------------------------------------------\u001b[0m",
            "\u001b[0;31mNameError\u001b[0m                                 Traceback (most recent call last)",
            "\u001b[0;32m<ipython-input-1-6e75bdd01a79>\u001b[0m in \u001b[0;36m<cell line: 3>\u001b[0;34m()\u001b[0m\n\u001b[1;32m      2\u001b[0m \u001b[0;34m\u001b[0m\u001b[0m\n\u001b[1;32m      3\u001b[0m \u001b[0;32mfor\u001b[0m \u001b[0mcoluna\u001b[0m \u001b[0;32min\u001b[0m \u001b[0mvariaveis\u001b[0m\u001b[0;34m:\u001b[0m\u001b[0;34m\u001b[0m\u001b[0;34m\u001b[0m\u001b[0m\n\u001b[0;32m----> 4\u001b[0;31m     \u001b[0mdados\u001b[0m\u001b[0;34m[\u001b[0m\u001b[0mcoluna\u001b[0m\u001b[0;34m]\u001b[0m \u001b[0;34m=\u001b[0m \u001b[0mdados\u001b[0m\u001b[0;34m[\u001b[0m\u001b[0mcoluna\u001b[0m\u001b[0;34m]\u001b[0m \u001b[0;34m/\u001b[0m \u001b[0mdados\u001b[0m\u001b[0;34m[\u001b[0m\u001b[0;34m'at-1'\u001b[0m\u001b[0;34m]\u001b[0m\u001b[0;34m\u001b[0m\u001b[0;34m\u001b[0m\u001b[0m\n\u001b[0m",
            "\u001b[0;31mNameError\u001b[0m: name 'dados' is not defined"
          ]
        }
      ]
    },
    {
      "cell_type": "markdown",
      "source": [
        "WINSORIZAÇÃO: tratar outliers: A winsorização ao nível de 1% envolve substituir os 1% dos valores mais extremos por valores no limite do intervalo aceitável, ou seja, os 1% menores e os 1% maiores dos valores."
      ],
      "metadata": {
        "id": "mr9bqQpy4NEL"
      }
    },
    {
      "cell_type": "code",
      "source": [
        "import pandas as pd\n",
        "import numpy as np\n",
        "from scipy.stats import mstats\n",
        "\n",
        "# Supondo que seu DataFrame se chame \"dados\"\n",
        "\n",
        "# Lista de variáveis para winsorizar\n",
        "variaveis_winsorizar = ['VM30Abrilt+1', 'PL', 'LL', 'at-1', 'AT']\n",
        "\n",
        "# Converter as colunas para números, tratando não numéricos como NaN\n",
        "for coluna in variaveis_winsorizar:\n",
        "    dados[coluna] = pd.to_numeric(dados[coluna], errors='coerce')\n",
        "\n",
        "# Aplicar winsorização de 1% nas variáveis\n",
        "for coluna in variaveis_winsorizar:\n",
        "    dados[coluna] = mstats.winsorize(dados[coluna], limits=[0.01, 0.01])\n",
        "\n",
        "# Agora, as variáveis especificadas foram winsorizadas\n"
      ],
      "metadata": {
        "id": "JJ-ZB6fD4Lzt"
      },
      "execution_count": null,
      "outputs": []
    },
    {
      "cell_type": "code",
      "source": [
        "import pandas as pd\n",
        "import statsmodels.api as sm\n",
        "\n",
        "# Suponha que você já tenha seu DataFrame 'dados' com as variáveis PL, LL, VM30Abrilt+1, t e ri.\n",
        "\n",
        "# Vamos criar variáveis de interação entre 't' e 'ri' para calcular o efeito DID.\n",
        "dados['t_ri'] = dados['t'] * dados['ri']\n",
        "\n",
        "model = sm.OLS(dados['VM30Abrilt+1'], sm.add_constant(dados[['PL', 'LL', 'ri', 't', 't_ri']])).fit()\n",
        "\n",
        "# Visualize os resultados do modelo.\n",
        "print(model.summary())\n"
      ],
      "metadata": {
        "id": "7ItVZdJr7gTE",
        "outputId": "58e487a4-eb73-4f5d-be17-c369014d04e8",
        "colab": {
          "base_uri": "https://localhost:8080/"
        }
      },
      "execution_count": 5,
      "outputs": [
        {
          "output_type": "stream",
          "name": "stdout",
          "text": [
            "                            OLS Regression Results                            \n",
            "==============================================================================\n",
            "Dep. Variable:           VM30Abrilt+1   R-squared:                       0.736\n",
            "Model:                            OLS   Adj. R-squared:                  0.735\n",
            "Method:                 Least Squares   F-statistic:                     703.7\n",
            "Date:                Tue, 24 Oct 2023   Prob (F-statistic):               0.00\n",
            "Time:                        13:44:39   Log-Likelihood:                -23115.\n",
            "No. Observations:                1266   AIC:                         4.624e+04\n",
            "Df Residuals:                    1260   BIC:                         4.627e+04\n",
            "Df Model:                           5                                         \n",
            "Covariance Type:            nonrobust                                         \n",
            "==============================================================================\n",
            "                 coef    std err          t      P>|t|      [0.025      0.975]\n",
            "------------------------------------------------------------------------------\n",
            "const       1.363e+09   7.02e+08      1.940      0.053   -1.53e+07    2.74e+09\n",
            "PL             1.2652      0.032     39.466      0.000       1.202       1.328\n",
            "LL             0.0340      0.108      0.314      0.754      -0.178       0.246\n",
            "ri          9.082e+09   4.57e+09      1.985      0.047    1.07e+08    1.81e+10\n",
            "t          -6.731e+05   3.48e+05     -1.935      0.053   -1.36e+06    9171.493\n",
            "t_ri       -4.481e+06   2.26e+06     -1.979      0.048   -8.92e+06   -3.96e+04\n",
            "==============================================================================\n",
            "Omnibus:                     1623.885   Durbin-Watson:                   1.982\n",
            "Prob(Omnibus):                  0.000   Jarque-Bera (JB):           412322.610\n",
            "Skew:                           6.582   Prob(JB):                         0.00\n",
            "Kurtosis:                      90.426   Cond. No.                     2.21e+11\n",
            "==============================================================================\n",
            "\n",
            "Notes:\n",
            "[1] Standard Errors assume that the covariance matrix of the errors is correctly specified.\n",
            "[2] The condition number is large, 2.21e+11. This might indicate that there are\n",
            "strong multicollinearity or other numerical problems.\n"
          ]
        }
      ]
    }
  ]
}