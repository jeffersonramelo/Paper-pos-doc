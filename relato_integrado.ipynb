{
  "nbformat": 4,
  "nbformat_minor": 0,
  "metadata": {
    "colab": {
      "provenance": [],
      "authorship_tag": "ABX9TyP7iDVisKzOdcBt5GYa5w5W",
      "include_colab_link": true
    },
    "kernelspec": {
      "name": "python3",
      "display_name": "Python 3"
    },
    "language_info": {
      "name": "python"
    }
  },
  "cells": [
    {
      "cell_type": "markdown",
      "metadata": {
        "id": "view-in-github",
        "colab_type": "text"
      },
      "source": [
        "<a href=\"https://colab.research.google.com/github/jeffersonramelo/Paper-pos-doc/blob/main/relato_integrado.ipynb\" target=\"_parent\"><img src=\"https://colab.research.google.com/assets/colab-badge.svg\" alt=\"Open In Colab\"/></a>"
      ]
    },
    {
      "cell_type": "code",
      "execution_count": 6,
      "metadata": {
        "id": "_TC1Bc091tRO"
      },
      "outputs": [],
      "source": [
        "import pandas as pd\n",
        "\n",
        "# Caminho para o arquivo XLSX\n",
        "caminho_arquivo = '/content/relato integrado completo2.xlsx'\n",
        "\n",
        "# Lê o arquivo XLSX\n",
        "dados = pd.read_excel(caminho_arquivo)"
      ]
    },
    {
      "cell_type": "markdown",
      "source": [
        "excluir setor financeiro e empresas com PL negativo, numeros faltante e transformar eventuais caracteres em números"
      ],
      "metadata": {
        "id": "Lf43TUDn2CRG"
      }
    },
    {
      "cell_type": "code",
      "source": [
        "# Agora, vamos remover as linhas onde 'd9' seja igual a 1\n",
        "dados = dados[dados['d11'] != 1]\n",
        "# Converte a coluna 'PL' para números (float) e remove as linhas onde 'PL' seja negativo\n",
        "dados['PL'] = pd.to_numeric(dados['PL'], errors='coerce')  # 'coerce' trata strings não numéricas como NaN\n",
        "dados = dados[dados['PL'] > 0]\n",
        "\n",
        "# Agora, vamos remover as linhas onde 'VM30Abril11' seja igual a '-'\n",
        "dados = dados[dados['VM30Abrilt+1'] != '-']\n",
        "dados = dados[dados['PL'] != '-']\n",
        "dados = dados[dados['LL'] != '-']\n",
        "dados = dados[dados['AT'] != '-']\n",
        "dados = dados[dados['AT'] != '0']\n",
        "dados = dados[dados['at-1'] != '-']\n",
        "dados = dados[dados['at-1'] != '0']\n",
        "\n",
        "#transforma as variáveis em números\n",
        "dados['at-1'] = pd.to_numeric(dados['at-1'], errors='coerce')\n",
        "dados['AT'] = pd.to_numeric(dados['AT'], errors='coerce')\n",
        "dados['LL'] = pd.to_numeric(dados['LL'], errors='coerce')\n",
        "dados['VM30Abrilt+1'] = pd.to_numeric(dados['VM30Abrilt+1'], errors='coerce')\n",
        "dados['PL'] = pd.to_numeric(dados['PL'], errors='coerce')\n",
        "\n",
        "# Lista de variáveis que você deseja escalonar\n",
        "variaveis = ['VM30Abrilt+1', 'PL', 'LL', 'at-1', 'AT']\n",
        "\n",
        "# Verifique o tipo de dados de cada coluna\n",
        "for coluna in variaveis:\n",
        "    print(f\"Tipo de dados da coluna {coluna}: {dados[coluna].dtype}\")\n"
      ],
      "metadata": {
        "colab": {
          "base_uri": "https://localhost:8080/"
        },
        "id": "-cQ_iqhOf9H_",
        "outputId": "11a2b69d-142e-4dff-d1d5-758537b5f719"
      },
      "execution_count": 7,
      "outputs": [
        {
          "output_type": "stream",
          "name": "stdout",
          "text": [
            "Tipo de dados da coluna VM30Abrilt+1: float64\n",
            "Tipo de dados da coluna PL: float64\n",
            "Tipo de dados da coluna LL: float64\n",
            "Tipo de dados da coluna at-1: float64\n",
            "Tipo de dados da coluna AT: float64\n"
          ]
        },
        {
          "output_type": "stream",
          "name": "stderr",
          "text": [
            "<ipython-input-7-513d05fd18a4>:4: SettingWithCopyWarning: \n",
            "A value is trying to be set on a copy of a slice from a DataFrame.\n",
            "Try using .loc[row_indexer,col_indexer] = value instead\n",
            "\n",
            "See the caveats in the documentation: https://pandas.pydata.org/pandas-docs/stable/user_guide/indexing.html#returning-a-view-versus-a-copy\n",
            "  dados['PL'] = pd.to_numeric(dados['PL'], errors='coerce')  # 'coerce' trata strings não numéricas como NaN\n"
          ]
        }
      ]
    }
  ]
}